{
 "cells": [
  {
   "cell_type": "code",
   "execution_count": 1,
   "id": "12f774f1",
   "metadata": {},
   "outputs": [],
   "source": [
    "import numpy as np"
   ]
  },
  {
   "cell_type": "code",
   "execution_count": 6,
   "id": "93ad613f",
   "metadata": {},
   "outputs": [],
   "source": [
    "def nds(nu, i, sigma):\n",
    "    return nu[i]*dist[i]*sigma[i]"
   ]
  },
  {
   "cell_type": "code",
   "execution_count": 3,
   "id": "6e7913e2",
   "metadata": {},
   "outputs": [],
   "source": [
    "def calc_dust_evol(sigma, sigma_d, vn, dt):\n",
    "    # sigma:   gas  density\n",
    "    # sigma_d: dust density\n",
    "    # vn:      dust advection velocity\n",
    "    # dt:      timestep (in sec)\n",
    "    n  = len(sigma)\n",
    "    Ad = np.empty(n)\n",
    "    Bd = np.empty(n)\n",
    "    Cd = np.empty(n)\n",
    "    dt2 = dt ** 2\n",
    "    # A(i,i)S(i,j+1) = S(i,j)     ... Ad(i)\n",
    "    for i in range(n):\n",
    "        Ad[i] = (-dt2/(dr*dr) * (0.5*nds(nu,i-1) + nds(nu,i) + 0.5*nds(nu,i+1))/sigma[i]) / dist[i]\n",
    "\n",
    "        # add advection term, considering upwind scheme\n",
    "        if (vn[i]<0):\n",
    "            Ad[i] += vn[i]*dt2/dr\n",
    "            \n",
    "        if (vn[i+1]>0 and i<(ngrid-1)):\n",
    "            Ad[i] -= vn[i+1]*dt2/dr\n",
    "\n",
    "    # A(i+1,i)S(i+1,j+1) = S(i,j) ... Bd(i)\n",
    "    for i in range(n-1):\n",
    "        Bd[i] =  (dt2/(dr*dr) * 0.5*(nds(nu,i) + nds(nu,i+1))/sigma[i+1]) / dist[i]\n",
    "        \n",
    "        if (vn[i+1] < 0):\n",
    "            Bd[i] -= (dist[i+1]/dist[i]) * vn[i+1]*dt2/dr\n",
    "\n",
    "    # A(i-1,i)S(i-1,j+1) = S(i,j) ... Cd(i)\n",
    "    for i in range(1,n):\n",
    "        Cd[i] =  (dt2/(dr*dr) * 0.5*(nds(nu,i-1) + nds(nu,i))/sigma[i-1]) / dist[i]\n",
    "\n",
    "        if (vn[i]>0):\n",
    "            Cd[i] += (dist[i-1]/dist[i]) * vn[i]*dt2/dr\n",
    "\n",
    "\n",
    "    sigma_d = solve_Crank_Nicolson(Ad, Bd, Cd, sigma_d)\n",
    "    # end of calc_dust_evol\n",
    "   "
   ]
  },
  {
   "cell_type": "code",
   "execution_count": 4,
   "id": "93016966",
   "metadata": {},
   "outputs": [],
   "source": [
    "# Solve ODE using Crank-Nicolson method\n",
    "def solve_Crank_Nicolson(Ao, Bo, Co, S):\n",
    "    theta = 0.5\n",
    "    \n",
    "    # explicit side\n",
    "    n = len(S)\n",
    "    S1 = np.empty(n)\n",
    "    for i in range(n):\n",
    "        S1[i] = Co[i]*theta*S[max(0,i-1)] + (1+Ao[i]*theta)*S[i] + Bo[i]*theta*S[min(i+1, ngrid-1)]\n",
    "    \n",
    "    # convert to implicit-solver matrix\n",
    "    Ai = np.empty(n)\n",
    "    Bi = np.empty(n)\n",
    "    Ci = np.empty(n)\n",
    "    \n",
    "    for i in range(n):\n",
    "        Ai[i] = 1.0 - Ao[i]*(1-theta)\n",
    "    for i in range(n-1):\n",
    "        Bi[i] =     - Bo[i]*(1-theta)\n",
    "    for i in range(1,n):\n",
    "        Ci[i] =     - Co[i]*(1-theta)\n",
    "    \n",
    "    # solve tridiag\n",
    "    S2 = solve_tridiag(Ai, Bi, Ci, S1)\n",
    "\n",
    "    return S2"
   ]
  },
  {
   "cell_type": "code",
   "execution_count": 5,
   "id": "d615977f",
   "metadata": {},
   "outputs": [],
   "source": [
    "def solve_tridiag(Ao, Bo, Co, S):\n",
    "    A = Ao\n",
    "    B = Bo\n",
    "    C = Co;\n",
    "    \n",
    "    imax = len(A);\n",
    "    if (imax != len(B) or imax != len(C)):\n",
    "        print(\"diffuse.cpp/solve_tridiag: wrong vector size.\")\n",
    "    \n",
    "    # 1st row\n",
    "    B[0] /= A[0]\n",
    "    S[0] /= A[0]\n",
    "    A[0] = 1.0\n",
    "    \n",
    "    for j in range(1, imax):\n",
    "        # swipe out C[j] to 0.0\n",
    "        A[j] -= B[j-1] * C[j]\n",
    "        S[j] -= S[j-1] * C[j]\n",
    "        C[j] = 0.0\n",
    "        \n",
    "        #  divide each component by A \n",
    "        B[j] /= A[j]\n",
    "        S[j] /= A[j]\n",
    "        A[j] = 1.0\n",
    "    \n",
    "    # solve diag\n",
    "    for j in range(imax-2, -1, -1):\n",
    "        # last row ... A[j-1] Sn[j-1] = Sb[j-1] */\n",
    "        S[j] -= S[j+1] * B[j]\n",
    "\n",
    "    return S\n"
   ]
  },
  {
   "cell_type": "code",
   "execution_count": null,
   "id": "1cf63fc9",
   "metadata": {},
   "outputs": [],
   "source": []
  }
 ],
 "metadata": {
  "kernelspec": {
   "display_name": "Python 3",
   "language": "python",
   "name": "python3"
  },
  "language_info": {
   "codemirror_mode": {
    "name": "ipython",
    "version": 3
   },
   "file_extension": ".py",
   "mimetype": "text/x-python",
   "name": "python",
   "nbconvert_exporter": "python",
   "pygments_lexer": "ipython3",
   "version": "3.8.8"
  }
 },
 "nbformat": 4,
 "nbformat_minor": 5
}
