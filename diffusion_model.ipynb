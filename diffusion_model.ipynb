{
 "cells": [
  {
   "cell_type": "markdown",
   "id": "0841bdc4",
   "metadata": {},
   "source": [
    "## **Diffusion Equation**"
   ]
  },
  {
   "cell_type": "markdown",
   "id": "a4d7f228",
   "metadata": {},
   "source": [
    "$$\n",
    "\\frac{d\\Sigma}{dt} = \\frac{3}{r}\\frac{\\partial}{\\partial r} \\left[r^{1/2} \\frac{\\partial}{\\partial r}(\\nu \\Sigma r^{1/2})\\right]\n",
    "$$\n",
    "\n",
    "This is evolution equation for the surface density of a geometrically thin disk\n",
    "\n",
    "Putting this in the form of a diffusion equation:\n",
    "\n",
    "$$\n",
    "\\frac{\\partial f}{\\partial t} = D \\frac{\\partial^2 f}{\\partial X^2}\n",
    "$$\n",
    "where $X \\equiv 2r^{1/2}$, $f \\equiv \\frac{3}{2}\\Sigma X$ and $D = \\frac{12\\nu}{X^2}$\n"
   ]
  },
  {
   "cell_type": "markdown",
   "id": "65851afb",
   "metadata": {},
   "source": [
    "We need numerical values for $\\nu$\n",
    "$$\n",
    "\\nu = \\alpha c_s H \\\\\n",
    "H = \\frac{c_s}{\\Omega} \\\\\n",
    "\\Omega = \\sqrt{\\frac{G*M_s}{r^3}} \\\\\n",
    "c_s = \\sqrt{\\frac{k_B * T}{\\mu * mH}} \\\\\n",
    "mH = \\frac{1}{N_A} \\\\\n",
    "\\mu = 2.3 \\\\\n",
    "$$\n",
    "\n",
    "The Temperature profile is given by:\n",
    "$$\n",
    "2 \\sigma_b T_{disk}^4 = \\frac{9}{4}\\Sigma \\nu \\Omega^2\\\\\n",
    "T^3 = \\frac{9}{8\\sigma_b}\\Sigma \\frac{k_b \\alpha}{\\mu mH}\\sqrt{\\frac{GM}{r^3}}\n",
    "$$\n",
    "\n",
    "The Pressure is given by:\n",
    "\n",
    "$$\n",
    "P = \\frac{c_s^2\\Sigma}{H} = c_s\\Sigma\\Omega\n",
    "$$\n",
    "\n",
    "\n",
    "$$St_{max} = \\frac{Q*}{\\alpha c_s^2}$$\n"
   ]
  },
  {
   "cell_type": "markdown",
   "id": "540ce587",
   "metadata": {},
   "source": [
    "## **Pebble Accretion**"
   ]
  },
  {
   "cell_type": "markdown",
   "id": "35f365ed",
   "metadata": {},
   "source": [
    "Mass Accretion is given by:\n",
    "$\\dot{M}_{3D} = \\pi R_{acc}\\rho_{p}\\delta v$\n",
    "\n",
    "Accretion Criterion:\n",
    "$\\tau_f = \\cfrac{\\xi_B \\Delta v + \\xi_H \\Omega \\hat{R}_{acc}}{GM/\\hat{R}^2_{acc}}$\n",
    "\n",
    "$\\hat{R}^2_{acc} = \\left(\\frac{4\\tau_f}{t_B}\\right)^{1/2} R_B$\n",
    "\n",
    "$R_B = \\frac{GM}{\\Delta v^2}$\n",
    "\n",
    "$\\xi_B = \\xi_H = 0.25$"
   ]
  },
  {
   "cell_type": "code",
   "execution_count": null,
   "id": "4eab6c18",
   "metadata": {},
   "outputs": [],
   "source": [
    "import numpy as np\n",
    "import matplotlib.pyplot as plt\n",
    "import numba\n",
    "import pandas as pd\n",
    "import os\n",
    "from dust_diffuse import *\n",
    "from thermal import *\n",
    "import matplotlib.cm as cm\n",
    "import matplotlib.patches as ptch\n",
    "from matplotlib import rc\n",
    "from matplotlib.font_manager import FontProperties\n",
    "from matplotlib.ticker import MultipleLocator, FormatStrFormatter\n",
    "import pylab"
   ]
  },
  {
   "cell_type": "code",
   "execution_count": null,
   "id": "d5c426a5",
   "metadata": {},
   "outputs": [],
   "source": [
    "#Natural Constants\n",
    "# T = 600 # Temperature\n",
    "mu = 2.2 # mean molar mass in disk\n",
    "avog = 6.02214 * 10**23 # avogadros number\n",
    "mH = 1.673534 * 10**-27 # atomic hydrogen mass\n",
    "kB = 1.380649 * 10**-23 #boltzmann constant\n",
    "G = 6.6738 * 10**-11 #gravitational constant\n",
    "Ms = 1.9886 * 10**30 #solar mass\n",
    "Me = 5.972 * 10 **24 #earth mass\n",
    "AU = 1.4959787 * 10**11 #astronomical units\n",
    "yrs2sec = 3.1536 * 10**7 #convert years to seconds\n",
    "sb = 5.6704*10**-8"
   ]
  },
  {
   "cell_type": "code",
   "execution_count": null,
   "id": "13cd9281",
   "metadata": {},
   "outputs": [],
   "source": [
    "#Disk Parameters\n",
    "alpha1 = 1e-2\n",
    "alpha2 = 1.0 * 10**-3\n",
    "alpha3 = 1.0 * 10**-4\n",
    "rin = 0.05 * AU #inner radius of the disk\n",
    "rout = 30 * AU #outer radius of the disk\n",
    "sigma_in  = 2 * 10**5 #boundary condition at t=0\n",
    "sigma_max = sigma_in*2 #boundary condition at t=final_time\n",
    "sigma_min = 1 * 10**2\n",
    "distance = rout - rin #distance from inner radius to outer radius"
   ]
  },
  {
   "cell_type": "code",
   "execution_count": null,
   "id": "83689822",
   "metadata": {},
   "outputs": [],
   "source": [
    "#Temporal discretization\n",
    "max_years = 100\n",
    "dyr = .1\n",
    "dt = dyr * yrs2sec #timestep\n",
    "final_time = max_years*yrs2sec + 1 #total diffusion time in seconds\n",
    "t_save_interval = 10 #every ten years\n",
    "t = np.arange(0, final_time, dt)"
   ]
  },
  {
   "cell_type": "code",
   "execution_count": null,
   "id": "c8c6c18a",
   "metadata": {},
   "outputs": [],
   "source": [
    "#Spacial discretization\n",
    "\n",
    "n = 600 #number of steps / number of points to plot\n",
    "dr = distance/n #distance between each spacial step\n",
    "cont = True #Boolean for continuous alpha distribution"
   ]
  },
  {
   "cell_type": "code",
   "execution_count": null,
   "id": "2c37ee44",
   "metadata": {},
   "outputs": [],
   "source": [
    "#Other Parameters\n",
    "\n",
    "# St = .01 #Stokes Number\n",
    "Q = 1\n",
    "Tcor = 1800 #10% corundum\n",
    "Tcalc = 1700 #10% calcium\n",
    "Tfor = 1400 #80% forsterite\n",
    "\n",
    "cor_ratio = .1\n",
    "calc_ratio = .1\n",
    "for_ratio = .8\n",
    "\n",
    "phase_change = 1400"
   ]
  },
  {
   "cell_type": "code",
   "execution_count": null,
   "id": "5795cd31",
   "metadata": {},
   "outputs": [],
   "source": []
  },
  {
   "cell_type": "code",
   "execution_count": null,
   "id": "bd0cf922",
   "metadata": {},
   "outputs": [],
   "source": [
    "#Initialize grid spaces\n",
    "\n",
    "dist = np.empty(n)\n",
    "Omega = np.empty(n)\n",
    "X = np.empty(n)"
   ]
  },
  {
   "cell_type": "code",
   "execution_count": null,
   "id": "f293440d",
   "metadata": {},
   "outputs": [],
   "source": [
    "#Initialize Staggered Grid\n",
    "\n",
    "dist_stag = np.empty(n-1)\n",
    "Omega_stag = np.empty(n-1)"
   ]
  },
  {
   "cell_type": "code",
   "execution_count": null,
   "id": "66edfe37",
   "metadata": {},
   "outputs": [],
   "source": [
    "#Boundary Conditions\n",
    "\n",
    "f_in = 0\n",
    "f_out = 0"
   ]
  },
  {
   "cell_type": "code",
   "execution_count": null,
   "id": "b87cbbda",
   "metadata": {},
   "outputs": [],
   "source": [
    "@numba.njit\n",
    "def make_alpha_grid(cont):\n",
    "    if(cont):\n",
    "        alphas = np.linspace(alpha1, alpha3, n)\n",
    "    else:\n",
    "        alphas = np.empty(n)\n",
    "        for i in range(n):\n",
    "            if i < (n//3):\n",
    "                alphas[i] = alpha1\n",
    "            elif i < (2*n//3):\n",
    "                alphas[i] = alpha2\n",
    "            else:\n",
    "                alphas[i] = alpha3\n",
    "    return alphas"
   ]
  },
  {
   "cell_type": "code",
   "execution_count": null,
   "id": "f97893b9",
   "metadata": {},
   "outputs": [],
   "source": [
    "@numba.njit\n",
    "def update_alpha(alphas, T):\n",
    "    for idx, temp in enumerate(T):\n",
    "        if(temp >= phase_change):\n",
    "            alphas[idx] = alpha2 + 9e-3*min((temp-phase_change)/100, 1.)\n",
    "        else:\n",
    "            alphas[idx] = alpha2\n",
    "    return alphas"
   ]
  },
  {
   "cell_type": "code",
   "execution_count": null,
   "id": "ac943b6c",
   "metadata": {},
   "outputs": [],
   "source": [
    "def calc_dist_omega_stag():\n",
    "    for i in range(1, n):\n",
    "        dist_stag[i-1] = 0.5 * (dist[i] + dist[i-1])\n",
    "        Omega_stag[i-1] = np.sqrt(G * Ms / dist_stag[i-1] ** 3)"
   ]
  },
  {
   "cell_type": "code",
   "execution_count": null,
   "id": "3f2a9e36",
   "metadata": {},
   "outputs": [],
   "source": [
    "def update_stag_grid(alphas, cs2):\n",
    "    cs2_stag = np.array([0.5 * (cs2[i] + cs2[i-1]) for i in range(1, n)])\n",
    "    alphas_stag = np.array([0.5 * (alphas[i] + alphas[i-1]) for i in range(1, n)])\n",
    "    return (alphas_stag, cs2_stag)"
   ]
  },
  {
   "cell_type": "code",
   "execution_count": null,
   "id": "a697be76",
   "metadata": {},
   "outputs": [],
   "source": [
    "@numba.njit\n",
    "def update_nu(cs2, alphas):\n",
    "    return alphas*cs2/Omega"
   ]
  },
  {
   "cell_type": "code",
   "execution_count": null,
   "id": "fe759841",
   "metadata": {},
   "outputs": [],
   "source": [
    "@numba.njit\n",
    "def update_St(alpha_stag):\n",
    "    return Q/(cs2_stag*alpha_stag)"
   ]
  },
  {
   "cell_type": "code",
   "execution_count": null,
   "id": "ad1b8a18",
   "metadata": {},
   "outputs": [],
   "source": [
    "@numba.njit\n",
    "def update_D(nu):\n",
    "    return 12 * nu / (X ** 2)"
   ]
  },
  {
   "cell_type": "code",
   "execution_count": null,
   "id": "9e00eaab",
   "metadata": {},
   "outputs": [],
   "source": [
    "def calc_init_params():\n",
    "    \"\"\"\n",
    "    Calculate the initial parameters values for time t = 0.\n",
    "    \"\"\"\n",
    "    sigma_gas = np.empty(n)\n",
    "    sigma_dust = np.empty((3,n))\n",
    "    sigma_pebble = np.zeros((3,n))\n",
    "    sigma_evap_init = np.zeros((3,n))\n",
    "    alphas = make_alpha_grid(cont)\n",
    "    for i in range(n):\n",
    "        dist[i] = (rin + (rout-rin)*i/(n-1))\n",
    "        sigma_gas[i] = sigma_in * AU / dist[i]\n",
    "        if (sigma_gas[i]>sigma_max):\n",
    "            sigma_gas[i] = sigma_max\n",
    "        if (dist[i]/AU > 15):\n",
    "            sigma_gas[i] = sigma_min\n",
    "        sigma_dust[0,i] = sigma_gas[i] * 0.005 * cor_ratio\n",
    "        sigma_dust[1,i] = sigma_gas[i] * 0.005 * calc_ratio\n",
    "        sigma_dust[2,i] = sigma_gas[i] * 0.005 * for_ratio\n",
    "        X[i] = 2 * np.sqrt(dist[i])\n",
    "        Omega[i] = np.sqrt(G * Ms / (dist[i] ** 3))\n",
    "    cs2, T, P, sigma_dust, sigma_evap, sigma_pebble = calc_thermal_struc(sigma_gas, sigma_dust, sigma_pebble, sigma_evap_init, alphas, Omega)\n",
    "    calc_dist_omega_stag()\n",
    "    alphas = update_alpha(alphas, T)\n",
    "    alphas_stag, cs2_stag = update_stag_grid(alphas, cs2)\n",
    "    St = Q/(alphas_stag * cs2_stag)\n",
    "    nu = alphas*cs2/Omega\n",
    "    v_gas = calc_gas_vel(nu, sigma_gas, dist, dist_stag)\n",
    "    v_dust = calc_dust_vel(St, cs2_stag, v_gas, P)\n",
    "    v_pebble = np.zeros(n)\n",
    "    D = 12 * nu / (X ** 2)\n",
    "    f = (1.5 * X * sigma_gas)\n",
    "    return (sigma_dust, sigma_gas, sigma_evap, sigma_pebble, v_dust, v_gas, v_pebble, cs2, nu, D, f, alphas, alphas_stag, cs2_stag, St)"
   ]
  },
  {
   "cell_type": "code",
   "execution_count": null,
   "id": "d0f17424",
   "metadata": {},
   "outputs": [],
   "source": [
    "def calc_dust_vel(St, cs2_stag, v_gas, press):\n",
    "    press_stag = [0.5*(press[i]+press[i-1]) for i in range(1,n)]\n",
    "    dPdr = [(press[i] - press[i-1])/dist_stag[i-1] for i in range(1,n)]\n",
    "    rho_stag = press_stag/cs2_stag\n",
    "    v_dust = (St/(1+(St)**2)) * (1 / (rho_stag * Omega_stag))*dPdr\n",
    "    v_dust = np.append(v_dust, 0)\n",
    "#     v_dust = v_dust + v_gas\n",
    "    return v_dust"
   ]
  },
  {
   "cell_type": "code",
   "execution_count": null,
   "id": "c820798c",
   "metadata": {},
   "outputs": [],
   "source": [
    "# @numba.njit\n",
    "def calc_pebble_vel(v_dust):\n",
    "#     Stoke = 0.05\n",
    "#     press_stag = [0.5*(press[i]+press[i-1]) for i in range(1,n)]\n",
    "#     dPdr = [(press[i] - press[i-1])/dist_stag[i-1] for i in range(1,n)]\n",
    "#     rho_stag = press_stag/cs2_stag\n",
    "#     v_dust = (Stoke/(1+(Stoke)**2)) * (1 / (rho_stag * Omega_stag))*dPdr\n",
    "#     v_dust = np.append(v_dust, 0)\n",
    "#     v_dust = v_dust + v_gas\n",
    "    return v_dust * 10"
   ]
  },
  {
   "cell_type": "code",
   "execution_count": null,
   "id": "1f50a500",
   "metadata": {},
   "outputs": [],
   "source": [
    "@numba.njit\n",
    "def calc_pebble_growth(sigma_pebble, sigma_dust):\n",
    "    tau = 1.988e-7 * 1e4*yrs2sec / Omega\n",
    "    sigma_pebble += sigma_dust * dt / tau\n",
    "    sigma_dust -= sigma_dust * dt / tau\n",
    "    return (sigma_pebble, sigma_dust)"
   ]
  },
  {
   "cell_type": "code",
   "execution_count": null,
   "id": "d3ecb232",
   "metadata": {},
   "outputs": [],
   "source": [
    "@numba.njit\n",
    "def calc_gas_evol(f, dt, D):\n",
    "    \"\"\"Outputs the surface density at a specific dt.\"\"\"\n",
    "    df_dt = np.empty(n)\n",
    "    for j in range(1, n-1):\n",
    "        dX1 = X[j] - X[j-1]\n",
    "        dX2 = X[j+1] - X[j]\n",
    "        D1 = 0.5 * (D[j] + D[j-1])\n",
    "        D2 = 0.5 * (D[j+1] + D[j])\n",
    "        df_dt[j] = D1 * ((-(f[j] - f[j-1])/dX1**2)) + D2 * ((f[j+1]-f[j])/dX2**2)\n",
    "    dX_final = X[-1]-X[-2]\n",
    "    dX_in = X[1]-X[0]\n",
    "    df_dt[0] = D[0] * (-(f[0] - f_in)/dX_in**2 + (f[1]-f[0])/dX_in**2)\n",
    "    df_dt[n-1] = D[n-1] * (-(f[n-1] - f[n-2])/dX_final**2 + (f_out-f[n-1])/dX_final**2)\n",
    "    f_new = f + df_dt * dt\n",
    "    sigma_at_time = [2*f_new[k]/(3*X[k]) for k in range(n)]\n",
    "    return (f_new, sigma_at_time)"
   ]
  },
  {
   "cell_type": "code",
   "execution_count": null,
   "id": "d2dcc6b8",
   "metadata": {},
   "outputs": [],
   "source": [
    "# @numba.njit\n",
    "def calc_disk_mass(sigma):\n",
    "    \"\"\"Calculate the mass at a specific dt\"\"\"\n",
    "    disk_mass = 0\n",
    "    for j in range(n):\n",
    "        disk_mass += 2 * np.pi * dist[j] * dr * sigma_gas[j]\n",
    "        disk_mass += 2 * np.pi * dist[j] * dr * sigma_dust[j]\n",
    "#     print(f'The mass of the disk is {disk_mass}.')\n",
    "    return disk_mass"
   ]
  },
  {
   "cell_type": "code",
   "execution_count": null,
   "id": "7eb1c9c1",
   "metadata": {},
   "outputs": [],
   "source": [
    "def save2dir(**alpha_run):\n",
    "    if(alpha_run):\n",
    "        if(alpha_run == alpha1):\n",
    "            output_dir = 'output_a1/'\n",
    "            filename = 'output_a1/disk_'\n",
    "        elif(alpha_run == alpha2):\n",
    "            output_dir = 'output_a2/'\n",
    "            filename = 'output_a2/disk_'\n",
    "        else:\n",
    "            output_dir = 'output_a3/'\n",
    "            filename = 'output_a3/disk_'\n",
    "    else:\n",
    "        output_dir = 'output/'\n",
    "        filename = 'output/disk_'\n",
    "    return (output_dir, filename)"
   ]
  },
  {
   "cell_type": "code",
   "execution_count": null,
   "id": "6d5a572a",
   "metadata": {},
   "outputs": [],
   "source": [
    "#Time Evolution Main\n",
    "\n",
    "sigma_dust, sigma_gas, sigma_evap, sigma_pebble, v_dust, v_gas, v_pebble, cs2, nu, D, f, alphas, alphas_stag, cs2_stag, St = calc_init_params()\n",
    "output_dir, filename = save2dir()\n",
    "\n",
    "if not os.path.exists(output_dir):\n",
    "    os.makedirs(output_dir)\n",
    "for i in range(len(t)):\n",
    "    f_new, sigma_gas = calc_gas_evol(f, dt, D)\n",
    "    sigma_pebble, sigma_dust = calc_pebble_growth(sigma_pebble, sigma_dust)\n",
    "    for el in range(3):\n",
    "        sigma_dust_temp = calc_evol(sigma_gas, sigma_dust[el,:], nu, v_dust, dist, dt)\n",
    "        sigma_dust[el,:] = sigma_dust_temp\n",
    "        sigma_pebble_temp = calc_evol(sigma_gas, sigma_pebble[el,:], nu, v_pebble, dist, dt)\n",
    "        sigma_pebble[el,:] = sigma_pebble_temp\n",
    "        sigma_evap_temp = calc_evol(sigma_gas, sigma_evap[el,:], nu, v_gas, dist, dt)\n",
    "        sigma_evap[el,:] = sigma_evap_temp\n",
    "    cs2, T, P, sigma_dust, sigma_evap, sigma_pebble = calc_thermal_struc(sigma_gas, sigma_dust, sigma_pebble, sigma_evap, alphas, Omega)\n",
    "    alphas = update_alpha(alphas, T)\n",
    "#     print(np.transpose(np.vstack([np.sum(sigma_dust), np.sum(sigma_pebble), T[0]])))\n",
    "    alphas_stag, cs2_stag = update_stag_grid(alphas, cs2)\n",
    "    nu = update_nu(cs2, alphas)\n",
    "    D = update_D(nu)\n",
    "    St = update_St(alphas_stag)\n",
    "    v_dust = calc_dust_vel(St, cs2_stag, v_gas, P)\n",
    "    v_pebble = calc_pebble_vel(v_dust)\n",
    "    v_gas = calc_gas_vel(nu, sigma_gas, dist, dist_stag)\n",
    "    f = f_new\n",
    "    if (i%(t_save_interval/dyr) == 0):\n",
    "        output = np.transpose(np.vstack([dist/AU, sigma_gas, sigma_dust, sigma_pebble, sigma_evap, T]))\n",
    "        np.savetxt(filename + str(int(i*dyr)) + '.txt', output, delimiter=',', newline='\\n')# save results to file"
   ]
  },
  {
   "cell_type": "code",
   "execution_count": null,
   "id": "798f27d6",
   "metadata": {},
   "outputs": [],
   "source": []
  },
  {
   "cell_type": "code",
   "execution_count": null,
   "id": "3274f0f3",
   "metadata": {},
   "outputs": [],
   "source": [
    "def plot():\n",
    "    %matplotlib\n",
    "    t_plot = [100]\n",
    "    for time in t_plot:\n",
    "        df = pd.read_csv('output/disk_' + str(int(t_plot[-1])) + '.txt', delimiter=',', header=None)\n",
    "        sigma_gas_plot = df[1].to_numpy().astype(np.float)\n",
    "        cor_dust = df[2].to_numpy().astype(np.float)\n",
    "        calc_dust = df[3].to_numpy().astype(np.float)\n",
    "        for_dust = df[4].to_numpy().astype(np.float)\n",
    "        cor_peb = df[8].to_numpy().astype(np.float)\n",
    "        calc_peb = df[9].to_numpy().astype(np.float)\n",
    "        for_peb = df[10].to_numpy().astype(np.float)\n",
    "        sigma_dust_plot = cor_dust+calc_dust+for_dust\n",
    "        sigma_peb_plot = cor_peb+calc_peb+for_peb\n",
    "        print(calc_peb)\n",
    "        temp_plot = df[11].to_numpy().astype(np.float)\n",
    "        dg_ratio = sigma_dust_plot/sigma_gas_plot\n",
    "        fig, axes = plt.subplots(2,2)\n",
    "        ax1 = axes[0][0]\n",
    "        ax2 = axes[1][0]\n",
    "        ax3 = axes[0][1]\n",
    "        ax4 = axes[1][1]\n",
    "#         cm = pylab.get_cmap('jet') #gist_rainbow\n",
    "#         plt.rcParams['font.family']='sans-serif'\n",
    "#         plt.rcParams['axes.linewidth']= 1.0\n",
    "#         plt.rcParams['font.size']     = 14\n",
    "#         plt.rcParams['figure.figsize']= 4*1.414, 4\n",
    "#         rc('font',**{'family':'sans-serif','sans-serif':['Helvetica']})\n",
    "#         rc('text',usetex=False)\n",
    "#         rc('text.latex', preamble=r'\\usepackage{sfmath}')\n",
    "        ax1.set_title(f'{int(time)} years')\n",
    "        ax1.set_xlabel('Distance (AU)')\n",
    "        ax1.set_ylabel('Dust')\n",
    "        ax1.set_yscale('log')\n",
    "        ax1.tick_params(direction='in', length=3,   which='major', top=True, right=True)\n",
    "        ax1.tick_params(direction='in', length=1.5, which='minor', top=True, right=True)\n",
    "        ax1.plot(dist/AU, cor_dust, label='Aluminum', color='green')\n",
    "        ax1.plot(dist/AU, calc_dust, label='Calcium', color='red')\n",
    "        ax1.plot(dist/AU, for_dust, label='Magnesium', color='blue')\n",
    "        ax1.legend(fontsize='x-small')\n",
    "        ax2.tick_params(direction='in', length=3,   which='major', top=True, right=True)\n",
    "        ax2.tick_params(direction='in', length=1.5, which='minor', top=True, right=True)\n",
    "        ax2.set_xlabel('Distance (AU)')\n",
    "        ax2.set_ylabel('Temperature')\n",
    "        ax2.set_yscale('log')\n",
    "        ax2.plot(dist/AU, temp_plot)\n",
    "        ax3.tick_params(direction='in', length=3,   which='major', top=True, right=True)\n",
    "        ax3.tick_params(direction='in', length=1.5, which='minor', top=True, right=True)\n",
    "        ax3.set_xlabel('Distance (AU)')\n",
    "        ax3.set_ylabel('Dust/Gas')\n",
    "        ax3.set_yscale('log')\n",
    "        ax3.plot(dist/AU, dg_ratio)\n",
    "        ax4.tick_params(direction='in', length=3,   which='major', top=True, right=True)\n",
    "        ax4.tick_params(direction='in', length=1.5, which='minor', top=True, right=True)\n",
    "        ax4.set_xlabel('Distance (AU)')\n",
    "        ax4.set_ylabel('Evap')\n",
    "        ax4.set_yscale('log')\n",
    "#         ax4.set_ylim(1e-8,1e1)\n",
    "        ax4.plot(dist/AU, cor_peb, label='Aluminum', color='green')\n",
    "        ax4.plot(dist/AU, calc_peb, label='Calcium', color='red')\n",
    "        ax4.plot(dist/AU, for_peb, label='Magnesium', color='blue')\n",
    "        ax4.legend(fontsize='x-small')\n",
    "    plt.show()\n",
    "    plt.tight_layout()\n",
    "    plt.savefig(f'evol_{int(t_plot[-1])}.pdf', transparent=True)"
   ]
  },
  {
   "cell_type": "code",
   "execution_count": null,
   "id": "a49929c9",
   "metadata": {},
   "outputs": [],
   "source": [
    "# files = ['tau_1e5_St-5e-2', 'tau-1e2', 'tau-1e4_St-5e-2','tau-1e4_St-x10']\n",
    "# compare_temp(files)\n",
    "plot()"
   ]
  },
  {
   "cell_type": "code",
   "execution_count": null,
   "id": "7f758f64",
   "metadata": {},
   "outputs": [],
   "source": [
    "# def compare_temp(filenames):\n",
    "#     for file in filenames:\n",
    "#         df = pd.read_csv(file + '/disk_' + str(int(t_plot[-1])) + '.txt', delimiter=',', header=None)\n",
    "#         temp_plot = df[11].to_numpy().astype(np.float)\n",
    "#         cor_peb = df[5].to_numpy().astype(np.float)\n",
    "#         calc_peb = df[6].to_numpy().astype(np.float)\n",
    "#         for_peb = df[7].to_numpy().astype(np.float)\n",
    "# #         plt.figure(idx+1)\n",
    "#         plt.title(f'Pebble Evolution at t={int(t_plot[-1])} years')\n",
    "#         plt.xlabel('Distance (AU)')\n",
    "#         plt.ylabel('SD')\n",
    "#         plt.yscale('log')\n",
    "#         plt.plot(dist/AU, cor_peb, label='cor', color='green')\n",
    "#         plt.plot(dist/AU, calc_peb, label='calc', color='red')\n",
    "#         plt.plot(dist/AU, for_peb, label='for', color='blue')\n",
    "#         plt.legend()\n",
    "#         plt.savefig(\"pebble_comparison.pdf\")\n",
    "#         plt.show()"
   ]
  },
  {
   "cell_type": "code",
   "execution_count": null,
   "id": "64443409",
   "metadata": {},
   "outputs": [],
   "source": [
    "# print(f'The range of Stokes Numbers is {min(St)} to {max(St)}')"
   ]
  },
  {
   "cell_type": "code",
   "execution_count": null,
   "id": "c82325b6",
   "metadata": {},
   "outputs": [],
   "source": [
    "# ax.tick_params(direction='in', length=3,   which='major', top=True, right=True)\n",
    "# ax.tick_params(direction='in', length=1.5, which='minor', top=True, right=True)\n",
    "\n",
    "# ax.set_xlim([1e-4, 1e-1])\n",
    "# ax.set_ylim([1e-6, 1e-1])\n",
    "\n",
    "\n",
    "# plt.tight_layout()\n",
    "# plt.savefig(\"fig_ratio.pdf\", transparent=True)"
   ]
  },
  {
   "cell_type": "code",
   "execution_count": null,
   "id": "8044d614",
   "metadata": {},
   "outputs": [],
   "source": [
    "# import matplotlib.cm      as cm\n",
    "# import matplotlib.pyplot  as plt\n",
    "# import matplotlib.patches as ptch\n",
    "# from   matplotlib import rc\n",
    "# from   matplotlib.font_manager import FontProperties\n",
    "# from   matplotlib.ticker       import MultipleLocator, FormatStrFormatter\n",
    "# import pylab\n",
    "# cm = pylab.get_cmap('jet') #gist_rainbow\n",
    "\n",
    "# plt.rcParams['font.family']='sans-serif'\n",
    "# plt.rcParams['axes.linewidth']= 1.0\n",
    "# plt.rcParams['font.size']     = 14\n",
    "# plt.rcParams['figure.figsize']= 4*1.414, 4\n",
    "# rc('font',**{'family':'sans-serif','sans-serif':['Helvetica']})\n",
    "# rc('text',usetex=True)\n",
    "# rc('text.latex', preamble=r'\\usepackage{sfmath}')"
   ]
  },
  {
   "cell_type": "code",
   "execution_count": null,
   "id": "b0645c8c",
   "metadata": {},
   "outputs": [],
   "source": []
  },
  {
   "cell_type": "code",
   "execution_count": null,
   "id": "0e098e3b",
   "metadata": {},
   "outputs": [],
   "source": []
  }
 ],
 "metadata": {
  "kernelspec": {
   "display_name": "Python 3",
   "language": "python",
   "name": "python3"
  },
  "language_info": {
   "codemirror_mode": {
    "name": "ipython",
    "version": 3
   },
   "file_extension": ".py",
   "mimetype": "text/x-python",
   "name": "python",
   "nbconvert_exporter": "python",
   "pygments_lexer": "ipython3",
   "version": "3.8.8"
  }
 },
 "nbformat": 4,
 "nbformat_minor": 5
}
