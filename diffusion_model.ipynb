{
 "cells": [
  {
   "cell_type": "markdown",
   "id": "e61b998a",
   "metadata": {},
   "source": [
    "## **Diffusion Equation**"
   ]
  },
  {
   "cell_type": "markdown",
   "id": "4a8de8cc",
   "metadata": {},
   "source": [
    "$$\n",
    "\\frac{d\\Sigma}{dt} = \\frac{3}{r}\\frac{\\partial}{\\partial r} \\left[r^{1/2} \\frac{\\partial}{\\partial r}(\\nu \\Sigma r^{1/2})\\right]\n",
    "$$\n",
    "\n",
    "This is evolution equation for the surface density of a geometrically thin disk\n",
    "\n",
    "Putting this in the form of a diffusion equation:\n",
    "\n",
    "$$\n",
    "\\frac{\\partial f}{\\partial t} = D \\frac{\\partial^2 f}{\\partial X^2}\n",
    "$$\n",
    "where $X \\equiv 2r^{1/2}$, $f \\equiv \\frac{3}{2}\\Sigma X$ and $D = \\frac{12\\nu}{X^2}$\n"
   ]
  },
  {
   "cell_type": "markdown",
   "id": "e1629ad6",
   "metadata": {},
   "source": [
    "We need numerical values for $\\nu$\n",
    "$$\n",
    "\\nu = \\alpha c_s H \\\\\n",
    "H = \\frac{c_s}{\\Omega} \\\\\n",
    "\\Omega = \\sqrt{\\frac{G*M_s}{r^3}} \\\\\n",
    "c_s = \\sqrt{\\frac{k_B * T}{\\mu * mH}} \\\\\n",
    "mH = \\frac{1}{N_A} \\\\\n",
    "\\mu = 2.3 \\\\\n",
    "$$\n",
    "\n",
    "The Temperature profile is given by:\n",
    "$$\n",
    "2 \\sigma_b T_{disk}^4 = \\frac{9}{4}\\Sigma \\nu \\Omega^2\\\\\n",
    "T^3 = \\frac{9}{8\\sigma_b}\\Sigma \\frac{k_b \\alpha}{\\mu mH}\\sqrt{\\frac{GM}{r^3}}\n",
    "$$\n",
    "\n",
    "The Pressure is given by:\n",
    "\n",
    "$$\n",
    "P = \\frac{c_s^2\\Sigma}{H} = c_s\\Sigma\\Omega\n",
    "$$\n"
   ]
  },
  {
   "cell_type": "code",
   "execution_count": 8,
   "id": "13cf088f",
   "metadata": {},
   "outputs": [],
   "source": [
    "import numpy as np\n",
    "import matplotlib.pyplot as plt\n",
    "import numba\n",
    "import pandas as pd\n",
    "import os"
   ]
  },
  {
   "cell_type": "code",
   "execution_count": 9,
   "id": "0b6fa0aa",
   "metadata": {},
   "outputs": [],
   "source": [
    "#Natural Constants\n",
    "\n",
    "# T = 600 # Temperature\n",
    "mu = 2.2 # mean molar mass in disk\n",
    "avog = 6.02214 * 10**23 # avogadros number\n",
    "mH = 1.673534 * 10**-27 # atomic hydrogen mass\n",
    "kB = 1.380649 * 10**-23 #boltzmann constant\n",
    "G = 6.6738 * 10**-11 #gravitational constant\n",
    "Ms = 1.9886 * 10**30 #solar mass\n",
    "Me = 5.972 * 10 **24 #earth mass\n",
    "AU = 1.4959787 * 10**11 #astronomical units\n",
    "yrs2sec = 3.1536 * 10**7 #convert years to seconds\n",
    "sb = 5.6704*10**-8"
   ]
  },
  {
   "cell_type": "code",
   "execution_count": 10,
   "id": "d18e0f57",
   "metadata": {},
   "outputs": [],
   "source": [
    "#Disk Parameters\n",
    "alpha1 = 1.0 * 10**-2\n",
    "alpha2 = 1.0 * 10**-3\n",
    "alpha3 = 1.0 * 10**-4\n",
    "alphas = [alpha1, alpha2, alpha3]\n",
    "rin = 0.05 * AU #inner radius of the disk\n",
    "rout = 30 * AU #outer radius of the disk\n",
    "sigma_in  = 2 * 10**5 #boundary condition at t=0\n",
    "sigma_max = sigma_in*2 #boundary condition at t=final_time\n",
    "sigma_min = 1 * 10**2\n",
    "distance = rout - rin #distance from inner radius to outer radius"
   ]
  },
  {
   "cell_type": "code",
   "execution_count": 11,
   "id": "9ef4a9ac",
   "metadata": {},
   "outputs": [],
   "source": [
    "#File settings"
   ]
  },
  {
   "cell_type": "code",
   "execution_count": 12,
   "id": "441b56a7",
   "metadata": {},
   "outputs": [],
   "source": [
    "#Temporal discretization\n",
    "max_years = 1000\n",
    "dyr = .1\n",
    "dt = dyr * yrs2sec #timestep\n",
    "final_time = max_years*yrs2sec + 1 #total diffusion time in seconds"
   ]
  },
  {
   "cell_type": "code",
   "execution_count": 13,
   "id": "d2d34c8b",
   "metadata": {},
   "outputs": [],
   "source": [
    "#Spacial discretization\n",
    "\n",
    "n = 600 #number of steps / number of points to plot\n",
    "dr = distance/n #distance between each spacial step"
   ]
  },
  {
   "cell_type": "code",
   "execution_count": 14,
   "id": "c2bcf081",
   "metadata": {},
   "outputs": [],
   "source": [
    "#Plotting axes\n",
    "t = np.arange(0, final_time, dt)\n",
    "t_plot = []"
   ]
  },
  {
   "cell_type": "code",
   "execution_count": 15,
   "id": "e2b65c01",
   "metadata": {},
   "outputs": [],
   "source": [
    "#Initialize grid spaces\n",
    "\n",
    "dist = np.empty(n)\n",
    "Omega = np.empty(n)\n",
    "nu = np.empty(n)\n",
    "X = np.empty(n)\n",
    "D = np.empty(n)\n",
    "sigma = np.empty(n)\n",
    "f = np.empty(n)\n",
    "cs2 = np.empty(n)\n",
    "temp = np.empty(n)\n",
    "press = np.empty(n)"
   ]
  },
  {
   "cell_type": "code",
   "execution_count": 16,
   "id": "28838056",
   "metadata": {},
   "outputs": [],
   "source": [
    "#Values that are saved\n",
    "\n",
    "sigma_evol = []\n",
    "temp_evol = []\n",
    "press_evol = []\n",
    "mass_evol = []"
   ]
  },
  {
   "cell_type": "code",
   "execution_count": 17,
   "id": "62a45553",
   "metadata": {},
   "outputs": [],
   "source": [
    "#Boundary Conditions\n",
    "\n",
    "f_in = 0\n",
    "f_out = 0"
   ]
  },
  {
   "cell_type": "code",
   "execution_count": 18,
   "id": "f32294c7",
   "metadata": {},
   "outputs": [],
   "source": [
    "# @numba.njit\n",
    "def calc_init_params(alpha):\n",
    "    \"\"\"\n",
    "    Calculate the initial parameters values for time t = 0 and changing radius.\n",
    "    \"\"\"\n",
    "    for i in range(n):\n",
    "        dist[i] = (rin + (rout-rin)*i/(n-1))\n",
    "        sigma[i] = sigma_in * AU / dist[i]\n",
    "        if (sigma[i]>sigma_max):\n",
    "            sigma[i] = sigma_max\n",
    "        if (dist[i]/AU > 15):\n",
    "            sigma[i] = sigma_min\n",
    "        X[i] = 2 * np.sqrt(dist[i])\n",
    "        Omega[i] = np.sqrt(G * Ms / (dist[i] ** 3))\n",
    "#         temp[i] = ((9*sigma[i]*kB*alpha*Omega[i])/(8*sb*mu*mH))**(1/float(3))\n",
    "        temp[i]=100\n",
    "        cs2[i] = (kB * temp[i])/(mu*mH)\n",
    "        nu[i] = alpha*cs2[i]/Omega[i]\n",
    "        D[i] = 12 * nu[i] / (X[i] ** 2)\n",
    "        f[i] = (1.5 * X[i] * sigma[i])"
   ]
  },
  {
   "cell_type": "code",
   "execution_count": null,
   "id": "cb1f154f",
   "metadata": {},
   "outputs": [],
   "source": []
  },
  {
   "cell_type": "code",
   "execution_count": 19,
   "id": "5e9d18e1",
   "metadata": {},
   "outputs": [],
   "source": [
    "@numba.njit\n",
    "def calc_temp(f, alpha):\n",
    "#     for i in range(n):\n",
    "# #         temp[i] = ((9*sigma[i]*kB*alpha*Omega[i])/(8*sb*mu*mH))**(1/float(3))\n",
    "#         temp[i]=100\n",
    "    temp = [100 for i in range(n)]\n",
    "    return temp"
   ]
  },
  {
   "cell_type": "code",
   "execution_count": 20,
   "id": "211666af",
   "metadata": {},
   "outputs": [],
   "source": [
    "@numba.njit\n",
    "def calc_press(f, alpha, T):\n",
    "    \"\"\"Calculate the pressure evolution at each dt at each  r\"\"\"\n",
    "#     for j in range(n):\n",
    "#         cs2[j] = (kB * temp[j])/(mu*mH)\n",
    "#         press[j] = np.sqrt(cs2[j])*sigma[j]*Omega[j]\n",
    "    press = [np.sqrt((kB * temp[j])/(mu*mH))*sigma[j]*Omega[j] for j in range(n)]\n",
    "    return press"
   ]
  },
  {
   "cell_type": "code",
   "execution_count": 21,
   "id": "9f6b92d8",
   "metadata": {},
   "outputs": [],
   "source": [
    "@numba.njit\n",
    "def calc_sigma_evol(f, alpha, dt):\n",
    "    \"\"\"Outputs the surface density at a specific dt.\"\"\"\n",
    "    df_dt = np.empty(n)\n",
    "    for j in range(1, n-1):\n",
    "        dX1 = X[j] - X[j-1]\n",
    "        dX2 = X[j+1] - X[j]\n",
    "        D1 = 0.5 * (D[j] + D[j-1])\n",
    "        D2 = 0.5 * (D[j+1] + D[j])\n",
    "        df_dt[j] = D1 * ((-(f[j] - f[j-1])/dX1**2)) + D2 * ((f[j+1]-f[j])/dX2**2)\n",
    "    dX_final = X[-1]-X[-2]\n",
    "    dX_in = X[1]-X[0]\n",
    "    df_dt[0] = D[0] * (-(f[0] - f_in)/dX_in**2 + (f[1]-f[0])/dX_in**2)\n",
    "    df_dt[n-1] = D[n-1] * (-(f[n-1] - f[n-2])/dX_final**2 + (f_out-f[n-1])/dX_final**2)\n",
    "    f_new = f + df_dt * dt\n",
    "    return f_new"
   ]
  },
  {
   "cell_type": "code",
   "execution_count": 22,
   "id": "27449a00",
   "metadata": {},
   "outputs": [],
   "source": [
    "# @numba.njit\n",
    "def calc_disk_mass(sigma):\n",
    "    \"\"\"Calculate the mass at a specific dt\"\"\"\n",
    "#     sigma_evol = calc_time_evol(f, alpha, dt)\n",
    "    disk_mass = 0\n",
    "    for j in range(n):\n",
    "        disk_mass += 2 * np.pi * dist[j] * dr * sigma[j] #mass of disk at t=dt\n",
    "#     print(f'The mass of the disk is {disk_mass}.')\n",
    "    return disk_mass"
   ]
  },
  {
   "cell_type": "code",
   "execution_count": 23,
   "id": "3914acef",
   "metadata": {},
   "outputs": [],
   "source": [
    "@numba.njit\n",
    "def convert_f2sigma(f_new):\n",
    "    sigma_at_time = [2*f_new[k]/(3*X[k]) for k in range(n)]\n",
    "    return sigma_at_time"
   ]
  },
  {
   "cell_type": "code",
   "execution_count": 24,
   "id": "81a017fd",
   "metadata": {},
   "outputs": [],
   "source": [
    "def save2dir(alpha_run):\n",
    "    if(alpha_run == alpha1):\n",
    "        output_dir = 'output_a1/'\n",
    "        filename = 'output_a1/disk_'\n",
    "    elif(alpha_run == alpha2):\n",
    "        output_dir = 'output_a2/'\n",
    "        filename = 'output_a2/disk_'\n",
    "    else:\n",
    "        output_dir = 'output_a3/'\n",
    "        filename = 'output_a3/disk_'\n",
    "    return (output_dir, filename)"
   ]
  },
  {
   "cell_type": "code",
   "execution_count": 25,
   "id": "1d46d145",
   "metadata": {},
   "outputs": [
    {
     "name": "stdout",
     "output_type": "stream",
     "text": [
      "Using matplotlib backend: MacOSX\n"
     ]
    },
    {
     "name": "stderr",
     "output_type": "stream",
     "text": [
      "/Users/Rohan/opt/anaconda3/lib/python3.8/site-packages/numba/core/ir_utils.py:2119: NumbaPendingDeprecationWarning: \u001b[1m\n",
      "Encountered the use of a type that is scheduled for deprecation: type 'reflected list' found for argument 'alpha' of function 'calc_press'.\n",
      "\n",
      "For more information visit https://numba.pydata.org/numba-doc/latest/reference/deprecation.html#deprecation-of-reflection-for-list-and-set-types\n",
      "\u001b[1m\n",
      "File \"<ipython-input-20-d7eca985dbdb>\", line 2:\u001b[0m\n",
      "\u001b[1m@numba.njit\n",
      "\u001b[1mdef calc_press(f, alpha, T):\n",
      "\u001b[0m\u001b[1m^\u001b[0m\u001b[0m\n",
      "\u001b[0m\n",
      "  warnings.warn(NumbaPendingDeprecationWarning(msg, loc=loc))\n"
     ]
    }
   ],
   "source": [
    "#Time Evolution Main\n",
    "t_plot_interval = 10 #every ten years\n",
    "alpha_run = alpha2 #run for different alphas and plot results\n",
    "output_dir, filename = save2dir(alpha_run)\n",
    "calc_init_params(alpha_run)\n",
    "if not os.path.exists(output_dir):\n",
    "    os.makedirs(output_dir)\n",
    "# fig, ax = plt.subplots(4,1)\n",
    "%matplotlib\n",
    "for i in range(0, len(t)):\n",
    "    f_new = calc_sigma_evol(f, alpha_run, dt)\n",
    "    T = calc_temp(f_new, alpha_run)\n",
    "    P = calc_press(f_new, T, alpha_run)\n",
    "    sigma = convert_f2sigma(f_new)\n",
    "    f = f_new\n",
    "    if (i%(t_plot_interval/dyr) == 0):\n",
    "        output = np.vstack([dist/AU, sigma, T, P])\n",
    "        output = np.transpose(output)\n",
    "        np.savetxt(filename + str(int(i*dyr)) + '.txt', output, delimiter=',', newline='\\n')# if you want to save results to file\n",
    "        sigma_evol.append(sigma)\n",
    "        temp_evol.append(T)\n",
    "        press_evol.append(P)\n",
    "        mass = calc_disk_mass(sigma)\n",
    "        mass_evol.append(mass)\n",
    "        t_plot.append(i*dyr)\n",
    "sigma_evol = np.array(sigma_evol)\n",
    "temp_evol = np.array(temp_evol)\n",
    "press_evol = np.array(press_evol)\n",
    "for j in range(len(t_plot)):\n",
    "    plt.title(f'Surface Density at alpha = {alpha_run}')\n",
    "    plt.xlabel('Distance (AU)')\n",
    "    plt.ylabel('Surface Density')\n",
    "    plt.yscale('log')\n",
    "    plt.plot(dist/AU, sigma_evol[j,:])\n",
    "    plt.show()\n",
    "#     ax[0].semilogy(dist/AU, sigma_evol[j,:])\n",
    "#     ax[1].semilogy(dist/AU, temp_evol[j,:])\n",
    "#     ax[2].semilogy(dist/AU, press_evol[j,:])\n",
    "#     # plot mass evolution\n",
    "#     ax[3].semilogy(t_plot, mass_evol)\n"
   ]
  },
  {
   "cell_type": "code",
   "execution_count": null,
   "id": "9fa08507",
   "metadata": {},
   "outputs": [],
   "source": []
  },
  {
   "cell_type": "code",
   "execution_count": 26,
   "id": "4bd75d72",
   "metadata": {},
   "outputs": [],
   "source": [
    "# @numba.njit\n",
    "def compare_code(f):\n",
    "    \"\"\"Compare C++ code to Python code\"\"\"\n",
    "    telapsed = [100, 1000]\n",
    "    count = 0\n",
    "    for time in telapsed:\n",
    "        df = pd.read_csv('case/radial_' + str(time) + '.txt', delimiter='\\t', header=None)\n",
    "        sigma_c = df[1].to_numpy().astype(np.int)\n",
    "        sigma_py = sigma_evol[int((time/t_plot_interval)),:]\n",
    "        plt.title(f'Python vs C++ Surface Density at t={time} years')\n",
    "        plt.xlabel('Radius (AU)')\n",
    "        plt.ylabel('Surface Density')\n",
    "        plt.yscale('log')\n",
    "        plt.plot(dist/AU, sigma_py, label='Python')\n",
    "        plt.plot(dist/AU, sigma_c, label='C++')\n",
    "        plt.legend()\n",
    "        plt.show()"
   ]
  },
  {
   "cell_type": "code",
   "execution_count": 27,
   "id": "eb3d88f5",
   "metadata": {},
   "outputs": [],
   "source": [
    "# @numba.njit\n",
    "def plot_rms(f):\n",
    "    \"\"\"Plot RMS of Python vs C++\"\"\"\n",
    "    t_elapsed = [100, 1000]\n",
    "    t_rms = np.arange(0, final_time, n)\n",
    "    rms = []\n",
    "    for time in t_elapsed:\n",
    "        df = pd.read_csv('case/radial_' + str(time) + '.txt', delimiter='\\t', header=None)\n",
    "        sigma_c = df[1].to_numpy().astype(np.int)\n",
    "        sigma_py = sigma_evol[int((time/t_plot_interval)),:]\n",
    "        rms.append(np.sum(((sigma_c - sigma_py)/(sigma_c))**2))\n",
    "    plt.title('Root Mean Surface Density at t={time} years')\n",
    "    plt.xlabel('Time (years)')\n",
    "    plt.ylabel('RMS')\n",
    "    plt.yscale('log')\n",
    "    plt.plot(t_elapsed, rms)\n",
    "    plt.show()"
   ]
  },
  {
   "cell_type": "code",
   "execution_count": null,
   "id": "c7b54d36",
   "metadata": {},
   "outputs": [],
   "source": []
  },
  {
   "cell_type": "code",
   "execution_count": null,
   "id": "829a2345",
   "metadata": {},
   "outputs": [],
   "source": []
  },
  {
   "cell_type": "code",
   "execution_count": null,
   "id": "a137c8fe",
   "metadata": {},
   "outputs": [],
   "source": []
  }
 ],
 "metadata": {
  "kernelspec": {
   "display_name": "Python 3",
   "language": "python",
   "name": "python3"
  },
  "language_info": {
   "codemirror_mode": {
    "name": "ipython",
    "version": 3
   },
   "file_extension": ".py",
   "mimetype": "text/x-python",
   "name": "python",
   "nbconvert_exporter": "python",
   "pygments_lexer": "ipython3",
   "version": "3.8.8"
  }
 },
 "nbformat": 4,
 "nbformat_minor": 5
}
