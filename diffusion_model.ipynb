{
 "cells": [
  {
   "cell_type": "markdown",
   "id": "5537e822",
   "metadata": {},
   "source": [
    "## **Diffusion Equation**"
   ]
  },
  {
   "cell_type": "markdown",
   "id": "e1109340",
   "metadata": {},
   "source": [
    "$$\n",
    "\\frac{d\\Sigma}{dt} = \\frac{3}{r}\\frac{\\partial}{\\partial r} \\left[r^{1/2} \\frac{\\partial}{\\partial r}(\\nu \\Sigma r^{1/2})\\right]\n",
    "$$\n",
    "\n",
    "This is evolution equation for the surface density of a geometrically thin disk\n",
    "\n",
    "Putting this in the form of a diffusion equation:\n",
    "\n",
    "$$\n",
    "\\frac{\\partial f}{\\partial t} = D \\frac{\\partial^2 f}{\\partial X^2}\n",
    "$$\n",
    "where $X \\equiv 2r^{1/2}$, $f \\equiv \\frac{3}{2}\\Sigma X$ and $D = \\frac{12\\nu}{X^2}$\n"
   ]
  },
  {
   "cell_type": "markdown",
   "id": "8c49f224",
   "metadata": {},
   "source": [
    "We need numerical values for $\\nu$\n",
    "$$\n",
    "\\nu = \\alpha c_s H \\\\\n",
    "H = \\frac{c_s}{\\Omega} \\\\\n",
    "\\Omega = \\sqrt{\\frac{G*M_s}{r^3}} \\\\\n",
    "c_s = \\sqrt{\\frac{k_B * T}{\\mu * mH}} \\\\\n",
    "mH = \\frac{1}{N_A} \\\\\n",
    "\\mu = 2.3 \\\\\n",
    "T = 500K\n",
    "$$"
   ]
  },
  {
   "cell_type": "code",
   "execution_count": 43,
   "id": "2bd219d2",
   "metadata": {},
   "outputs": [],
   "source": [
    "import numpy as np\n",
    "import matplotlib.pyplot as plt\n",
    "import numba"
   ]
  },
  {
   "cell_type": "code",
   "execution_count": 44,
   "id": "1d650fc1",
   "metadata": {},
   "outputs": [],
   "source": [
    "#Natural Constants\n",
    "\n",
    "T = 600 # Temperature\n",
    "mu = 2.2 # mean molar mass in disk\n",
    "avog = 6.02214 * 10**23 # avogadros number\n",
    "mH = 1.673534 * 10**-27 # atomic hydrogen mass\n",
    "kB = 1.380649 * 10**-23 #boltzmann constant\n",
    "G = 6.6738 * 10**-11 #gravitational constant\n",
    "Ms = 1.9886 * 10**30 #solar mass\n",
    "Me = 5.972 * 10 **24 #earth mass\n",
    "AU = 1.4959787 * 10**11 #astronomical units\n",
    "yrs2sec = 3.1536 * 10**7 #convert years to seconds"
   ]
  },
  {
   "cell_type": "code",
   "execution_count": 45,
   "id": "87d459c6",
   "metadata": {},
   "outputs": [],
   "source": [
    "#Disk Parameters\n",
    "\n",
    "alpha = 1.0 * 10**-3\n",
    "rin = 0.05 * AU #inner radius of the disk\n",
    "rout = 30 * AU #outer radius of the disk\n",
    "sigma_in  = 2 * 10**5 #boundary condition at t=0\n",
    "sigma_max = sigma_in*2 #boundary condition at t=final_time\n",
    "sigma_min = 1 * 10**2;\n",
    "distance = rout - rin #distance from inner radius to outer radius"
   ]
  },
  {
   "cell_type": "code",
   "execution_count": 46,
   "id": "9a98bc38",
   "metadata": {},
   "outputs": [],
   "source": [
    "#Temporal discretization\n",
    "\n",
    "dt = 0.5 * yrs2sec #timestep\n",
    "final_time = 10*yrs2sec #total diffusion time in seconds"
   ]
  },
  {
   "cell_type": "code",
   "execution_count": 47,
   "id": "2253f478",
   "metadata": {},
   "outputs": [],
   "source": [
    "#Spacial discretization\n",
    "\n",
    "n = 100; #number of steps / number of points to plot\n",
    "dr = distance/n #distance between each spacial step"
   ]
  },
  {
   "cell_type": "code",
   "execution_count": 48,
   "id": "f961c30f",
   "metadata": {},
   "outputs": [],
   "source": [
    "#Plotting axes\n",
    "x = np.linspace(rin + dr/2, rout - dr/2, n)\n",
    "t = np.arange(0, final_time, dt)\n",
    "points_range = np.arange(0, len(t)+1, len(t)/n)"
   ]
  },
  {
   "cell_type": "code",
   "execution_count": 49,
   "id": "58939486",
   "metadata": {},
   "outputs": [],
   "source": [
    "#Initialize grid spaces\n",
    "\n",
    "dist = np.empty(n)\n",
    "Omega = np.empty(n)\n",
    "nu = np.empty(n)\n",
    "X = np.empty(n)\n",
    "D = np.empty(n)\n",
    "sigma = np.empty(n)\n",
    "df_dt = np.empty(n)\n",
    "f = np.empty(n)\n",
    "sigma_evol = np.empty(n)"
   ]
  },
  {
   "cell_type": "code",
   "execution_count": 50,
   "id": "e309532d",
   "metadata": {},
   "outputs": [],
   "source": [
    "#Boundary Conditions\n",
    "\n",
    "f_in = 0\n",
    "f_out = 0"
   ]
  },
  {
   "cell_type": "code",
   "execution_count": 51,
   "id": "e3f66720",
   "metadata": {},
   "outputs": [],
   "source": [
    "@numba.njit\n",
    "def calc_init_params(dist, sigma, X, Omega, nu, D, f):\n",
    "    \"\"\"\n",
    "    Calculate the initial parameters values for time t = 0 and changing radius.\n",
    "    \"\"\"\n",
    "    cs2 = (kB * T)/(mu*mH)\n",
    "    for i in range(n):\n",
    "        dist[i] = (rin + (rout-rin)*i/(n-1))\n",
    "        sigma[i] = sigma_in * (AU) / dist[i]\n",
    "        if (sigma[i]>sigma_max):\n",
    "            sigma[i] = sigma_max\n",
    "        if (dist[i]/AU > 15):\n",
    "            sigma[i] = sigma_min\n",
    "        X[i] = 2 * np.sqrt(dist[i])\n",
    "        Omega[i] = np.sqrt(G * Ms / (dist[i] ** 3))\n",
    "        nu[i] = alpha*cs2/Omega[i]\n",
    "        D[i] = 12 * nu[i] / (X[i] ** 2)\n",
    "        f[i] = (1.5 * X[i] * sigma[i])"
   ]
  },
  {
   "cell_type": "code",
   "execution_count": 52,
   "id": "fa358af6",
   "metadata": {},
   "outputs": [],
   "source": [
    "def plot_time_evol(f, df_dt, dist):\n",
    "    %matplotlib\n",
    "    count = 0\n",
    "    for i in range(1, len(t)+1):\n",
    "        plt.clf\n",
    "        for j in range(1, n-1):\n",
    "            dX = X[j] - X[j-1]\n",
    "            df_dt[j] = D[j] * (-(f[j] - f[j-1])/dX**2 + (f[j+1]-f[j])/dX**2)\n",
    "        dX_final = X[-1]-X[-2]\n",
    "        dX_init = X[1]-X[0]\n",
    "        df_dt[0] = D[0] * (-(f[0] - f_in)/dX_init**2 + (f[1]-f[0])/dX_init**2)\n",
    "        df_dt[n-1] = D[n-1] * (-(f[n-1] - f[n-2])/dX_final**2 + (f_out-f[n-1])/dX_final**2)\n",
    "        f = f + df_dt * dt\n",
    "        if(i in points_range): #only plot n points \n",
    "            sigma_evol = [2*f[k]/(3*X[k]) for k in range(n)]\n",
    "            mass_evol = [2 * np.pi * dist[k] * dr * sigma_evol[k] for k in range(n)]\n",
    "            disk_mass = np.sum(mass_evol)\n",
    "            plt.figure(1)\n",
    "            plt.plot(x, sigma_evol)\n",
    "            plt.title('Surface Density Evolution of Protoplanetary Disk')\n",
    "            plt.xlabel('Radius (m)')\n",
    "            plt.ylabel('Surface Density')\n",
    "            plt.xscale('log')\n",
    "            plt.yscale('log')\n",
    "            plt.show()\n",
    "            plt.pause(0.01)\n",
    "            plt.figure(2)\n",
    "            plt.plot(x, mass_evol) #expecting a straight line\n",
    "            plt.title('Conservation of Mass of an Evolving Protoplanetary Disk')\n",
    "            plt.xlabel('Radius (m)')\n",
    "            plt.ylabel('Mass')\n",
    "            plt.xscale('log')\n",
    "            plt.yscale('log')\n",
    "    print(f'The mass of the disk is {disk_mass}\\n')"
   ]
  },
  {
   "cell_type": "code",
   "execution_count": 53,
   "id": "863c8dd0",
   "metadata": {},
   "outputs": [],
   "source": [
    "calc_init_params(dist, sigma, X, Omega, nu, D, f)"
   ]
  },
  {
   "cell_type": "code",
   "execution_count": 54,
   "id": "c2b66001",
   "metadata": {},
   "outputs": [
    {
     "name": "stdout",
     "output_type": "stream",
     "text": [
      "Using matplotlib backend: MacOSX\n",
      "The mass of the disk is 4.159328239202436e+29\n",
      "\n"
     ]
    }
   ],
   "source": [
    "plot_time_evol(f, df_dt, dist)"
   ]
  }
 ],
 "metadata": {
  "kernelspec": {
   "display_name": "Python 3",
   "language": "python",
   "name": "python3"
  },
  "language_info": {
   "codemirror_mode": {
    "name": "ipython",
    "version": 3
   },
   "file_extension": ".py",
   "mimetype": "text/x-python",
   "name": "python",
   "nbconvert_exporter": "python",
   "pygments_lexer": "ipython3",
   "version": "3.8.8"
  }
 },
 "nbformat": 4,
 "nbformat_minor": 5
}
