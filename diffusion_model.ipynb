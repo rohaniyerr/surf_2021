{
 "cells": [
  {
   "cell_type": "markdown",
   "id": "68878a20",
   "metadata": {},
   "source": [
    "## **Diffusion Equation**"
   ]
  },
  {
   "cell_type": "markdown",
   "id": "1415068f",
   "metadata": {},
   "source": [
    "$$\n",
    "\\frac{d\\Sigma}{dt} = \\frac{3}{r}\\frac{\\partial}{\\partial r} \\left[r^{1/2} \\frac{\\partial}{\\partial r}(\\nu \\Sigma r^{1/2})\\right]\n",
    "$$\n",
    "\n",
    "This is evolution equation for the surface density of a geometrically thin disk\n",
    "\n",
    "Putting this in the form of a diffusion equation:\n",
    "\n",
    "$$\n",
    "\\frac{\\partial f}{\\partial t} = D \\frac{\\partial^2 f}{\\partial X^2}\n",
    "$$\n",
    "where $X \\equiv 2r^{1/2}$, $f \\equiv \\frac{3}{2}\\Sigma X$ and $D = \\frac{12\\nu}{X^2}$\n"
   ]
  },
  {
   "cell_type": "markdown",
   "id": "52080bd3",
   "metadata": {},
   "source": [
    "We need numerical values for $\\nu$\n",
    "$$\n",
    "\\nu = \\alpha c_s H \\\\\n",
    "H = \\frac{c_s}{\\Omega} \\\\\n",
    "\\Omega = \\sqrt{\\frac{G*M_s}{r^3}} \\\\\n",
    "c_s = \\sqrt{\\frac{k_B * T}{\\mu * mH}} \\\\\n",
    "mH = \\frac{1}{N_A} \\\\\n",
    "\\mu = 2.3 \\\\\n",
    "$$\n",
    "\n",
    "The Temperature profile is given by:\n",
    "$$\n",
    "T_{disk}^4 = \\frac{3GM_*\\dot{M}}{8\\pi\\sigma r^3}\\left(1-\\sqrt{\\frac{R_*}{r}}\\right)\n",
    "$$\n",
    "\n",
    "The Pressure is given by:\n",
    "\n",
    "$$\n",
    "P = \\frac{c_s^2\\Sigma}{H} = c_s\\Sigma\\Omega\n",
    "$$\n"
   ]
  },
  {
   "cell_type": "code",
   "execution_count": 98,
   "id": "89ed6f87",
   "metadata": {},
   "outputs": [],
   "source": [
    "import numpy as np\n",
    "import matplotlib.pyplot as plt\n",
    "import numba"
   ]
  },
  {
   "cell_type": "code",
   "execution_count": 99,
   "id": "65531e4b",
   "metadata": {},
   "outputs": [],
   "source": [
    "#Natural Constants\n",
    "\n",
    "# T = 600 # Temperature\n",
    "mu = 2.2 # mean molar mass in disk\n",
    "avog = 6.02214 * 10**23 # avogadros number\n",
    "mH = 1.673534 * 10**-27 # atomic hydrogen mass\n",
    "kB = 1.380649 * 10**-23 #boltzmann constant\n",
    "G = 6.6738 * 10**-11 #gravitational constant\n",
    "Ms = 1.9886 * 10**30 #solar mass\n",
    "Me = 5.972 * 10 **24 #earth mass\n",
    "AU = 1.4959787 * 10**11 #astronomical units\n",
    "yrs2sec = 3.1536 * 10**7 #convert years to seconds\n",
    "sb = 5.6704*10**-8"
   ]
  },
  {
   "cell_type": "code",
   "execution_count": 100,
   "id": "d9f6f147",
   "metadata": {},
   "outputs": [],
   "source": [
    "#Disk Parameters\n",
    "\n",
    "alpha1 = 1.0 * 10**-2\n",
    "alpha2 = 1.0 * 10**-3\n",
    "alpha3 = 1.0 * 10**-4\n",
    "rin = 0.05 * AU #inner radius of the disk\n",
    "rout = 30 * AU #outer radius of the disk\n",
    "sigma_in  = 2 * 10**5 #boundary condition at t=0\n",
    "sigma_max = sigma_in*2 #boundary condition at t=final_time\n",
    "sigma_min = 1 * 10**2;\n",
    "distance = rout - rin #distance from inner radius to outer radius\n",
    "Rstar = 1 * AU\n",
    "Mdot = 10**-7/yrs2sec#accretion rate in solar mass/sec"
   ]
  },
  {
   "cell_type": "code",
   "execution_count": 101,
   "id": "14b531d2",
   "metadata": {},
   "outputs": [],
   "source": [
    "#Temporal discretization\n",
    "\n",
    "dt = 0.5 * yrs2sec #timestep\n",
    "final_time = 10*yrs2sec #total diffusion time in seconds"
   ]
  },
  {
   "cell_type": "code",
   "execution_count": 102,
   "id": "23f9fdd0",
   "metadata": {},
   "outputs": [],
   "source": [
    "#Spacial discretization\n",
    "\n",
    "n = 100; #number of steps / number of points to plot\n",
    "dr = distance/n #distance between each spacial step"
   ]
  },
  {
   "cell_type": "code",
   "execution_count": 103,
   "id": "3a2a5cf6",
   "metadata": {},
   "outputs": [],
   "source": [
    "#Plotting axes\n",
    "x = np.linspace(rin + dr/2, rout - dr/2, n)\n",
    "t = np.arange(0, final_time, dt)\n",
    "points_range = np.arange(0, len(t), n)\n",
    "time_plot = np.arange(0, final_time, final_time/n)"
   ]
  },
  {
   "cell_type": "code",
   "execution_count": 104,
   "id": "75bbcef8",
   "metadata": {},
   "outputs": [],
   "source": [
    "#Initialize grid spaces\n",
    "\n",
    "dist = np.empty(n)\n",
    "Omega = np.empty(n)\n",
    "nu = np.empty(n)\n",
    "X = np.empty(n)\n",
    "D = np.empty(n)\n",
    "sigma = np.empty(n)\n",
    "df_dt = np.empty(n)\n",
    "f = np.empty(n)\n",
    "sigma_evol = np.empty(n)\n",
    "temp_evol = np.empty(n)\n",
    "cs2 = np.empty(n)\n",
    "mass_evol = []"
   ]
  },
  {
   "cell_type": "code",
   "execution_count": 105,
   "id": "bd59028e",
   "metadata": {},
   "outputs": [],
   "source": [
    "#Boundary Conditions\n",
    "\n",
    "f_in = 0\n",
    "f_out = 0"
   ]
  },
  {
   "cell_type": "code",
   "execution_count": 106,
   "id": "c7b79050",
   "metadata": {},
   "outputs": [],
   "source": [
    "# @numba.njit\n",
    "def calc_init_params(alpha):\n",
    "    \"\"\"\n",
    "    Calculate the initial parameters values for time t = 0 and changing radius.\n",
    "    \"\"\"\n",
    "    for i in range(n):\n",
    "        dist[i] = (rin + (rout-rin)*i/(n-1))\n",
    "        sigma[i] = sigma_in * (AU) / dist[i]\n",
    "        if (sigma[i]>sigma_max):\n",
    "            sigma[i] = sigma_max\n",
    "        if (dist[i]/AU > 15):\n",
    "            sigma[i] = sigma_min\n",
    "        temp_evol[i] = 500\n",
    "#         temp_evol[i] = (((3*G*Ms*Mdot)/(8*np.pi*sb*dist[i]**3))*(1-np.sqrt(rin/dist[i])))**(1/float(4)) #i got this eq from armitage but im unsure of this is right bc its a steady state soln.\n",
    "        X[i] = 2 * np.sqrt(dist[i])\n",
    "        Omega[i] = np.sqrt(G * Ms / (dist[i] ** 3))\n",
    "        cs2[i] = (kB * temp_evol[i])/(mu*mH)\n",
    "        nu[i] = alpha*cs2[i]/Omega[i]\n",
    "        D[i] = 12 * nu[i] / (X[i] ** 2)\n",
    "        f[i] = (1.5 * X[i] * sigma[i])"
   ]
  },
  {
   "cell_type": "code",
   "execution_count": 107,
   "id": "56521b7f",
   "metadata": {},
   "outputs": [],
   "source": [
    "# @numba.njit\n",
    "def calc_sigma_evol(f, alpha):\n",
    "    total_sigma_evol = [] # surface density for each r at all times\n",
    "    calc_init_params(alpha)\n",
    "    for i in range(1, len(t) + 1):\n",
    "        plt.clf\n",
    "        for j in range(1, n-1):\n",
    "            dX1 = X[j] - X[j-1]\n",
    "            dX2 = X[j+1] - X[j]\n",
    "            D1 = 0.5 * (D[j] + D[j-1])\n",
    "            D2 = 0.5 * (D[j+1] + D[j])\n",
    "            df_dt[j] = D1 * ((-(f[j] - f[j-1])/dX1**2)) + D2 * ((f[j+1]-f[j])/dX2**2)\n",
    "        dX_final = X[-1]-X[-2]\n",
    "        dX_in = X[1]-X[0]\n",
    "        df_dt[0] = D[0] * (-(f[0] - f_in)/dX_in**2 + (f[1]-f[0])/dX_in**2)\n",
    "        df_dt[n-1] = D[n-1] * (-(f[n-1] - f[n-2])/dX_final**2 + (f_out-f[n-1])/dX_final**2)\n",
    "        f = f + df_dt * dt\n",
    "        sigma_evol = [2*f[k]/(3*X[k]) for k in range(n)] # surface density for each r at time = i\n",
    "        total_sigma_evol.append(sigma_evol)\n",
    "    return total_sigma_evol"
   ]
  },
  {
   "cell_type": "code",
   "execution_count": 108,
   "id": "e9c64b6b",
   "metadata": {},
   "outputs": [],
   "source": [
    "# @numba.njit\n",
    "def calc_press_evol(f, alpha):\n",
    "    \"\"\"Calculate the pressure evolution at each dt at each  r\"\"\"\n",
    "    sigma_evol = calc_sigma_evol(f, alpha) #surface density at each r for all dt\n",
    "    press_evol = [[0 for i in range(n)] for j in range(len(sigma_evol))]\n",
    "    for i in range(len(sigma_evol)):\n",
    "        for j in range(n):\n",
    "            press_evol[i][j] = np.sqrt(cs2[j])*sigma[j]*Omega[j]\n",
    "    return press_evol"
   ]
  },
  {
   "cell_type": "code",
   "execution_count": 109,
   "id": "560c2e76",
   "metadata": {},
   "outputs": [],
   "source": [
    "def calc_mass_evol(f, alpha):\n",
    "    total_sigma_evol = calc_sigma_evol(f, alpha)\n",
    "    mass_evol = np.empty(len(total_sigma_evol))\n",
    "    disk_mass = 0\n",
    "    for i in range(len(total_sigma_evol)):\n",
    "        for j in range(n):\n",
    "            disk_mass += 2 * np.pi * dist[j] * dr * total_sigma_evol[i][j] #mass of disk at t=i\n",
    "            mass_evol[i] = disk_mass\n",
    "            disk_mass = 0\n",
    "    return mass_evol"
   ]
  },
  {
   "cell_type": "code",
   "execution_count": 110,
   "id": "d0519a4d",
   "metadata": {},
   "outputs": [],
   "source": [
    "def plot_sigma_evol(f, alpha):\n",
    "    %matplotlib\n",
    "    total_sigma_evol = calc_sigma_evol(f, alpha)\n",
    "    for i in range(len(total_sigma_evol)):\n",
    "        sigma_at_time = total_sigma_evol[i]\n",
    "        plt.figure(1)\n",
    "        plt.plot(x/AU, sigma_at_time)\n",
    "        plt.title('Surface Density Evolution of Protoplanetary Disk')\n",
    "        plt.xlabel('Radius (AU)')\n",
    "        plt.ylabel('Surface Density')\n",
    "        plt.xscale('log')\n",
    "        plt.yscale('log')\n",
    "        plt.show()\n",
    "        plt.pause(0.01)"
   ]
  },
  {
   "cell_type": "code",
   "execution_count": 111,
   "id": "916f285e",
   "metadata": {},
   "outputs": [],
   "source": [
    "def plot_mass_evol(f, alpha):\n",
    "    %matplotlib\n",
    "    mass_evol = calc_mass_evol(f, alpha)\n",
    "    plt.figure(2)\n",
    "    plt.plot(t/yrs2sec, mass_evol)\n",
    "    plt.title('Conservation of Mass of an Evolving Protoplanetary Disk')\n",
    "    plt.xlabel('Time (yrs)')\n",
    "    plt.ylabel('Total Mass (kg)')\n",
    "    plt.xscale('log')\n",
    "    plt.yscale('log')\n",
    "    plt.show()\n",
    "    print(f'The mass of the disk is {mass_evol[0]}\\n')"
   ]
  },
  {
   "cell_type": "code",
   "execution_count": 112,
   "id": "49be78a5",
   "metadata": {},
   "outputs": [],
   "source": [
    "def plot_press_evol(f, alpha):\n",
    "    %matplotlib\n",
    "    total_press_evol = calc_press_evol(f, alpha)\n",
    "    for i in range(len(total_press_evol)):\n",
    "        press_at_time = total_press_evol[i]\n",
    "        plt.figure(3)\n",
    "        plt.plot(x/AU, press_at_time)\n",
    "        plt.title('Pressure Evolution of Protoplanetary Disk')\n",
    "        plt.xlabel('Radius (AU)')\n",
    "        plt.ylabel('Pressure')\n",
    "        plt.yscale('log')\n",
    "        plt.show()\n",
    "        plt.pause(0.01)"
   ]
  },
  {
   "cell_type": "code",
   "execution_count": 113,
   "id": "9ab4a72c",
   "metadata": {},
   "outputs": [],
   "source": [
    "def plot_temp_evol():\n",
    "    %matplotlib\n",
    "    plt.figure(4)\n",
    "    plt.plot(x/AU, temp_evol)\n",
    "    plt.title('Temperature Evolvution in Protoplanetary Disk')\n",
    "    plt.xlabel('radius (AU)')\n",
    "    plt.ylabel('Temperature (K)')\n",
    "    plt.yscale('log')\n",
    "    plt.show()"
   ]
  },
  {
   "cell_type": "code",
   "execution_count": 114,
   "id": "ff14ff44",
   "metadata": {},
   "outputs": [
    {
     "name": "stdout",
     "output_type": "stream",
     "text": [
      "Using matplotlib backend: MacOSX\n"
     ]
    }
   ],
   "source": [
    "plot_sigma_evol(f, alpha2)"
   ]
  },
  {
   "cell_type": "code",
   "execution_count": 115,
   "id": "a934c70e",
   "metadata": {},
   "outputs": [
    {
     "name": "stdout",
     "output_type": "stream",
     "text": [
      "Using matplotlib backend: MacOSX\n"
     ]
    }
   ],
   "source": [
    "plot_press_evol(f, alpha2)"
   ]
  },
  {
   "cell_type": "code",
   "execution_count": 116,
   "id": "8de2b29b",
   "metadata": {},
   "outputs": [
    {
     "name": "stdout",
     "output_type": "stream",
     "text": [
      "Using matplotlib backend: MacOSX\n"
     ]
    }
   ],
   "source": [
    "plot_temp_evol()"
   ]
  },
  {
   "cell_type": "code",
   "execution_count": 117,
   "id": "5918872d",
   "metadata": {},
   "outputs": [
    {
     "name": "stdout",
     "output_type": "stream",
     "text": [
      "Using matplotlib backend: MacOSX\n",
      "The mass of the disk is 1.2182717015378666e+26\n",
      "\n"
     ]
    }
   ],
   "source": [
    "plot_mass_evol(f, alpha2)"
   ]
  },
  {
   "cell_type": "code",
   "execution_count": 118,
   "id": "dedc14d7",
   "metadata": {},
   "outputs": [],
   "source": [
    "# def plot_time_evol(f, df_dt, dist, alpha):\n",
    "#     %matplotlib\n",
    "#     for i in range(1, len(t) + 1):\n",
    "#         plt.clf\n",
    "#         for j in range(1, n-1):\n",
    "#             dX1 = X[j] - X[j-1]\n",
    "#             dX2 = X[j+1] - X[j]\n",
    "#             D1 = 0.5 * (D[j] + D[j-1])\n",
    "#             D2 = 0.5 * (D[j+1] + D[j])\n",
    "#             df_dt[j] = D1 * ((-(f[j] - f[j-1])/dX1**2)) + D2 * ((f[j+1]-f[j])/dX2**2)\n",
    "#         dX_final = X[-1]-X[-2]\n",
    "#         dX_in = X[1]-X[0]\n",
    "#         df_dt[0] = D[0] * (-(f[0] - f_in)/dX_in**2 + (f[1]-f[0])/dX_in**2)\n",
    "#         df_dt[n-1] = D[n-1] * (-(f[n-1] - f[n-2])/dX_final**2 + (f_out-f[n-1])/dX_final**2)\n",
    "#         f = f + df_dt * dt\n",
    "#         sigma_evol = [2*f[k]/(3*X[k]) for k in range(n)] #surface density at each radius at time t=i\n",
    "#         disk_mass = np.sum([2 * np.pi * dist[k] * dr * sigma_evol[k] for k in range(n)]) #mass of disk at t=i\n",
    "#         mass_evol.append(disk_mass)\n",
    "#         plt.figure(1)\n",
    "#         plt.plot(x/AU, sigma_evol)\n",
    "#         plt.title('Surface Density Evolution of Protoplanetary Disk')\n",
    "#         plt.xlabel('Radius (AU)')\n",
    "#         plt.ylabel('Surface Density')\n",
    "#         plt.xscale('log')\n",
    "#         plt.yscale('log')\n",
    "#         plt.show()\n",
    "#         plt.pause(0.01)\n",
    "#     plt.figure(2)\n",
    "#     plt.plot(t/yrs2sec, mass_evol)\n",
    "#     plt.title('Conservation of Mass of an Evolving Protoplanetary Disk')\n",
    "#     plt.xlabel('Time (yrs)')\n",
    "#     plt.ylabel('Total Mass (kg)')\n",
    "#     plt.xscale('log')\n",
    "#     plt.yscale('log')\n",
    "#     plt.show()\n",
    "#     print(f'The mass of the disk is {mass_evol[0]}\\n')"
   ]
  },
  {
   "cell_type": "code",
   "execution_count": null,
   "id": "bffc7a40",
   "metadata": {},
   "outputs": [],
   "source": []
  },
  {
   "cell_type": "code",
   "execution_count": null,
   "id": "a43cfa2e",
   "metadata": {},
   "outputs": [],
   "source": []
  },
  {
   "cell_type": "code",
   "execution_count": null,
   "id": "e42d191b",
   "metadata": {},
   "outputs": [],
   "source": []
  }
 ],
 "metadata": {
  "kernelspec": {
   "display_name": "Python 3",
   "language": "python",
   "name": "python3"
  },
  "language_info": {
   "codemirror_mode": {
    "name": "ipython",
    "version": 3
   },
   "file_extension": ".py",
   "mimetype": "text/x-python",
   "name": "python",
   "nbconvert_exporter": "python",
   "pygments_lexer": "ipython3",
   "version": "3.8.8"
  }
 },
 "nbformat": 4,
 "nbformat_minor": 5
}
