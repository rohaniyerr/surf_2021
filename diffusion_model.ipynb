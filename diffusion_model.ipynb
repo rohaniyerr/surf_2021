{
 "cells": [
  {
   "cell_type": "markdown",
   "id": "81555589",
   "metadata": {},
   "source": [
    "## **Diffusion Equation**"
   ]
  },
  {
   "cell_type": "markdown",
   "id": "39cade3a",
   "metadata": {},
   "source": [
    "$$\n",
    "\\frac{d\\Sigma}{dt} = \\frac{3}{r}\\frac{\\partial}{\\partial r} \\left[r^{1/2} \\frac{\\partial}{\\partial r}(\\nu \\Sigma r^{1/2})\\right]\n",
    "$$\n",
    "\n",
    "This is evolution equation for the surface density of a geometrically thin disk\n",
    "\n",
    "Putting this in the form of a diffusion equation:\n",
    "\n",
    "$$\n",
    "\\frac{\\partial f}{\\partial t} = D \\frac{\\partial^2 f}{\\partial X^2}\n",
    "$$\n",
    "where $X \\equiv 2r^{1/2}$, $f \\equiv \\frac{3}{2}\\Sigma X$ and $D = \\frac{12\\nu}{X^2}$\n"
   ]
  },
  {
   "cell_type": "markdown",
   "id": "1b2b18c4",
   "metadata": {},
   "source": [
    "We need numerical values for $\\nu$\n",
    "$$\n",
    "\\nu = \\alpha c_s H \\\\\n",
    "H = \\frac{c_s}{\\Omega} \\\\\n",
    "\\Omega = \\sqrt{\\frac{G*M_s}{r^3}} \\\\\n",
    "c_s = \\sqrt{\\frac{k_B * T}{\\mu * mH}} \\\\\n",
    "mH = \\frac{1}{N_A} \\\\\n",
    "\\mu = 2.3 \\\\\n",
    "$$\n",
    "\n",
    "The Temperature profile is given by:\n",
    "$$\n",
    "2 \\sigma_b T_{disk}^4 = \\frac{9}{4}\\Sigma \\nu \\Omega^2\\\\\n",
    "T^3 = \\frac{9}{8\\sigma_b}\\Sigma \\frac{k_b \\alpha}{\\mu mH}\\sqrt{\\frac{GM}{r^3}}\n",
    "$$\n",
    "\n",
    "The Pressure is given by:\n",
    "\n",
    "$$\n",
    "P = \\frac{c_s^2\\Sigma}{H} = c_s\\Sigma\\Omega\n",
    "$$\n"
   ]
  },
  {
   "cell_type": "code",
   "execution_count": 1,
   "id": "afd5f456",
   "metadata": {},
   "outputs": [],
   "source": [
    "import numpy as np\n",
    "import matplotlib.pyplot as plt\n",
    "import numba\n",
    "import pandas as pd\n",
    "import os\n",
    "from dust_diffuse import *"
   ]
  },
  {
   "cell_type": "code",
   "execution_count": 2,
   "id": "7f68f4b4",
   "metadata": {},
   "outputs": [],
   "source": [
    "#Natural Constants\n",
    "\n",
    "# T = 600 # Temperature\n",
    "mu = 2.2 # mean molar mass in disk\n",
    "avog = 6.02214 * 10**23 # avogadros number\n",
    "mH = 1.673534 * 10**-27 # atomic hydrogen mass\n",
    "kB = 1.380649 * 10**-23 #boltzmann constant\n",
    "G = 6.6738 * 10**-11 #gravitational constant\n",
    "Ms = 1.9886 * 10**30 #solar mass\n",
    "Me = 5.972 * 10 **24 #earth mass\n",
    "AU = 1.4959787 * 10**11 #astronomical units\n",
    "yrs2sec = 3.1536 * 10**7 #convert years to seconds\n",
    "sb = 5.6704*10**-8"
   ]
  },
  {
   "cell_type": "code",
   "execution_count": 3,
   "id": "75c96fcd",
   "metadata": {},
   "outputs": [],
   "source": [
    "#Disk Parameters\n",
    "alpha1 = 1.0 * 10**-2\n",
    "alpha2 = 1.0 * 10**-3\n",
    "alpha3 = 1.0 * 10**-4\n",
    "rin = 0.05 * AU #inner radius of the disk\n",
    "rout = 30 * AU #outer radius of the disk\n",
    "sigma_in  = 2 * 10**5 #boundary condition at t=0\n",
    "sigma_max = sigma_in*2 #boundary condition at t=final_time\n",
    "sigma_min = 1 * 10**2\n",
    "distance = rout - rin #distance from inner radius to outer radius\n",
    "St = .01 #Stokes Number\n",
    "v_gas = 0"
   ]
  },
  {
   "cell_type": "code",
   "execution_count": 4,
   "id": "bd6447ac",
   "metadata": {},
   "outputs": [],
   "source": [
    "#Temporal discretization\n",
    "max_years = 1\n",
    "dyr = .1\n",
    "dt = dyr * yrs2sec #timestep\n",
    "final_time = max_years*yrs2sec + 1 #total diffusion time in seconds"
   ]
  },
  {
   "cell_type": "code",
   "execution_count": 5,
   "id": "10eef03c",
   "metadata": {},
   "outputs": [],
   "source": [
    "#Spacial discretization\n",
    "\n",
    "n = 300 #number of steps / number of points to plot\n",
    "dr = distance/n #distance between each spacial step"
   ]
  },
  {
   "cell_type": "code",
   "execution_count": 6,
   "id": "ff9d256a",
   "metadata": {},
   "outputs": [],
   "source": [
    "#Plotting axes\n",
    "t = np.arange(0, final_time, dt)\n",
    "t_plot = []"
   ]
  },
  {
   "cell_type": "code",
   "execution_count": 7,
   "id": "63f23057",
   "metadata": {},
   "outputs": [],
   "source": [
    "#Initialize grid spaces\n",
    "\n",
    "dist = np.empty(n)\n",
    "Omega = np.empty(n)\n",
    "nu = np.empty(n)\n",
    "X = np.empty(n)\n",
    "D = np.empty(n)\n",
    "sigma = np.empty(n)\n",
    "f = np.empty(n)\n",
    "cs2 = np.empty(n)\n",
    "temp = np.empty(n)\n",
    "press = np.empty(n)\n",
    "sigma_dust = np.empty(n)\n",
    "# alpha_list = np.empty(n)"
   ]
  },
  {
   "cell_type": "code",
   "execution_count": 8,
   "id": "cf7f55e6",
   "metadata": {},
   "outputs": [],
   "source": [
    "#Initialize Staggered Grid\n",
    "\n",
    "dist_stag = np.empty(n-1)\n",
    "Omega_stag = np.empty(n-1)\n",
    "dPdr = np.empty(n-1)\n",
    "cs2_stag = np.empty(n-1)\n",
    "press_stag = np.empty(n-1)\n",
    "rho_stag = np.empty(n-1)\n",
    "v_dust = np.empty(n)"
   ]
  },
  {
   "cell_type": "code",
   "execution_count": 9,
   "id": "38e80c8a",
   "metadata": {},
   "outputs": [],
   "source": [
    "#Values that are saved\n",
    "\n",
    "sigma_evol = []\n",
    "temp_evol = []\n",
    "press_evol = []\n",
    "mass_evol = []\n",
    "v_dust_evol = []\n",
    "sigma_dust_evol = []"
   ]
  },
  {
   "cell_type": "code",
   "execution_count": 10,
   "id": "c43a6dfb",
   "metadata": {},
   "outputs": [],
   "source": [
    "#Boundary Conditions\n",
    "\n",
    "f_in = 0\n",
    "f_out = 0"
   ]
  },
  {
   "cell_type": "code",
   "execution_count": 11,
   "id": "8fb3daf9",
   "metadata": {},
   "outputs": [],
   "source": [
    "@numba.njit\n",
    "def make_alpha_grid():\n",
    "    alphas = np.empty(n)\n",
    "    for i in range(n):\n",
    "        if i < (n//3):\n",
    "            alphas[i] = alpha1\n",
    "        elif i < (2*n//3):\n",
    "            alphas[i] = alpha2\n",
    "        else:\n",
    "            alphas[i] = alpha3\n",
    "    return alphas"
   ]
  },
  {
   "cell_type": "code",
   "execution_count": 12,
   "id": "505858cb",
   "metadata": {},
   "outputs": [],
   "source": [
    "# @numba.njit\n",
    "def calc_init_params():\n",
    "    \"\"\"\n",
    "    Calculate the initial parameters values for time t = 0 and changing radius.\n",
    "    \"\"\"\n",
    "    #n((dist[i]+dist[i-1])/2)**3\n",
    "    alphas = make_alpha_grid()\n",
    "    for i in range(n):\n",
    "        dist[i] = (rin + (rout-rin)*i/(n-1))\n",
    "        sigma[i] = sigma_in * AU / dist[i]\n",
    "        if (sigma[i]>sigma_max):\n",
    "            sigma[i] = sigma_max\n",
    "        if (dist[i]/AU > 15):\n",
    "            sigma[i] = sigma_min\n",
    "        sigma_dust[i] = sigma[i] * 0.005\n",
    "        X[i] = 2 * np.sqrt(dist[i])\n",
    "        Omega[i] = np.sqrt(G * Ms / (dist[i] ** 3))\n",
    "#         temp[i] = ((9*sigma[i]*kB*alpha*Omega[i])/(8*sb*mu*mH))**(1/float(3))\n",
    "        temp[i]=100\n",
    "        cs2[i] = (kB * temp[i])/(mu*mH)\n",
    "        nu[i] = alphas[i]*cs2[i]/Omega[i]\n",
    "        D[i] = 12 * nu[i] / (X[i] ** 2)\n",
    "        f[i] = (1.5 * X[i] * sigma[i])"
   ]
  },
  {
   "cell_type": "code",
   "execution_count": 13,
   "id": "c7774dbe",
   "metadata": {},
   "outputs": [],
   "source": [
    "#dPdr = P[i]-P[i-1]/(dist[i] - dist[i-1]) --> make a new numpy n-1 staggered points\n",
    "def calc_stag_grid():\n",
    "    for i in range(1, n):\n",
    "        dist_stag[i-1] = 0.5 * (dist[i] + dist[i-1])\n",
    "        Omega_stag[i-1] = np.sqrt(G * Ms / dist_stag[i-1] ** 3)\n",
    "#         dPdr[i-1] = (press[i]-press[i-1])/(dist[i] - dist[i-1])\n",
    "        cs2_stag[i-1] = (kB * temp[i-1])/(mu*mH) # we will need the midpoint temperature at some point\n",
    "#         press_stag[i-1] = 0.5 * (press[i]+press[i-1])\n",
    "#     ro_stag = press_stag/cs2_stag"
   ]
  },
  {
   "cell_type": "code",
   "execution_count": 14,
   "id": "6578106c",
   "metadata": {},
   "outputs": [],
   "source": [
    "def calc_dust_vel(press):\n",
    "    press_stag = [0.5*(press[i]+press[i-1]) for i in range(1,n)]\n",
    "    dPdr = [(press[i] - press[i-1])/dist_stag[i-1] for i in range(1,n)]\n",
    "    rho_stag = press_stag/cs2_stag\n",
    "    v_dust = v_gas + (St/(1+(St)**2)) * (1 / (rho_stag * Omega_stag))*dPdr\n",
    "    v_dust = np.append(v_dust, 0)\n",
    "    return v_dust"
   ]
  },
  {
   "cell_type": "code",
   "execution_count": 15,
   "id": "574d7fd6",
   "metadata": {},
   "outputs": [],
   "source": [
    "@numba.njit\n",
    "def calc_temp():\n",
    "#     for i in range(n):\n",
    "# #         temp[i] = ((9*sigma[i]*kB*alpha*Omega[i])/(8*sb*mu*mH))**(1/float(3))\n",
    "#         temp[i]=100\n",
    "    temp = [100 for i in range(n)]\n",
    "    return temp"
   ]
  },
  {
   "cell_type": "code",
   "execution_count": 16,
   "id": "918bf7f3",
   "metadata": {},
   "outputs": [],
   "source": [
    "# @numba.njit\n",
    "def calc_press():\n",
    "    \"\"\"Calculate the pressure evolution at each dt at each  r\"\"\"\n",
    "#     for j in range(n):\n",
    "#         cs2[j] = (kB * temp[j])/(mu*mH)\n",
    "#         press[j] = np.sqrt(cs2[j])*sigma[j]*Omega[j]\n",
    "    press = [np.sqrt((kB * temp[j])/(mu*mH))*sigma[j]*Omega[j] for j in range(n)]\n",
    "    return press"
   ]
  },
  {
   "cell_type": "code",
   "execution_count": 17,
   "id": "a548eb10",
   "metadata": {},
   "outputs": [],
   "source": [
    "# def nds(nu, i):\n",
    "#     return nu[i]*dist[i]*sigma[i]"
   ]
  },
  {
   "cell_type": "code",
   "execution_count": 18,
   "id": "9ecf8459",
   "metadata": {},
   "outputs": [],
   "source": [
    "# def calc_dust_evol(sigma, sigma_d, vn, dt):\n",
    "#     # sigma:   gas  density\n",
    "#     # sigma_d: dust density\n",
    "#     # vn:      dust advection velocity\n",
    "#     # dt:      timestep (in sec)\n",
    "# #     n  = len(sigma)\n",
    "#     Ad = np.empty(n)\n",
    "#     Bd = np.empty(n)\n",
    "#     Cd = np.empty(n)\n",
    "#     dt2 = dt ** 2\n",
    "#     # A(i,i)S(i,j+1) = S(i,j)     ... Ad(i)\n",
    "#     for i in range(n):\n",
    "#         Ad[i] = (-dt2/(dr*dr) * (0.5*nds(nu,i-1) + nds(nu,i) + 0.5*nds(nu,i+1))/sigma[i]) / dist[i]\n",
    "\n",
    "#         # add advection term, considering upwind scheme\n",
    "#         if (vn[i]<0):\n",
    "#             Ad[i] += vn[i]*dt2/dr\n",
    "            \n",
    "#         if (vn[i+1]>0 and i<(ngrid-1)):\n",
    "#             Ad[i] -= vn[i+1]*dt2/dr\n",
    "\n",
    "#     # A(i+1,i)S(i+1,j+1) = S(i,j) ... Bd(i)\n",
    "#     for i in range(n-1):\n",
    "#         Bd[i] =  (dt2/(dr*dr) * 0.5*(nds(nu,i) + nds(nu,i+1))/sigma[i+1]) / dist[i]\n",
    "        \n",
    "#         if (vn[i+1] < 0):\n",
    "#             Bd[i] -= (dist[i+1]/dist[i]) * vn[i+1]*dt2/dr\n",
    "\n",
    "#     # A(i-1,i)S(i-1,j+1) = S(i,j) ... Cd(i)\n",
    "#     for i in range(1,n):\n",
    "#         Cd[i] =  (dt2/(dr*dr) * 0.5*(nds(nu,i-1) + nds(nu,i))/sigma[i-1]) / dist[i]\n",
    "\n",
    "#         if (vn[i]>0):\n",
    "#             Cd[i] += (dist[i-1]/dist[i]) * vn[i]*dt2/dr\n",
    "\n",
    "\n",
    "#     sigma_d = solve_Crank_Nicolson(Ad, Bd, Cd, sigma_d)\n",
    "#     # end of calc_dust_evol\n",
    "   "
   ]
  },
  {
   "cell_type": "code",
   "execution_count": 19,
   "id": "a460bde7",
   "metadata": {},
   "outputs": [],
   "source": [
    "# # Solve ODE using Crank-Nicolson method\n",
    "# def solve_Crank_Nicolson(Ao, Bo, Co, S):\n",
    "#     theta = 0.5\n",
    "    \n",
    "#     # explicit side\n",
    "#     n = len(S)\n",
    "#     S1 = np.empty(n)\n",
    "#     for i in range(n):\n",
    "#         S1[i] = Co[i]*theta*S[max(0,i-1)] + (1+Ao[i]*theta)*S[i] + Bo[i]*theta*S[min(i+1, ngrid-1)]\n",
    "    \n",
    "#     # convert to implicit-solver matrix\n",
    "#     Ai = np.empty(n)\n",
    "#     Bi = np.empty(n)\n",
    "#     Ci = np.empty(n)\n",
    "    \n",
    "#     for i in range(n):\n",
    "#         Ai[i] = 1.0 - Ao[i]*(1-theta)\n",
    "#     for i in range(n-1):\n",
    "#         Bi[i] =     - Bo[i]*(1-theta)\n",
    "#     for i in range(1,n):\n",
    "#         Ci[i] =     - Co[i]*(1-theta)\n",
    "    \n",
    "#     # solve tridiag\n",
    "#     S2 = solve_tridiag(Ai, Bi, Ci, S1)\n",
    "\n",
    "#     return S2"
   ]
  },
  {
   "cell_type": "code",
   "execution_count": 20,
   "id": "eb020af6",
   "metadata": {},
   "outputs": [],
   "source": [
    "# def solve_tridiag(Ao, Bo, Co, S):\n",
    "#     A = Ao\n",
    "#     B = Bo\n",
    "#     C = Co;\n",
    "    \n",
    "#     imax = len(A);\n",
    "#     if (imax != len(B) or imax != len(C)):\n",
    "#         print(\"diffuse.cpp/solve_tridiag: wrong vector size.\")\n",
    "    \n",
    "#     # 1st row\n",
    "#     B[0] /= A[0]\n",
    "#     S[0] /= A[0]\n",
    "#     A[0] = 1.0\n",
    "    \n",
    "#     for j in range(1, imax):\n",
    "#         # swipe out C[j] to 0.0\n",
    "#         A[j] -= B[j-1] * C[j]\n",
    "#         S[j] -= S[j-1] * C[j]\n",
    "#         C[j] = 0.0\n",
    "        \n",
    "#         #  divide each component by A \n",
    "#         B[j] /= A[j]\n",
    "#         S[j] /= A[j]\n",
    "#         A[j] = 1.0\n",
    "    \n",
    "#     # solve diag\n",
    "#     for j in range(imax-2, -1, -1):\n",
    "#         # last row ... A[j-1] Sn[j-1] = Sb[j-1] */\n",
    "#         S[j] -= S[j+1] * B[j]\n",
    "\n",
    "#     return S\n"
   ]
  },
  {
   "cell_type": "code",
   "execution_count": 21,
   "id": "a5c9d0ea",
   "metadata": {},
   "outputs": [],
   "source": [
    "@numba.njit\n",
    "def calc_sigma_evol(f, dt):\n",
    "    \"\"\"Outputs the surface density at a specific dt.\"\"\"\n",
    "    df_dt = np.empty(n)\n",
    "    for j in range(1, n-1):\n",
    "        dX1 = X[j] - X[j-1]\n",
    "        dX2 = X[j+1] - X[j]\n",
    "        D1 = 0.5 * (D[j] + D[j-1])\n",
    "        D2 = 0.5 * (D[j+1] + D[j])\n",
    "        df_dt[j] = D1 * ((-(f[j] - f[j-1])/dX1**2)) + D2 * ((f[j+1]-f[j])/dX2**2)\n",
    "    dX_final = X[-1]-X[-2]\n",
    "    dX_in = X[1]-X[0]\n",
    "    df_dt[0] = D[0] * (-(f[0] - f_in)/dX_in**2 + (f[1]-f[0])/dX_in**2)\n",
    "    df_dt[n-1] = D[n-1] * (-(f[n-1] - f[n-2])/dX_final**2 + (f_out-f[n-1])/dX_final**2)\n",
    "    f_new = f + df_dt * dt\n",
    "    return f_new"
   ]
  },
  {
   "cell_type": "code",
   "execution_count": 22,
   "id": "c0592c5b",
   "metadata": {},
   "outputs": [],
   "source": [
    "# @numba.njit\n",
    "def calc_disk_mass(sigma):\n",
    "    \"\"\"Calculate the mass at a specific dt\"\"\"\n",
    "#     sigma_evol = calc_time_evol(f, alpha, dt)\n",
    "    disk_mass = 0\n",
    "    for j in range(n):\n",
    "        disk_mass += 2 * np.pi * dist[j] * dr * sigma[j]\n",
    "        disk_mass += 2 * np.pi * dist[j] * dr * sigma_dust[j]\n",
    "#     print(f'The mass of the disk is {disk_mass}.')\n",
    "    return disk_mass"
   ]
  },
  {
   "cell_type": "code",
   "execution_count": 23,
   "id": "d474f408",
   "metadata": {},
   "outputs": [],
   "source": [
    "@numba.njit\n",
    "def convert_f2sigma(f_new):\n",
    "    sigma_at_time = [2*f_new[k]/(3*X[k]) for k in range(n)]\n",
    "    return sigma_at_time"
   ]
  },
  {
   "cell_type": "code",
   "execution_count": 24,
   "id": "af28e5f9",
   "metadata": {},
   "outputs": [],
   "source": [
    "def save2dir(**alpha_run):\n",
    "    if(alpha_run):\n",
    "        if(alpha_run == alpha1):\n",
    "            output_dir = 'output_a1/'\n",
    "            filename = 'output_a1/disk_'\n",
    "        elif(alpha_run == alpha2):\n",
    "            output_dir = 'output_a2/'\n",
    "            filename = 'output_a2/disk_'\n",
    "        else:\n",
    "            output_dir = 'output_a3/'\n",
    "            filename = 'output_a3/disk_'\n",
    "    else:\n",
    "        output_dir = 'output/'\n",
    "        filename = 'output/disk_'\n",
    "    return (output_dir, filename)"
   ]
  },
  {
   "cell_type": "code",
   "execution_count": 25,
   "id": "098307c7",
   "metadata": {},
   "outputs": [
    {
     "name": "stdout",
     "output_type": "stream",
     "text": [
      "Using matplotlib backend: MacOSX\n"
     ]
    }
   ],
   "source": [
    "#Time Evolution Main\n",
    "\n",
    "# alpha_run = alpha2 #run for different alphas and plot results\n",
    "# fig, ax = plt.subplots(4,1)\n",
    "%matplotlib\n",
    "\n",
    "t_plot_interval = .1 #every ten years\n",
    "calc_init_params()\n",
    "calc_stag_grid()\n",
    "output_dir, filename = save2dir()\n",
    "if not os.path.exists(output_dir):\n",
    "    os.makedirs(output_dir)\n",
    "\n",
    "for i in range(0, len(t)):\n",
    "    f_new = calc_sigma_evol(f, dt)\n",
    "    T = calc_temp()\n",
    "    P = calc_press()\n",
    "    V_dust = calc_dust_vel(P)\n",
    "    V_dust[:] = 0\n",
    "    sigma_dust = calc_dust_evol(sigma, sigma_dust, nu, V_dust, dist, dt)\n",
    "    sigma = convert_f2sigma(f_new)\n",
    "    f = f_new\n",
    "    if (i%(t_plot_interval/dyr) == 0):\n",
    "        output = np.vstack([dist/AU, sigma, T, P])\n",
    "        output = np.transpose(output)\n",
    "        np.savetxt(filename + str(int(i*dyr)) + '.txt', output, delimiter=',', newline='\\n')# if you want to save results to file\n",
    "        sigma_evol.append(sigma)\n",
    "        temp_evol.append(T)\n",
    "        press_evol.append(P)\n",
    "        v_dust_evol.append(V_dust)\n",
    "        sigma_dust_evol.append(sigma_dust)\n",
    "        mass = calc_disk_mass(sigma)\n",
    "        mass_evol.append(mass)\n",
    "        t_plot.append(i*dyr)\n",
    "sigma_evol = np.array(sigma_evol)\n",
    "temp_evol = np.array(temp_evol)\n",
    "press_evol = np.array(press_evol)\n",
    "v_dust_evol = np.array(v_dust_evol)\n",
    "sigma_dust_evol = np.array(sigma_dust_evol)\n",
    "for j in range(len(t_plot)):\n",
    "    plt.title(f'Sigma Dust Evolution')\n",
    "    plt.xlabel('Distance (AU)')\n",
    "    plt.ylabel('Sigma Dust')\n",
    "    plt.yscale('log')\n",
    "    plt.plot(dist/AU, sigma_dust_evol[j,:])\n",
    "    plt.show()\n",
    "#     ax[0].semilogy(dist/AU, sigma_evol[j,:])\n",
    "#     ax[1].semilogy(dist/AU, temp_evol[j,:])\n",
    "#     ax[2].semilogy(dist/AU, press_evol[j,:])\n",
    "#     # plot mass evolution\n",
    "#     ax[3].semilogy(t_plot, mass_evol)\n"
   ]
  },
  {
   "cell_type": "code",
   "execution_count": 26,
   "id": "5221044e",
   "metadata": {},
   "outputs": [
    {
     "name": "stdout",
     "output_type": "stream",
     "text": [
      "[1.99925512e+03 1.99999999e+03 2.00000000e+03 2.00000025e+03\n",
      " 1.99999989e+03 1.81542153e+03 1.53609074e+03 1.33125557e+03\n",
      " 1.17462188e+03 1.05096661e+03 9.50866592e+02 8.68176539e+02\n",
      " 7.98717777e+02 7.39549839e+02 6.88543466e+02 6.44118914e+02\n",
      " 6.05079429e+02 5.70501813e+02 5.39662485e+02 5.11986301e+02\n",
      " 4.87010343e+02 4.64357820e+02 4.43718929e+02 4.24836601e+02\n",
      " 4.07495741e+02 3.91514993e+02 3.76740377e+02 3.63040311e+02\n",
      " 3.50301681e+02 3.38426712e+02 3.27330450e+02 3.16938732e+02\n",
      " 3.07186521e+02 2.98016545e+02 2.89378176e+02 2.81226486e+02\n",
      " 2.73521475e+02 2.66227406e+02 2.59312259e+02 2.52747253e+02\n",
      " 2.46506451e+02 2.40566417e+02 2.34905920e+02 2.29505680e+02\n",
      " 2.24348152e+02 2.19417333e+02 2.14698596e+02 2.10178546e+02\n",
      " 2.05844893e+02 2.01686341e+02 1.97692486e+02 1.93853734e+02\n",
      " 1.90161224e+02 1.86606753e+02 1.83182723e+02 1.79882084e+02\n",
      " 1.76698283e+02 1.73625225e+02 1.70657230e+02 1.67789001e+02\n",
      " 1.65015591e+02 1.62332374e+02 1.59735022e+02 1.57219476e+02\n",
      " 1.54781933e+02 1.52418820e+02 1.50126779e+02 1.47902651e+02\n",
      " 1.45743462e+02 1.43646409e+02 1.41608847e+02 1.39628281e+02\n",
      " 1.37702351e+02 1.35828828e+02 1.34005602e+02 1.32230674e+02\n",
      " 1.30502150e+02 1.28818233e+02 1.27177219e+02 1.25577488e+02\n",
      " 1.24017503e+02 1.22495801e+02 1.21010988e+02 1.19561740e+02\n",
      " 1.18146794e+02 1.16764947e+02 1.15415050e+02 1.14096009e+02\n",
      " 1.12806776e+02 1.11546353e+02 1.10313786e+02 1.09108159e+02\n",
      " 1.07928601e+02 1.06774274e+02 1.05644378e+02 1.04538144e+02\n",
      " 1.03454827e+02 1.02393551e+02 1.01352283e+02 1.00337581e+02\n",
      " 9.93375650e+01 9.83582469e+01 9.73988930e+01 9.64578360e+01\n",
      " 9.55347871e+01 9.46292370e+01 9.37406926e+01 9.28686793e+01\n",
      " 9.20127402e+01 9.11724348e+01 9.03473387e+01 8.95370426e+01\n",
      " 8.87411519e+01 8.79592857e+01 8.71910768e+01 8.64361702e+01\n",
      " 8.56942235e+01 8.49649058e+01 8.42478973e+01 8.35428891e+01\n",
      " 8.28495823e+01 8.21676880e+01 8.14969268e+01 8.08370282e+01\n",
      " 8.01877305e+01 7.95487802e+01 7.89199319e+01 7.83009480e+01\n",
      " 7.76915981e+01 7.70916591e+01 7.65009147e+01 7.59191550e+01\n",
      " 7.53461766e+01 7.47817823e+01 7.42257804e+01 7.36779853e+01\n",
      " 7.31382166e+01 7.26062990e+01 7.20820627e+01 7.15653423e+01\n",
      " 7.10559774e+01 7.05538120e+01 7.00586947e+01 6.95704779e+01\n",
      " 6.90890185e+01 6.86141772e+01 6.81458231e+01 6.76842560e+01\n",
      " 6.72497008e+01 6.64110153e+01 8.55665227e-01 4.87875945e-01\n",
      " 4.99600091e-01 4.99995086e-01 4.99999962e-01 5.00000000e-01\n",
      " 5.00000000e-01 5.00000000e-01 5.00000000e-01 5.00000000e-01\n",
      " 5.00000000e-01 5.00000000e-01 5.00000000e-01 5.00000000e-01\n",
      " 5.00000000e-01 5.00000000e-01 5.00000000e-01 5.00000000e-01\n",
      " 5.00000000e-01 5.00000000e-01 5.00000000e-01 5.00000000e-01\n",
      " 5.00000000e-01 5.00000000e-01 5.00000000e-01 5.00000000e-01\n",
      " 5.00000000e-01 5.00000000e-01 5.00000000e-01 5.00000000e-01\n",
      " 5.00000000e-01 5.00000000e-01 5.00000000e-01 5.00000000e-01\n",
      " 5.00000000e-01 5.00000000e-01 5.00000000e-01 5.00000000e-01\n",
      " 5.00000000e-01 5.00000000e-01 5.00000000e-01 5.00000000e-01\n",
      " 5.00000000e-01 5.00000000e-01 5.00000000e-01 5.00000000e-01\n",
      " 5.00000000e-01 5.00000014e-01 5.00000477e-01 4.99999519e-01\n",
      " 4.99999939e-01 5.00000052e-01 5.00000000e-01 5.00000000e-01\n",
      " 5.00000000e-01 5.00000000e-01 5.00000000e-01 5.00000000e-01\n",
      " 5.00000000e-01 5.00000000e-01 5.00000000e-01 5.00000000e-01\n",
      " 5.00000000e-01 5.00000000e-01 5.00000000e-01 5.00000000e-01\n",
      " 5.00000000e-01 5.00000000e-01 5.00000000e-01 5.00000000e-01\n",
      " 5.00000000e-01 5.00000000e-01 5.00000000e-01 5.00000000e-01\n",
      " 5.00000000e-01 5.00000000e-01 5.00000000e-01 5.00000000e-01\n",
      " 5.00000000e-01 5.00000000e-01 5.00000000e-01 5.00000000e-01\n",
      " 5.00000000e-01 5.00000000e-01 5.00000000e-01 5.00000000e-01\n",
      " 5.00000000e-01 5.00000000e-01 5.00000000e-01 5.00000000e-01\n",
      " 5.00000000e-01 5.00000000e-01 5.00000000e-01 5.00000000e-01\n",
      " 5.00000000e-01 5.00000000e-01 5.00000000e-01 5.00000000e-01\n",
      " 5.00000000e-01 5.00000000e-01 5.00000000e-01 5.00000000e-01\n",
      " 5.00000000e-01 5.00000000e-01 5.00000000e-01 5.00000000e-01\n",
      " 5.00000000e-01 5.00000000e-01 5.00000000e-01 5.00000000e-01\n",
      " 5.00000000e-01 5.00000000e-01 5.00000000e-01 5.00000000e-01\n",
      " 5.00000000e-01 5.00000000e-01 5.00000000e-01 5.00000000e-01\n",
      " 5.00000000e-01 5.00000000e-01 5.00000000e-01 5.00000000e-01\n",
      " 5.00000000e-01 5.00000000e-01 5.00000000e-01 5.00000000e-01\n",
      " 5.00000000e-01 5.00000000e-01 5.00000000e-01 5.00000000e-01\n",
      " 5.00000000e-01 5.00000000e-01 5.00000000e-01 5.00000000e-01\n",
      " 5.00000000e-01 5.00000000e-01 5.00000000e-01 5.00000000e-01\n",
      " 5.00000000e-01 5.00000000e-01 5.00000000e-01 5.00000000e-01\n",
      " 5.00000000e-01 5.00000000e-01 5.00000291e-01 5.00765578e-01\n",
      " 2.25597911e+00 3.28260925e+03 4.47151239e+06 4.09852655e+09]\n"
     ]
    }
   ],
   "source": [
    "print(sigma_dust)"
   ]
  },
  {
   "cell_type": "code",
   "execution_count": 27,
   "id": "efd9c3f5",
   "metadata": {},
   "outputs": [],
   "source": [
    "# @numba.njit\n",
    "def compare_code(f):\n",
    "    \"\"\"Compare C++ code to Python code\"\"\"\n",
    "    telapsed = [100, 1000]\n",
    "    count = 0\n",
    "    for time in telapsed:\n",
    "        df = pd.read_csv('case/radial_' + str(time) + '.txt', delimiter='\\t', header=None)\n",
    "        sigma_c = df[1].to_numpy().astype(np.int)\n",
    "        sigma_py = sigma_evol[int((time/t_plot_interval)),:]\n",
    "        plt.title(f'Python vs C++ Surface Density at t={time} years')\n",
    "        plt.xlabel('Radius (AU)')\n",
    "        plt.ylabel('Surface Density')\n",
    "        plt.yscale('log')\n",
    "        plt.plot(dist/AU, sigma_py, label='Python')\n",
    "        plt.plot(dist/AU, sigma_c, label='C++')\n",
    "        plt.legend()\n",
    "        plt.show()"
   ]
  },
  {
   "cell_type": "code",
   "execution_count": 28,
   "id": "1720da03",
   "metadata": {},
   "outputs": [],
   "source": [
    "# @numba.njit\n",
    "def plot_rms(f):\n",
    "    \"\"\"Plot RMS of Python vs C++\"\"\"\n",
    "    t_elapsed = [100, 1000]\n",
    "    t_rms = np.arange(0, final_time, n)\n",
    "    rms = []\n",
    "    for time in t_elapsed:\n",
    "        df = pd.read_csv('case/radial_' + str(time) + '.txt', delimiter='\\t', header=None)\n",
    "        sigma_c = df[1].to_numpy().astype(np.int)\n",
    "        sigma_py = sigma_evol[int((time/t_plot_interval)),:]\n",
    "        rms.append(np.sum(((sigma_c - sigma_py)/(sigma_c))**2))\n",
    "    plt.title('Root Mean Surface Density at t={time} years')\n",
    "    plt.xlabel('Time (years)')\n",
    "    plt.ylabel('RMS')\n",
    "    plt.yscale('log')\n",
    "    plt.plot(t_elapsed, rms)\n",
    "    plt.show()"
   ]
  },
  {
   "cell_type": "code",
   "execution_count": 29,
   "id": "f7223886",
   "metadata": {},
   "outputs": [
    {
     "name": "stdout",
     "output_type": "stream",
     "text": [
      "First alpha change is at 10.066722408026756\n",
      "Second alpha change is at 20.08344481605351\n"
     ]
    }
   ],
   "source": [
    "print(f'First alpha change is at {dist[n//3]/AU}')\n",
    "print(f'Second alpha change is at {dist[2*n//3]/AU}')"
   ]
  },
  {
   "cell_type": "code",
   "execution_count": 30,
   "id": "7703b00c",
   "metadata": {},
   "outputs": [
    {
     "data": {
      "text/plain": [
       "array([0., 0., 0., 0., 0., 0., 0., 0., 0., 0., 0., 0., 0., 0., 0., 0., 0.,\n",
       "       0., 0., 0., 0., 0., 0., 0., 0., 0., 0., 0., 0., 0., 0., 0., 0., 0.,\n",
       "       0., 0., 0., 0., 0., 0., 0., 0., 0., 0., 0., 0., 0., 0., 0., 0., 0.,\n",
       "       0., 0., 0., 0., 0., 0., 0., 0., 0., 0., 0., 0., 0., 0., 0., 0., 0.,\n",
       "       0., 0., 0., 0., 0., 0., 0., 0., 0., 0., 0., 0., 0., 0., 0., 0., 0.,\n",
       "       0., 0., 0., 0., 0., 0., 0., 0., 0., 0., 0., 0., 0., 0., 0., 0., 0.,\n",
       "       0., 0., 0., 0., 0., 0., 0., 0., 0., 0., 0., 0., 0., 0., 0., 0., 0.,\n",
       "       0., 0., 0., 0., 0., 0., 0., 0., 0., 0., 0., 0., 0., 0., 0., 0., 0.,\n",
       "       0., 0., 0., 0., 0., 0., 0., 0., 0., 0., 0., 0., 0., 0., 0., 0., 0.,\n",
       "       0., 0., 0., 0., 0., 0., 0., 0., 0., 0., 0., 0., 0., 0., 0., 0., 0.,\n",
       "       0., 0., 0., 0., 0., 0., 0., 0., 0., 0., 0., 0., 0., 0., 0., 0., 0.,\n",
       "       0., 0., 0., 0., 0., 0., 0., 0., 0., 0., 0., 0., 0., 0., 0., 0., 0.,\n",
       "       0., 0., 0., 0., 0., 0., 0., 0., 0., 0., 0., 0., 0., 0., 0., 0., 0.,\n",
       "       0., 0., 0., 0., 0., 0., 0., 0., 0., 0., 0., 0., 0., 0., 0., 0., 0.,\n",
       "       0., 0., 0., 0., 0., 0., 0., 0., 0., 0., 0., 0., 0., 0., 0., 0., 0.,\n",
       "       0., 0., 0., 0., 0., 0., 0., 0., 0., 0., 0., 0., 0., 0., 0., 0., 0.,\n",
       "       0., 0., 0., 0., 0., 0., 0., 0., 0., 0., 0., 0., 0., 0., 0., 0., 0.,\n",
       "       0., 0., 0., 0., 0., 0., 0., 0., 0., 0., 0.])"
      ]
     },
     "execution_count": 30,
     "metadata": {},
     "output_type": "execute_result"
    }
   ],
   "source": [
    "V_dust"
   ]
  },
  {
   "cell_type": "code",
   "execution_count": null,
   "id": "5b2b229e",
   "metadata": {},
   "outputs": [],
   "source": []
  }
 ],
 "metadata": {
  "kernelspec": {
   "display_name": "Python 3",
   "language": "python",
   "name": "python3"
  },
  "language_info": {
   "codemirror_mode": {
    "name": "ipython",
    "version": 3
   },
   "file_extension": ".py",
   "mimetype": "text/x-python",
   "name": "python",
   "nbconvert_exporter": "python",
   "pygments_lexer": "ipython3",
   "version": "3.8.8"
  }
 },
 "nbformat": 4,
 "nbformat_minor": 5
}
