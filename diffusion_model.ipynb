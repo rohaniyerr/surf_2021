{
 "cells": [
  {
   "cell_type": "markdown",
   "id": "6da6aeb2",
   "metadata": {},
   "source": [
    "## **Diffusion Equation**"
   ]
  },
  {
   "cell_type": "markdown",
   "id": "2b8af37c",
   "metadata": {},
   "source": [
    "$$\n",
    "\\frac{d\\Sigma}{dt} = \\frac{3}{r}\\frac{\\partial}{\\partial r} \\left[r^{1/2} \\frac{\\partial}{\\partial r}(\\nu \\Sigma r^{1/2})\\right]\n",
    "$$\n",
    "\n",
    "This is evolution equation for the surface density of a geometrically thin disk\n",
    "\n",
    "Putting this in the form of a diffusion equation:\n",
    "\n",
    "$$\n",
    "\\frac{\\partial f}{\\partial t} = D \\frac{\\partial^2 f}{\\partial X^2}\n",
    "$$\n",
    "where $X \\equiv 2r^{1/2}$, $f \\equiv \\frac{3}{2}\\Sigma X$ and $D = \\frac{12\\nu}{X^2}$\n"
   ]
  },
  {
   "cell_type": "markdown",
   "id": "92c1a77e",
   "metadata": {},
   "source": [
    "We need numerical values for $\\nu$\n",
    "$$\n",
    "\\nu = \\alpha c_s H \\\\\n",
    "H = \\frac{c_s}{\\Omega} \\\\\n",
    "\\Omega = \\sqrt{\\frac{G*M_s}{r^3}} \\\\\n",
    "c_s = \\sqrt{\\frac{k_B * T}{\\mu * mH}} \\\\\n",
    "mH = \\frac{1}{N_A} \\\\\n",
    "\\mu = 2.3 \\\\\n",
    "$$\n",
    "\n",
    "The Temperature profile is given by:\n",
    "$$\n",
    "2 \\sigma_b T_{disk}^4 = \\frac{9}{4}\\Sigma \\nu \\Omega^2\\\\\n",
    "T^3 = \\frac{9}{8\\sigma_b}\\Sigma \\frac{k_b \\alpha}{\\mu mH}\\sqrt{\\frac{GM}{r^3}}\n",
    "$$\n",
    "\n",
    "The Pressure is given by:\n",
    "\n",
    "$$\n",
    "P = \\frac{c_s^2\\Sigma}{H} = c_s\\Sigma\\Omega\n",
    "$$\n"
   ]
  },
  {
   "cell_type": "code",
   "execution_count": 2,
   "id": "f4bd37fd",
   "metadata": {},
   "outputs": [],
   "source": [
    "import numpy as np\n",
    "import matplotlib.pyplot as plt\n",
    "import numba\n",
    "import pandas as pd\n",
    "import os"
   ]
  },
  {
   "cell_type": "code",
   "execution_count": 3,
   "id": "30ceb33e",
   "metadata": {},
   "outputs": [],
   "source": [
    "#Natural Constants\n",
    "\n",
    "# T = 600 # Temperature\n",
    "mu = 2.2 # mean molar mass in disk\n",
    "avog = 6.02214 * 10**23 # avogadros number\n",
    "mH = 1.673534 * 10**-27 # atomic hydrogen mass\n",
    "kB = 1.380649 * 10**-23 #boltzmann constant\n",
    "G = 6.6738 * 10**-11 #gravitational constant\n",
    "Ms = 1.9886 * 10**30 #solar mass\n",
    "Me = 5.972 * 10 **24 #earth mass\n",
    "AU = 1.4959787 * 10**11 #astronomical units\n",
    "yrs2sec = 3.1536 * 10**7 #convert years to seconds\n",
    "sb = 5.6704*10**-8"
   ]
  },
  {
   "cell_type": "code",
   "execution_count": 4,
   "id": "c021fe0d",
   "metadata": {},
   "outputs": [],
   "source": [
    "#Disk Parameters\n",
    "alpha1 = 1.0 * 10**-2\n",
    "alpha2 = 1.0 * 10**-3\n",
    "alpha3 = 1.0 * 10**-4\n",
    "alphas = [alpha1, alpha2, alpha3]\n",
    "rin = 0.05 * AU #inner radius of the disk\n",
    "rout = 30 * AU #outer radius of the disk\n",
    "sigma_in  = 2 * 10**5 #boundary condition at t=0\n",
    "sigma_max = sigma_in*2 #boundary condition at t=final_time\n",
    "sigma_min = 1 * 10**2\n",
    "distance = rout - rin #distance from inner radius to outer radius"
   ]
  },
  {
   "cell_type": "code",
   "execution_count": 5,
   "id": "1a9cb529",
   "metadata": {},
   "outputs": [],
   "source": [
    "#File settings\n",
    "home_dir = '~/git/surf_2021/'\n",
    "output_dir = os.path.join(home_dir, 'outputs/')\n",
    "filename = 'outputs/disk_'\n",
    "is_saveresults = True"
   ]
  },
  {
   "cell_type": "code",
   "execution_count": 6,
   "id": "e95c451b",
   "metadata": {},
   "outputs": [],
   "source": [
    "#Temporal discretization\n",
    "max_years = 1000\n",
    "dyr = 1\n",
    "dt = dyr * yrs2sec #timestep\n",
    "final_time = max_years*yrs2sec #total diffusion time in seconds"
   ]
  },
  {
   "cell_type": "code",
   "execution_count": 7,
   "id": "f2d7b2db",
   "metadata": {},
   "outputs": [],
   "source": [
    "#Spacial discretization\n",
    "\n",
    "n = 600 #number of steps / number of points to plot\n",
    "dr = distance/n #distance between each spacial step"
   ]
  },
  {
   "cell_type": "code",
   "execution_count": 8,
   "id": "202a6efc",
   "metadata": {},
   "outputs": [],
   "source": [
    "#Plotting axes\n",
    "x = np.linspace(rin + dr/2, rout - dr/2, n)\n",
    "t = np.arange(0, final_time, dt*max_years/n)"
   ]
  },
  {
   "cell_type": "code",
   "execution_count": 9,
   "id": "59bde342",
   "metadata": {},
   "outputs": [],
   "source": [
    "#Initialize grid spaces\n",
    "\n",
    "dist = np.empty(n)\n",
    "Omega = np.empty(n)\n",
    "nu = np.empty(n)\n",
    "X = np.empty(n)\n",
    "D = np.empty(n)\n",
    "sigma = np.empty(n)\n",
    "df_dt = np.empty(n)\n",
    "f = np.empty(n)\n",
    "cs2 = np.empty(n)\n",
    "temp = np.empty(n)\n",
    "press = np.empty(n)"
   ]
  },
  {
   "cell_type": "code",
   "execution_count": 10,
   "id": "bdac41e4",
   "metadata": {},
   "outputs": [],
   "source": [
    "#Values that are saved\n",
    "\n",
    "sigma_evol = []\n",
    "temp_evol = []\n",
    "press_evol = []"
   ]
  },
  {
   "cell_type": "code",
   "execution_count": 11,
   "id": "f8bdfeb5",
   "metadata": {},
   "outputs": [],
   "source": [
    "#Boundary Conditions\n",
    "\n",
    "f_in = 0\n",
    "f_out = 0"
   ]
  },
  {
   "cell_type": "code",
   "execution_count": 12,
   "id": "13af7898",
   "metadata": {},
   "outputs": [],
   "source": [
    "# @numba.njit\n",
    "def calc_init_params(alpha):\n",
    "    \"\"\"\n",
    "    Calculate the initial parameters values for time t = 0 and changing radius.\n",
    "    \"\"\"\n",
    "    for i in range(n):\n",
    "        dist[i] = (rin + (rout-rin)*i/(n-1))\n",
    "        sigma[i] = sigma_in * AU / dist[i]\n",
    "        if (sigma[i]>sigma_max):\n",
    "            sigma[i] = sigma_max\n",
    "        if (dist[i]/AU > 15):\n",
    "            sigma[i] = sigma_min\n",
    "        X[i] = 2 * np.sqrt(dist[i])\n",
    "        Omega[i] = np.sqrt(G * Ms / (dist[i] ** 3))\n",
    "        temp[i] = ((9*sigma[i]*kB*alpha*Omega[i])/(8*sb*mu*mH))**(1/float(3))\n",
    "        cs2[i] = (kB * temp[i])/(mu*mH)\n",
    "        nu[i] = alpha*cs2[i]/Omega[i]\n",
    "        D[i] = 12 * nu[i] / (X[i] ** 2)\n",
    "        f[i] = (1.5 * X[i] * sigma[i])"
   ]
  },
  {
   "cell_type": "code",
   "execution_count": 13,
   "id": "ab0a5793",
   "metadata": {},
   "outputs": [],
   "source": [
    "def calc_temp(f, alpha):\n",
    "    for i in range(n):\n",
    "        temp[i] = ((9*sigma[i]*kB*alpha*Omega[i])/(8*sb*mu*mH))**(1/float(3))\n",
    "    return temp"
   ]
  },
  {
   "cell_type": "code",
   "execution_count": 14,
   "id": "747167b0",
   "metadata": {},
   "outputs": [],
   "source": [
    "# @numba.njit\n",
    "def calc_press(f, alpha, T):\n",
    "    \"\"\"Calculate the pressure evolution at each dt at each  r\"\"\"\n",
    "    for j in range(n):\n",
    "        cs2[j] = (kB * temp[j])/(mu*mH)\n",
    "        press[j] = np.sqrt(cs2[j])*sigma[j]*Omega[j]\n",
    "    return press"
   ]
  },
  {
   "cell_type": "code",
   "execution_count": 15,
   "id": "ad9d837b",
   "metadata": {},
   "outputs": [],
   "source": [
    "# @numba.njit\n",
    "def calc_sigma_evol(f, alpha, year):\n",
    "    \"\"\"Outputs the surface density at a specific year\"\"\"\n",
    "    for j in range(1, n-1):\n",
    "        dX1 = X[j] - X[j-1]\n",
    "        dX2 = X[j+1] - X[j]\n",
    "        D1 = 0.5 * (D[j] + D[j-1])\n",
    "        D2 = 0.5 * (D[j+1] + D[j])\n",
    "        df_dt[j] = D1 * ((-(f[j] - f[j-1])/dX1**2)) + D2 * ((f[j+1]-f[j])/dX2**2)\n",
    "    dX_final = X[-1]-X[-2]\n",
    "    dX_in = X[1]-X[0]\n",
    "    df_dt[0] = D[0] * (-(f[0] - f_in)/dX_in**2 + (f[1]-f[0])/dX_in**2)\n",
    "    df_dt[n-1] = D[n-1] * (-(f[n-1] - f[n-2])/dX_final**2 + (f_out-f[n-1])/dX_final**2)\n",
    "    f_new = f + df_dt * dt\n",
    "    return f_new"
   ]
  },
  {
   "cell_type": "code",
   "execution_count": 16,
   "id": "bbed8e13",
   "metadata": {},
   "outputs": [],
   "source": [
    "def convert_f2sigma(f_new):\n",
    "    sigma_at_time = [2*f_new[k]/(3*X[k]) for k in range(n)]\n",
    "    return sigma_at_time"
   ]
  },
  {
   "cell_type": "code",
   "execution_count": 17,
   "id": "2d22005a",
   "metadata": {},
   "outputs": [],
   "source": [
    "# @numba.njit\n",
    "def calc_time_evol(f, alpha, year):\n",
    "    \"\"\"Outputs the surface density at a specific year\"\"\"\n",
    "    for i in range(1, len(t)):\n",
    "        f_new = calc_sigma_evol(f, alpha, year)\n",
    "        T = calc_temp(f_new, alpha)\n",
    "        P = calc_press(f_new, T, alpha)\n",
    "        sigma = convert_f2sigma(f_new)\n",
    "        f = f_new\n",
    "        if (is_saveresults):\n",
    "            if not os.path.exists(output_dir):\n",
    "                os.makedirs(output_dir)\n",
    "            np.savetxt(filename + str(i) + '.txt', [f_new, T, P], delimiter=',', newline='\\n')# if you want to save results to file\n",
    "            sigma_evol.append(sigma)\n",
    "            temp_evol.append(T)\n",
    "            press_evol.append(P)\n",
    "    return sigma_evol"
   ]
  },
  {
   "cell_type": "code",
   "execution_count": 18,
   "id": "1a8d9bfd",
   "metadata": {},
   "outputs": [],
   "source": [
    "def calc_mass_evol(f, alpha, year):\n",
    "    \"\"\"Calculate the mass at a specific year\"\"\"\n",
    "    sigma_evol = calc_time_evol(f, alpha, year)\n",
    "    for j in range(n):\n",
    "        disk_mass += 2 * np.pi * dist[j] * dr * sigma_evol[j] #mass of disk at t=year\n",
    "    print(f'The mass of the disk is {disk_mass}.')\n",
    "    return disk_mass"
   ]
  },
  {
   "cell_type": "code",
   "execution_count": 19,
   "id": "b3ba36f7",
   "metadata": {},
   "outputs": [],
   "source": [
    "def plot_sigma_evol(f, alpha, year):\n",
    "    %matplotlib\n",
    "    for i in range(year):\n",
    "        calc_sigma_evol(f, alpha, i)\n",
    "        plt.figure(1)\n",
    "        plt.plot(x/AU, sigma_at_time)\n",
    "        plt.title('Surface Density Evolution of Protoplanetary Disk')\n",
    "        plt.xlabel('Radius (AU)')\n",
    "        plt.ylabel('Surface Density')\n",
    "        plt.xscale('log')\n",
    "        plt.yscale('log')\n",
    "        plt.show()\n",
    "        plt.pause(0.01)"
   ]
  },
  {
   "cell_type": "code",
   "execution_count": 20,
   "id": "85d200bd",
   "metadata": {},
   "outputs": [],
   "source": [
    "def plot_temp_evol(f, alpha, year):\n",
    "    %matplotlib\n",
    "    for i in range(year):\n",
    "        temp_at_time = calc_temp_evol(f, alpha, year)\n",
    "        plt.figure(4)\n",
    "        plt.plot(x/AU, temp_at_time)\n",
    "        plt.title('Temperature Evolvution in Protoplanetary Disk')\n",
    "        plt.xlabel('radius (AU)')\n",
    "        plt.ylabel('Temperature (K)')\n",
    "        plt.yscale('log')\n",
    "        plt.show()"
   ]
  },
  {
   "cell_type": "code",
   "execution_count": 21,
   "id": "02cb1664",
   "metadata": {},
   "outputs": [],
   "source": [
    "def plot_mass_evol(f, alpha, year):\n",
    "    %matplotlib\n",
    "    _ = calc_time_evol(f, alpha, year)\n",
    "    for i in range(year):\n",
    "        mass_at_time = calc_mass_evol(f, alpha, i)\n",
    "        plt.figure(2)\n",
    "        plt.plot(t/yrs2sec, mass_at_time)\n",
    "        plt.title('Conservation of Mass of an Evolving Protoplanetary Disk')\n",
    "        plt.xlabel('Time (yrs)')\n",
    "        plt.ylabel('Total Mass (kg)')\n",
    "        plt.xscale('log')\n",
    "        plt.yscale('log')\n",
    "        plt.show()"
   ]
  },
  {
   "cell_type": "code",
   "execution_count": 22,
   "id": "ae6023ec",
   "metadata": {},
   "outputs": [],
   "source": [
    "def plot_press_evol(f, alpha, year):\n",
    "    %matplotlib\n",
    "    _ = calc_time_evol(f, alpha, year)\n",
    "    for i in range(year):\n",
    "        press_at_time = press_evol[i]\n",
    "        plt.figure(3)\n",
    "        plt.plot(x/AU, press_at_time)\n",
    "        plt.title('Pressure Evolution of Protoplanetary Disk')\n",
    "        plt.xlabel('Radius (AU)')\n",
    "        plt.ylabel('Pressure')\n",
    "        plt.yscale('log')\n",
    "        plt.show()\n",
    "        plt.pause(0.01)"
   ]
  },
  {
   "cell_type": "code",
   "execution_count": 23,
   "id": "63a6d63f",
   "metadata": {},
   "outputs": [],
   "source": [
    "calc_init_params(alpha1)\n",
    "# calc_time_evol(f, alpha1, 10)"
   ]
  },
  {
   "cell_type": "code",
   "execution_count": null,
   "id": "d63b564b",
   "metadata": {},
   "outputs": [],
   "source": []
  },
  {
   "cell_type": "code",
   "execution_count": null,
   "id": "4dcadf12",
   "metadata": {},
   "outputs": [],
   "source": []
  },
  {
   "cell_type": "code",
   "execution_count": null,
   "id": "cc8fd9aa",
   "metadata": {},
   "outputs": [],
   "source": []
  },
  {
   "cell_type": "code",
   "execution_count": 24,
   "id": "f6c475e9",
   "metadata": {},
   "outputs": [
    {
     "data": {
      "image/png": "[encoded data removed]",
      "text/plain": [
       "<Figure size 432x288 with 1 Axes>"
      ]
     },
     "metadata": {
      "needs_background": "light"
     },
     "output_type": "display_data"
    },
    {
     "data": {
      "image/png": "[encoded data removed]",
      "text/plain": [
       "<Figure size 432x288 with 1 Axes>"
      ]
     },
     "metadata": {
      "needs_background": "light"
     },
     "output_type": "display_data"
    },
    {
     "data": {
      "image/png": "[encoded data removed]",
      "text/plain": [
       "<Figure size 432x288 with 1 Axes>"
      ]
     },
     "metadata": {
      "needs_background": "light"
     },
     "output_type": "display_data"
    }
   ],
   "source": [
    "#Compare C++ code to Python code\n",
    "telapsed = [10, 100, 1000]\n",
    "count = 0\n",
    "for time in telapsed:\n",
    "    df = pd.read_csv('case/radial_' + str(time) + '.txt', delimiter='\\t', header=None)\n",
    "    sigma_c = df[1].to_numpy().astype(np.int)\n",
    "    sigma_py = calc_sigma_evol(f, alpha2, time)\n",
    "    plt.title(f'Python vs C++ Surface Density at t={time} years')\n",
    "    plt.xlabel('Radius (AU)')\n",
    "    plt.ylabel('Surface Density')\n",
    "    plt.yscale('log')\n",
    "    plt.plot(x/AU, sigma_c, label='C++')\n",
    "    plt.plot(x/AU, sigma_py, label='Python')\n",
    "    plt.legend()\n",
    "    plt.show()"
   ]
  },
  {
   "cell_type": "code",
   "execution_count": 25,
   "id": "76811ea9",
   "metadata": {},
   "outputs": [
    {
     "data": {
      "image/png": "[encoded data removed]",
      "text/plain": [
       "<Figure size 432x288 with 1 Axes>"
      ]
     },
     "metadata": {
      "needs_background": "light"
     },
     "output_type": "display_data"
    },
    {
     "data": {
      "image/png": "[encoded data removed]",
      "text/plain": [
       "<Figure size 432x288 with 1 Axes>"
      ]
     },
     "metadata": {
      "needs_background": "light"
     },
     "output_type": "display_data"
    },
    {
     "data": {
      "image/png": "[encoded data removed]",
      "text/plain": [
       "<Figure size 432x288 with 1 Axes>"
      ]
     },
     "metadata": {
      "needs_background": "light"
     },
     "output_type": "display_data"
    }
   ],
   "source": [
    "#Plot RMS of Python vs C++\n",
    "telapsed = [10, 100, 1000]\n",
    "count = 0\n",
    "for time in telapsed:\n",
    "    df = pd.read_csv('case/radial_' + str(time) + '.txt', delimiter='\\t', header=None)\n",
    "    sigma_c = df[1].to_numpy().astype(np.int)\n",
    "    sigma_py = calc_sigma_evol(f, alpha2, time)\n",
    "    rms = (sigma_c - sigma_py)/(sigma_c ** 2)\n",
    "    plt.title('Root Mean Surface Density at t={time} years')\n",
    "    plt.xlabel('Time (years)')\n",
    "    plt.ylabel('RMS')\n",
    "    plt.plot(t/yrs2sec, rms)\n",
    "    plt.show()"
   ]
  },
  {
   "cell_type": "code",
   "execution_count": null,
   "id": "390725fe",
   "metadata": {},
   "outputs": [],
   "source": []
  },
  {
   "cell_type": "code",
   "execution_count": 26,
   "id": "b0e2c41e",
   "metadata": {},
   "outputs": [],
   "source": [
    "# def plot_time_evol(f, df_dt, dist, alpha):\n",
    "#     %matplotlib\n",
    "#     for i in range(1, len(t) + 1):\n",
    "#         plt.clf\n",
    "#         for j in range(1, n-1):\n",
    "#             dX1 = X[j] - X[j-1]\n",
    "#             dX2 = X[j+1] - X[j]\n",
    "#             D1 = 0.5 * (D[j] + D[j-1])\n",
    "#             D2 = 0.5 * (D[j+1] + D[j])\n",
    "#             df_dt[j] = D1 * ((-(f[j] - f[j-1])/dX1**2)) + D2 * ((f[j+1]-f[j])/dX2**2)\n",
    "#         dX_final = X[-1]-X[-2]\n",
    "#         dX_in = X[1]-X[0]\n",
    "#         df_dt[0] = D[0] * (-(f[0] - f_in)/dX_in**2 + (f[1]-f[0])/dX_in**2)\n",
    "#         df_dt[n-1] = D[n-1] * (-(f[n-1] - f[n-2])/dX_final**2 + (f_out-f[n-1])/dX_final**2)\n",
    "#         f = f + df_dt * dt\n",
    "#         sigma_evol = [2*f[k]/(3*X[k]) for k in range(n)] #surface density at each radius at time t=i\n",
    "#         disk_mass = np.sum([2 * np.pi * dist[k] * dr * sigma_evol[k] for k in range(n)]) #mass of disk at t=i\n",
    "#         mass_evol.append(disk_mass)\n",
    "#         plt.figure(1)\n",
    "#         plt.plot(x/AU, sigma_evol)\n",
    "#         plt.title('Surface Density Evolution of Protoplanetary Disk')\n",
    "#         plt.xlabel('Radius (AU)')\n",
    "#         plt.ylabel('Surface Density')\n",
    "#         plt.xscale('log')\n",
    "#         plt.yscale('log')\n",
    "#         plt.show()\n",
    "#         plt.pause(0.01)\n",
    "#     plt.figure(2)\n",
    "#     plt.plot(t/yrs2sec, mass_evol)\n",
    "#     plt.title('Conservation of Mass of an Evolving Protoplanetary Disk')\n",
    "#     plt.xlabel('Time (yrs)')\n",
    "#     plt.ylabel('Total Mass (kg)')\n",
    "#     plt.xscale('log')\n",
    "#     plt.yscale('log')\n",
    "#     plt.show()\n",
    "#     print(f'The mass of the disk is {mass_evol[0]}\\n')"
   ]
  }
 ],
 "metadata": {
  "kernelspec": {
   "display_name": "Python 3",
   "language": "python",
   "name": "python3"
  },
  "language_info": {
   "codemirror_mode": {
    "name": "ipython",
    "version": 3
   },
   "file_extension": ".py",
   "mimetype": "text/x-python",
   "name": "python",
   "nbconvert_exporter": "python",
   "pygments_lexer": "ipython3",
   "version": "3.8.8"
  }
 },
 "nbformat": 4,
 "nbformat_minor": 5
}
