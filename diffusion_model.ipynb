{
 "cells": [
  {
   "cell_type": "markdown",
   "id": "dc1b29a4",
   "metadata": {},
   "source": [
    "## **Diffusion Equation**"
   ]
  },
  {
   "cell_type": "markdown",
   "id": "03dfcacd",
   "metadata": {},
   "source": [
    "$$\n",
    "\\frac{d\\Sigma}{dt} = \\frac{3}{r}\\frac{\\partial}{\\partial r} \\left[r^{1/2} \\frac{\\partial}{\\partial r}(\\nu \\Sigma r^{1/2})\\right]\n",
    "$$\n",
    "\n",
    "This is evolution equation for the surface density of a geometrically thin disk\n",
    "\n",
    "Putting this in the form of a diffusion equation:\n",
    "\n",
    "$$\n",
    "\\frac{\\partial f}{\\partial t} = D \\frac{\\partial^2 f}{\\partial X^2}\n",
    "$$\n",
    "where $X \\equiv 2r^{1/2}$, $f \\equiv \\frac{3}{2}\\Sigma X$ and $D = \\frac{12\\nu}{X^2}$\n"
   ]
  },
  {
   "cell_type": "markdown",
   "id": "3921907a",
   "metadata": {},
   "source": [
    "We need numerical values for $\\nu$\n",
    "$$\n",
    "\\nu = \\alpha c_s H \\\\\n",
    "H = \\frac{c_s}{\\Omega} \\\\\n",
    "\\Omega = \\sqrt{\\frac{G*M_s}{r^3}} \\\\\n",
    "c_s = \\sqrt{\\frac{k_B * T}{\\mu * mH}} \\\\\n",
    "mH = \\frac{1}{N_A} \\\\\n",
    "\\mu = 2.3 \\\\\n",
    "$$\n",
    "\n",
    "The Temperature profile is given by:\n",
    "$$\n",
    "2 \\sigma_b T_{disk}^4 = \\frac{9}{4}\\Sigma \\nu \\Omega^2\\\\\n",
    "T^3 = \\frac{9}{8\\sigma_b}\\Sigma \\frac{k_b \\alpha}{\\mu mH}\\sqrt{\\frac{GM}{r^3}}\n",
    "$$\n",
    "\n",
    "The Pressure is given by:\n",
    "\n",
    "$$\n",
    "P = \\frac{c_s^2\\Sigma}{H} = c_s\\Sigma\\Omega\n",
    "$$\n"
   ]
  },
  {
   "cell_type": "code",
   "execution_count": 1,
   "id": "39d44f91",
   "metadata": {},
   "outputs": [],
   "source": [
    "import numpy as np\n",
    "import matplotlib.pyplot as plt\n",
    "import numba\n",
    "import pandas as pd\n",
    "import os\n",
    "from dust_diffuse import *\n",
    "from thermal import *"
   ]
  },
  {
   "cell_type": "code",
   "execution_count": 2,
   "id": "c97e20be",
   "metadata": {},
   "outputs": [],
   "source": [
    "#Natural Constants\n",
    "\n",
    "# T = 600 # Temperature\n",
    "mu = 2.2 # mean molar mass in disk\n",
    "avog = 6.02214 * 10**23 # avogadros number\n",
    "mH = 1.673534 * 10**-27 # atomic hydrogen mass\n",
    "kB = 1.380649 * 10**-23 #boltzmann constant\n",
    "G = 6.6738 * 10**-11 #gravitational constant\n",
    "Ms = 1.9886 * 10**30 #solar mass\n",
    "Me = 5.972 * 10 **24 #earth mass\n",
    "AU = 1.4959787 * 10**11 #astronomical units\n",
    "yrs2sec = 3.1536 * 10**7 #convert years to seconds\n",
    "sb = 5.6704*10**-8"
   ]
  },
  {
   "cell_type": "code",
   "execution_count": 3,
   "id": "561ae46f",
   "metadata": {},
   "outputs": [],
   "source": [
    "#Disk Parameters\n",
    "alpha1 = 0.04\n",
    "alpha2 = 1.0 * 10**-3\n",
    "alpha3 = 1.0 * 10**-4\n",
    "rin = 0.05 * AU #inner radius of the disk\n",
    "rout = 30 * AU #outer radius of the disk\n",
    "sigma_in  = 2 * 10**5 #boundary condition at t=0\n",
    "sigma_max = sigma_in*2 #boundary condition at t=final_time\n",
    "sigma_min = 1 * 10**2\n",
    "distance = rout - rin #distance from inner radius to outer radius\n",
    "St = .01 #Stokes Number\n",
    "v_gas = 0"
   ]
  },
  {
   "cell_type": "code",
   "execution_count": 4,
   "id": "92039086",
   "metadata": {},
   "outputs": [],
   "source": [
    "#Temporal discretization\n",
    "max_years = 10\n",
    "dyr = .01\n",
    "dt = dyr * yrs2sec #timestep\n",
    "final_time = max_years*yrs2sec + 1 #total diffusion time in seconds\n",
    "t_save_interval = 10 #every ten years"
   ]
  },
  {
   "cell_type": "code",
   "execution_count": 5,
   "id": "a5cc79be",
   "metadata": {},
   "outputs": [],
   "source": [
    "#Spacial discretization\n",
    "\n",
    "n = 300 #number of steps / number of points to plot\n",
    "dr = distance/n #distance between each spacial step\n",
    "cont = True"
   ]
  },
  {
   "cell_type": "code",
   "execution_count": 6,
   "id": "166738c8",
   "metadata": {},
   "outputs": [],
   "source": [
    "#Plotting axes\n",
    "t = np.arange(0, final_time, dt)\n",
    "# t_plot = []"
   ]
  },
  {
   "cell_type": "code",
   "execution_count": 7,
   "id": "29bab6fa",
   "metadata": {},
   "outputs": [],
   "source": [
    "#Initialize grid spaces\n",
    "\n",
    "dist = np.empty(n)\n",
    "Omega = np.empty(n)\n",
    "nu = np.empty(n)\n",
    "X = np.empty(n)\n",
    "D = np.empty(n)\n",
    "sigma_gas = np.empty(n)\n",
    "f = np.empty(n)\n",
    "sigma_dust = np.empty(n)"
   ]
  },
  {
   "cell_type": "code",
   "execution_count": 8,
   "id": "18dc75fd",
   "metadata": {},
   "outputs": [],
   "source": [
    "#Initialize Staggered Grid\n",
    "\n",
    "dist_stag = np.empty(n-1)\n",
    "Omega_stag = np.empty(n-1)\n",
    "dPdr = np.empty(n-1)\n",
    "cs2_stag = np.empty(n-1)\n",
    "press_stag = np.empty(n-1)\n",
    "rho_stag = np.empty(n-1)\n",
    "v_dust = np.empty(n)"
   ]
  },
  {
   "cell_type": "code",
   "execution_count": null,
   "id": "8a28ebe8",
   "metadata": {},
   "outputs": [],
   "source": []
  },
  {
   "cell_type": "code",
   "execution_count": 9,
   "id": "c097d5bc",
   "metadata": {},
   "outputs": [],
   "source": [
    "#Boundary Conditions\n",
    "\n",
    "f_in = 0\n",
    "f_out = 0"
   ]
  },
  {
   "cell_type": "code",
   "execution_count": 10,
   "id": "da312425",
   "metadata": {},
   "outputs": [],
   "source": [
    "@numba.njit\n",
    "def make_alpha_grid(cont):\n",
    "    if(cont):\n",
    "        alphas = np.linspace(alpha1, alpha3, n)\n",
    "        return alphas\n",
    "    else:\n",
    "        alphas = np.empty(n)\n",
    "        for i in range(n):\n",
    "            if i < (n//3):\n",
    "                alphas[i] = alpha1\n",
    "            elif i < (2*n//3):\n",
    "                alphas[i] = alpha2\n",
    "            else:\n",
    "                alphas[i] = alpha3\n",
    "        return alphas"
   ]
  },
  {
   "cell_type": "code",
   "execution_count": 11,
   "id": "6efaa5ff",
   "metadata": {},
   "outputs": [],
   "source": [
    "# @numba.njit\n",
    "def calc_init_params():\n",
    "    \"\"\"\n",
    "    Calculate the initial parameters values for time t = 0 and changing radius.\n",
    "    \"\"\"\n",
    "    #n((dist[i]+dist[i-1])/2)**3\n",
    "    alphas = make_alpha_grid(cont)\n",
    "    for i in range(n):\n",
    "        dist[i] = (rin + (rout-rin)*i/(n-1))\n",
    "        sigma_gas[i] = sigma_in * AU / dist[i]\n",
    "        if (sigma_gas[i]>sigma_max):\n",
    "            sigma_gas[i] = sigma_max\n",
    "        if (dist[i]/AU > 15):\n",
    "            sigma_gas[i] = sigma_min\n",
    "        sigma_dust[i] = sigma_gas[i] * 0.005\n",
    "        X[i] = 2 * np.sqrt(dist[i])\n",
    "        Omega[i] = np.sqrt(G * Ms / (dist[i] ** 3))\n",
    "    cs2, T, P = calc_thermal_struc(sigma_gas, sigma_dust, alphas, Omega)\n",
    "    calc_stag_grid(T)\n",
    "    V_dust = calc_dust_vel(P)\n",
    "    Nu = alphas*cs2/Omega\n",
    "    d = 12 * nu / (X ** 2)\n",
    "    F = (1.5 * X * sigma_gas)\n",
    "    for i in range(n):\n",
    "        v_dust[i] = V_dust[i]\n",
    "        nu[i] = Nu[i]\n",
    "        D[i] = d[i]\n",
    "        f[i] = F[i]\n",
    "    return alphas"
   ]
  },
  {
   "cell_type": "code",
   "execution_count": null,
   "id": "91f030a5",
   "metadata": {},
   "outputs": [],
   "source": []
  },
  {
   "cell_type": "code",
   "execution_count": 12,
   "id": "f6f0d91d",
   "metadata": {},
   "outputs": [],
   "source": [
    "def calc_stag_grid(T):\n",
    "    for i in range(1, n):\n",
    "        dist_stag[i-1] = 0.5 * (dist[i] + dist[i-1])\n",
    "        Omega_stag[i-1] = np.sqrt(G * Ms / dist_stag[i-1] ** 3)\n",
    "        Tmd = 0.5 * (T[i] + T[i-1])\n",
    "        cs2_stag[i-1] = (kB * Tmd)/(mu*mH)"
   ]
  },
  {
   "cell_type": "code",
   "execution_count": 13,
   "id": "71cbede2",
   "metadata": {},
   "outputs": [],
   "source": [
    "def calc_dust_vel(press):\n",
    "    press_stag = [0.5*(press[i]+press[i-1]) for i in range(1,n)]\n",
    "    dPdr = [(press[i] - press[i-1])/dist_stag[i-1] for i in range(1,n)]\n",
    "    rho_stag = press_stag/cs2_stag\n",
    "    v_dust = v_gas + (St/(1+(St)**2)) * (1 / (rho_stag * Omega_stag))*dPdr\n",
    "    v_dust = np.append(v_dust, 0)\n",
    "    return v_dust"
   ]
  },
  {
   "cell_type": "code",
   "execution_count": 14,
   "id": "933f1ec9",
   "metadata": {},
   "outputs": [],
   "source": [
    "# @numba.njit\n",
    "# def calc_temp():\n",
    "# #     for i in range(n):\n",
    "# # #         temp[i] = ((9*sigma[i]*kB*alpha*Omega[i])/(8*sb*mu*mH))**(1/float(3))\n",
    "# #         temp[i]=100\n",
    "#     temp = [100 for i in range(n)]\n",
    "#     return temp"
   ]
  },
  {
   "cell_type": "code",
   "execution_count": 15,
   "id": "2a1492cd",
   "metadata": {},
   "outputs": [],
   "source": [
    "# # @numba.njit\n",
    "# def calc_press():\n",
    "#     \"\"\"Calculate the pressure evolution at each dt at each  r\"\"\"\n",
    "# #     for j in range(n):\n",
    "# #         cs2[j] = (kB * temp[j])/(mu*mH)\n",
    "# #         press[j] = np.sqrt(cs2[j])*sigma[j]*Omega[j]\n",
    "#     press = [np.sqrt((kB * temp[j])/(mu*mH))*sigma_gas[j]*Omega[j] for j in range(n)]\n",
    "#     return press"
   ]
  },
  {
   "cell_type": "code",
   "execution_count": 16,
   "id": "b9ce4fc6",
   "metadata": {},
   "outputs": [],
   "source": [
    "@numba.njit\n",
    "def calc_gas_evol(f, dt):\n",
    "    \"\"\"Outputs the surface density at a specific dt.\"\"\"\n",
    "    df_dt = np.empty(n)\n",
    "    for j in range(1, n-1):\n",
    "        dX1 = X[j] - X[j-1]\n",
    "        dX2 = X[j+1] - X[j]\n",
    "        D1 = 0.5 * (D[j] + D[j-1])\n",
    "        D2 = 0.5 * (D[j+1] + D[j])\n",
    "        df_dt[j] = D1 * ((-(f[j] - f[j-1])/dX1**2)) + D2 * ((f[j+1]-f[j])/dX2**2)\n",
    "    dX_final = X[-1]-X[-2]\n",
    "    dX_in = X[1]-X[0]\n",
    "    df_dt[0] = D[0] * (-(f[0] - f_in)/dX_in**2 + (f[1]-f[0])/dX_in**2)\n",
    "    df_dt[n-1] = D[n-1] * (-(f[n-1] - f[n-2])/dX_final**2 + (f_out-f[n-1])/dX_final**2)\n",
    "    f_new = f + df_dt * dt\n",
    "    return f_new"
   ]
  },
  {
   "cell_type": "code",
   "execution_count": 17,
   "id": "df2e9184",
   "metadata": {},
   "outputs": [],
   "source": [
    "# @numba.njit\n",
    "def calc_disk_mass(sigma):\n",
    "    \"\"\"Calculate the mass at a specific dt\"\"\"\n",
    "#     sigma_evol = calc_time_evol(f, alpha, dt)\n",
    "    disk_mass = 0\n",
    "    for j in range(n):\n",
    "        disk_mass += 2 * np.pi * dist[j] * dr * sigma_gas[j]\n",
    "        disk_mass += 2 * np.pi * dist[j] * dr * sigma_dust[j]\n",
    "#     print(f'The mass of the disk is {disk_mass}.')\n",
    "    return disk_mass"
   ]
  },
  {
   "cell_type": "code",
   "execution_count": 18,
   "id": "2079f4c6",
   "metadata": {},
   "outputs": [],
   "source": [
    "@numba.njit\n",
    "def convert_f2sigma(f_new):\n",
    "    sigma_at_time = [2*f_new[k]/(3*X[k]) for k in range(n)]\n",
    "    return sigma_at_time"
   ]
  },
  {
   "cell_type": "code",
   "execution_count": 19,
   "id": "85bec187",
   "metadata": {},
   "outputs": [],
   "source": [
    "def save2dir(**alpha_run):\n",
    "    if(alpha_run):\n",
    "        if(alpha_run == alpha1):\n",
    "            output_dir = 'output_a1/'\n",
    "            filename = 'output_a1/disk_'\n",
    "        elif(alpha_run == alpha2):\n",
    "            output_dir = 'output_a2/'\n",
    "            filename = 'output_a2/disk_'\n",
    "        else:\n",
    "            output_dir = 'output_a3/'\n",
    "            filename = 'output_a3/disk_'\n",
    "    else:\n",
    "        output_dir = 'output/'\n",
    "        filename = 'output/disk_'\n",
    "    return (output_dir, filename)"
   ]
  },
  {
   "cell_type": "code",
   "execution_count": 20,
   "id": "b7629975",
   "metadata": {},
   "outputs": [],
   "source": [
    "#Time Evolution Main\n",
    "\n",
    "alphas = calc_init_params()\n",
    "output_dir, filename = save2dir()\n",
    "\n",
    "if not os.path.exists(output_dir):\n",
    "    os.makedirs(output_dir)\n",
    "for i in range(len(t)):\n",
    "    f_new = calc_gas_evol(f, dt)\n",
    "    sigma_dust = calc_dust_evol(sigma_gas, sigma_dust, nu, v_dust, dist, dt)\n",
    "    sigma_gas = convert_f2sigma(f_new)\n",
    "    _, T, P = calc_thermal_struc(sigma_gas, sigma_dust, alphas, Omega)\n",
    "    calc_stag_grid(T)\n",
    "    v_dust = calc_dust_vel(P)\n",
    "    f = f_new\n",
    "    if (i%(t_save_interval/dyr) == 0):\n",
    "        output = np.vstack([dist/AU, sigma_gas, sigma_dust, v_dust, T, P])\n",
    "        output = np.transpose(output)\n",
    "        np.savetxt(filename + str(int(i*dyr)) + '.txt', output, delimiter=',', newline='\\n')# if you want to save results to file"
   ]
  },
  {
   "cell_type": "code",
   "execution_count": 21,
   "id": "aa5c2ffa",
   "metadata": {},
   "outputs": [],
   "source": [
    "def plot():\n",
    "    %matplotlib\n",
    "    t_plot = [0, 10]\n",
    "    for time in t_plot:\n",
    "        df = pd.read_csv('output/disk_' + str(time) + '.txt', delimiter=',', header=None)\n",
    "        sigma_gas_plot = df[1].to_numpy().astype(np.int)\n",
    "        sigma_dust_plot = df[2].to_numpy().astype(np.int)\n",
    "        plt.title(f'Surface Density Evolution at t={max_years} years')\n",
    "        plt.xlabel('Distance (AU)')\n",
    "        plt.ylabel('Surface Density')\n",
    "        plt.yscale('log')\n",
    "        plt.plot(dist/AU, sigma_dust_plot, label='dust')\n",
    "        plt.plot(dist/AU, sigma_gas_plot, label='gas')\n",
    "        plt.show()"
   ]
  },
  {
   "cell_type": "code",
   "execution_count": 26,
   "id": "f4c36c16",
   "metadata": {},
   "outputs": [
    {
     "name": "stdout",
     "output_type": "stream",
     "text": [
      "Using matplotlib backend: MacOSX\n"
     ]
    }
   ],
   "source": [
    "plot()"
   ]
  },
  {
   "cell_type": "code",
   "execution_count": null,
   "id": "db3ac23c",
   "metadata": {},
   "outputs": [],
   "source": []
  },
  {
   "cell_type": "code",
   "execution_count": 23,
   "id": "abe6e11c",
   "metadata": {},
   "outputs": [],
   "source": [
    "# @numba.njit\n",
    "def compare_code(f):\n",
    "    \"\"\"Compare C++ code to Python code\"\"\"\n",
    "    telapsed = [100, 1000]\n",
    "    count = 0\n",
    "    for time in telapsed:\n",
    "        df = pd.read_csv('case/radial_' + str(time) + '.txt', delimiter='\\t', header=None)\n",
    "        sigma_c = df[1].to_numpy().astype(np.int)\n",
    "        sigma_py = sigma_evol[int((time/t_save_interval)),:]\n",
    "        plt.title(f'Python vs C++ Surface Density at t={time} years')\n",
    "        plt.xlabel('Radius (AU)')\n",
    "        plt.ylabel('Surface Density')\n",
    "        plt.yscale('log')\n",
    "        plt.plot(dist/AU, sigma_py, label='Python')\n",
    "        plt.plot(dist/AU, sigma_c, label='C++')\n",
    "        plt.legend()\n",
    "        plt.show()"
   ]
  },
  {
   "cell_type": "code",
   "execution_count": 24,
   "id": "96bc83aa",
   "metadata": {},
   "outputs": [],
   "source": [
    "# @numba.njit\n",
    "def plot_rms():\n",
    "    \"\"\"Plot RMS of Python vs C++\"\"\"\n",
    "    t_elapsed = [100, 1000]\n",
    "    t_rms = np.arange(0, final_time, n)\n",
    "    rms = []\n",
    "    for time in t_elapsed:\n",
    "        df = pd.read_csv('case/radial_' + str(time) + '.txt', delimiter='\\t', header=None)\n",
    "        print(df)\n",
    "        sigma_c = df[1].to_numpy().astype(np.int)\n",
    "        sigma_py = sigma_evol[int((time/t_save_interval)),:]\n",
    "        rms.append(np.sum(((sigma_c - sigma_py)/(sigma_c))**2))\n",
    "    plt.title('Root Mean Surface Density at t={time} years')\n",
    "    plt.xlabel('Time (years)')\n",
    "    plt.ylabel('RMS')\n",
    "    plt.yscale('log')\n",
    "    plt.plot(t_elapsed, rms)\n",
    "    plt.show()"
   ]
  },
  {
   "cell_type": "code",
   "execution_count": 25,
   "id": "04986805",
   "metadata": {},
   "outputs": [],
   "source": [
    "#         sigma_evol.append(sigma)\n",
    "#         temp_evol.append(T)\n",
    "#         press_evol.append(P)\n",
    "#         v_dust_evol.append(V_dust)\n",
    "#         sigma_dust_evol.append(sigma_dust)\n",
    "#         mass = calc_disk_mass(sigma)\n",
    "#         mass_evol.append(mass)\n",
    "#         t_plot.append(i*dyr)\n",
    "# sigma_evol = np.array(sigma_evol)\n",
    "# temp_evol = np.array(temp_evol)\n",
    "# press_evol = np.array(press_evol)\n",
    "# v_dust_evol = np.array(v_dust_evol)\n",
    "# sigma_dust_evol = np.array(sigma_dust_evol)\n",
    "# for j in range(len(t_plot)):\n",
    "#     plt.figure(1)\n",
    "#     plt.title(f'Surface Dust Evolution at t={max_years} years')\n",
    "#     plt.xlabel('Distance (AU)')\n",
    "#     plt.ylabel('Sigma Dust')\n",
    "#     plt.yscale('log')\n",
    "#     plt.plot(dist/AU, sigma_dust_evol[j,:])\n",
    "#     plt.show()\n",
    "#     plt.figure(2)\n",
    "#     plt.title(f'Surface Gas Evolution at t={max_years} years')\n",
    "#     plt.xlabel('Distance (AU)')\n",
    "#     plt.ylabel('Sigma Gas')\n",
    "#     plt.yscale('log')\n",
    "#     plt.plot(dist/AU, sigma_evol[j,:])\n",
    "#     plt.show()\n",
    "\n",
    "\n",
    "\n",
    "\n",
    "# print(f'First alpha change is at {dist[n//3]/AU}')\n",
    "# print(f'Second alpha change is at {dist[2*n//3]/AU}')"
   ]
  },
  {
   "cell_type": "code",
   "execution_count": null,
   "id": "42cc53a2",
   "metadata": {},
   "outputs": [],
   "source": [
    "\n"
   ]
  },
  {
   "cell_type": "code",
   "execution_count": null,
   "id": "d328fe03",
   "metadata": {},
   "outputs": [],
   "source": []
  },
  {
   "cell_type": "code",
   "execution_count": null,
   "id": "2c36ad24",
   "metadata": {},
   "outputs": [],
   "source": []
  }
 ],
 "metadata": {
  "kernelspec": {
   "display_name": "Python 3",
   "language": "python",
   "name": "python3"
  },
  "language_info": {
   "codemirror_mode": {
    "name": "ipython",
    "version": 3
   },
   "file_extension": ".py",
   "mimetype": "text/x-python",
   "name": "python",
   "nbconvert_exporter": "python",
   "pygments_lexer": "ipython3",
   "version": "3.8.8"
  }
 },
 "nbformat": 4,
 "nbformat_minor": 5
}
