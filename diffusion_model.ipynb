{
 "cells": [
  {
   "cell_type": "markdown",
   "id": "9c6cc182",
   "metadata": {},
   "source": [
    "## **Diffusion Equation**"
   ]
  },
  {
   "cell_type": "markdown",
   "id": "4891b4c9",
   "metadata": {},
   "source": [
    "$$\n",
    "\\frac{d\\Sigma}{dt} = \\frac{3}{r}\\frac{\\partial}{\\partial r} \\left[r^{1/2} \\frac{\\partial}{\\partial r}(\\nu \\Sigma r^{1/2})\\right]\n",
    "$$\n",
    "\n",
    "This is evolution equation for the surface density of a geometrically thin disk\n",
    "\n",
    "Putting this in the form of a diffusion equation:\n",
    "\n",
    "$$\n",
    "\\frac{\\partial f}{\\partial t} = D \\frac{\\partial^2 f}{\\partial X^2}\n",
    "$$\n",
    "where $X \\equiv 2r^{1/2}$, $f \\equiv \\frac{3}{2}\\Sigma X$ and $D = \\frac{12\\nu}{X^2}$\n"
   ]
  },
  {
   "cell_type": "markdown",
   "id": "7a3b80f3",
   "metadata": {},
   "source": [
    "We need numerical values for $\\nu$\n",
    "$$\n",
    "\\nu = \\alpha c_s H \\\\\n",
    "H = \\frac{c_s}{\\Omega} \\\\\n",
    "\\Omega = \\sqrt{\\frac{G*M_s}{r^3}} \\\\\n",
    "c_s = \\sqrt{\\frac{k_B * T}{\\mu * mH}} \\\\\n",
    "mH = \\frac{1}{N_A} \\\\\n",
    "\\mu = 2.3 \\\\\n",
    "$$\n",
    "\n",
    "The Temperature profile is given by:\n",
    "$$\n",
    "2 \\sigma_b T_{disk}^4 = \\frac{9}{4}\\Sigma \\nu \\Omega^2\\\\\n",
    "T^3 = \\frac{9}{8\\sigma_b}\\Sigma \\frac{k_b \\alpha}{\\mu mH}\\sqrt{\\frac{GM}{r^3}}\n",
    "$$\n",
    "\n",
    "The Pressure is given by:\n",
    "\n",
    "$$\n",
    "P = \\frac{c_s^2\\Sigma}{H} = c_s\\Sigma\\Omega\n",
    "$$\n",
    "\n",
    "\n",
    "$$St_{max} = \\frac{Q*}{\\alpha c_s^2}$$\n"
   ]
  },
  {
   "cell_type": "markdown",
   "id": "8db0eb53",
   "metadata": {},
   "source": [
    "## **Pebble Accretion**"
   ]
  },
  {
   "cell_type": "markdown",
   "id": "5fda9ca0",
   "metadata": {},
   "source": [
    "Mass Accretion is given by:\n",
    "$\\dot{M}_{3D} = \\pi R_{acc}\\rho_{p}\\delta v$\n",
    "\n",
    "Accretion Criterion:\n",
    "$\\tau_f = \\cfrac{\\xi_B \\Delta v + \\xi_H \\Omega \\hat{R}_{acc}}{GM/\\hat{R}^2_{acc}}$\n",
    "\n",
    "$\\hat{R}^2_{acc} = \\left(\\frac{4\\tau_f}{t_B}\\right)^{1/2} R_B$\n",
    "\n",
    "$R_B = \\frac{GM}{\\Delta v^2}$\n",
    "\n",
    "$t_B = \\frac{R_B}{\\Delta v}$\n",
    "\n",
    "$\\tau_f = \\frac{St}{\\Omega}$\n",
    "\n",
    "$\\xi_B = \\xi_H = 0.25$"
   ]
  },
  {
   "cell_type": "code",
   "execution_count": 1,
   "id": "0dad6f66",
   "metadata": {},
   "outputs": [],
   "source": [
    "import numpy as np\n",
    "import matplotlib.pyplot as plt\n",
    "import numba\n",
    "import pandas as pd\n",
    "import os\n",
    "import sys\n",
    "from dust_diffuse import *\n",
    "from thermal import *\n",
    "from pebble import *\n",
    "import matplotlib.cm as cm\n",
    "import matplotlib.patches as ptch\n",
    "from matplotlib import rc\n",
    "from matplotlib.font_manager import FontProperties\n",
    "from matplotlib.ticker import MultipleLocator, FormatStrFormatter\n",
    "import pylab\n",
    "from numba.core.errors import NumbaDeprecationWarning, NumbaPendingDeprecationWarning\n",
    "import warnings"
   ]
  },
  {
   "cell_type": "code",
   "execution_count": 2,
   "id": "beba945a",
   "metadata": {},
   "outputs": [],
   "source": [
    "#Natural Constants\n",
    "# T = 600 # Temperature\n",
    "mu = 2.2 # mean molar mass in disk\n",
    "avog = 6.02214 * 10**23 # avogadros number\n",
    "mH = 1.673534 * 10**-27 # atomic hydrogen mass\n",
    "kB = 1.380649 * 10**-23 #boltzmann constant\n",
    "G = 6.6738 * 10**-11 #gravitational constant\n",
    "Ms = 1.9886 * 10**30 #solar mass\n",
    "Me = 5.972 * 10 **24 #earth mass\n",
    "AU = 1.4959787 * 10**11 #astronomical units\n",
    "yrs2sec = 3.1536 * 10**7 #convert years to seconds\n",
    "sb = 5.6704*10**-8"
   ]
  },
  {
   "cell_type": "code",
   "execution_count": 3,
   "id": "936d2831",
   "metadata": {},
   "outputs": [],
   "source": [
    "#Disk Parameters\n",
    "alpha1 = 1e-2\n",
    "alpha2 = 1.0 * 10**-3\n",
    "alpha3 = 1.0 * 10**-4\n",
    "rin = 0.05 * AU #inner radius of the disk\n",
    "rout = 30 * AU #outer radius of the disk\n",
    "sigma_in  = 2 * 10**5 #boundary condition at t=0\n",
    "sigma_max = sigma_in*2 #boundary condition at t=final_time\n",
    "sigma_min = 1 * 10**2\n",
    "distance = rout - rin #distance from inner radius to outer radius"
   ]
  },
  {
   "cell_type": "code",
   "execution_count": 4,
   "id": "2dbe27b6",
   "metadata": {},
   "outputs": [],
   "source": [
    "#Temporal discretization\n",
    "max_years = 10\n",
    "dyr = .1\n",
    "dt = dyr * yrs2sec #timestep\n",
    "final_time = max_years*yrs2sec + 1 #total diffusion time in seconds\n",
    "t_save_interval = 10 #every ten years\n",
    "t = np.arange(0, final_time, dt)"
   ]
  },
  {
   "cell_type": "code",
   "execution_count": 5,
   "id": "01c93fc8",
   "metadata": {},
   "outputs": [],
   "source": [
    "#Spacial discretization\n",
    "\n",
    "n = 600 #number of steps / number of points to plot\n",
    "dr = distance/n #distance between each spacial step\n",
    "cont = True #Boolean for continuous alpha distribution"
   ]
  },
  {
   "cell_type": "code",
   "execution_count": 6,
   "id": "209c4359",
   "metadata": {},
   "outputs": [],
   "source": [
    "#Other Parameters\n",
    "\n",
    "# St = .01 #Stokes Number\n",
    "Q = 1\n",
    "Tcor = 1800 #10% corundum\n",
    "Tcalc = 1700 #10% calcium\n",
    "Tfor = 1400 #80% forsterite\n",
    "\n",
    "cor_ratio = .1\n",
    "calc_ratio = .1\n",
    "for_ratio = .8\n",
    "\n",
    "phase_change = 1400"
   ]
  },
  {
   "cell_type": "code",
   "execution_count": null,
   "id": "74dd29d8",
   "metadata": {},
   "outputs": [],
   "source": []
  },
  {
   "cell_type": "code",
   "execution_count": 7,
   "id": "b02a8064",
   "metadata": {},
   "outputs": [],
   "source": [
    "#Initialize grid spaces\n",
    "\n",
    "dist = np.empty(n)\n",
    "Omega = np.empty(n)\n",
    "v_phi_dust = np.empty(n)\n",
    "X = np.empty(n)"
   ]
  },
  {
   "cell_type": "code",
   "execution_count": 8,
   "id": "319e7441",
   "metadata": {},
   "outputs": [],
   "source": [
    "#Initialize Staggered Grid\n",
    "\n",
    "dist_stag = np.empty(n-1)\n",
    "Omega_stag = np.empty(n-1)"
   ]
  },
  {
   "cell_type": "code",
   "execution_count": 9,
   "id": "0e611d9b",
   "metadata": {},
   "outputs": [],
   "source": [
    "#Boundary Conditions\n",
    "\n",
    "f_in = 0\n",
    "f_out = 0"
   ]
  },
  {
   "cell_type": "code",
   "execution_count": 10,
   "id": "04d51b23",
   "metadata": {},
   "outputs": [],
   "source": [
    "@numba.njit\n",
    "def make_alpha_grid(cont):\n",
    "    if(cont):\n",
    "        alphas = np.linspace(alpha1, alpha3, n)\n",
    "    else:\n",
    "        alphas = np.empty(n)\n",
    "        for i in range(n):\n",
    "            if i < (n//3):\n",
    "                alphas[i] = alpha1\n",
    "            elif i < (2*n//3):\n",
    "                alphas[i] = alpha2\n",
    "            else:\n",
    "                alphas[i] = alpha3\n",
    "    return alphas"
   ]
  },
  {
   "cell_type": "code",
   "execution_count": 11,
   "id": "001b208a",
   "metadata": {},
   "outputs": [],
   "source": [
    "@numba.njit\n",
    "def update_alpha(alphas, T):\n",
    "    for idx, temp in enumerate(T):\n",
    "        if(temp >= phase_change):\n",
    "            alphas[idx] = alpha2 + 9e-3*min((temp-phase_change)/100, 1.)\n",
    "        else:\n",
    "            alphas[idx] = alpha2\n",
    "    return alphas"
   ]
  },
  {
   "cell_type": "code",
   "execution_count": 12,
   "id": "872cf487",
   "metadata": {},
   "outputs": [],
   "source": [
    "def calc_dist_omega_stag():\n",
    "    for i in range(1, n):\n",
    "        dist_stag[i-1] = 0.5 * (dist[i] + dist[i-1])\n",
    "        Omega_stag[i-1] = np.sqrt(G * Ms / dist_stag[i-1] ** 3)"
   ]
  },
  {
   "cell_type": "code",
   "execution_count": 13,
   "id": "4a169b55",
   "metadata": {},
   "outputs": [],
   "source": [
    "def update_stag_grid(alphas, cs2):\n",
    "    cs2_stag = np.array([0.5 * (cs2[i] + cs2[i-1]) for i in range(1, n)])\n",
    "    alphas_stag = np.array([0.5 * (alphas[i] + alphas[i-1]) for i in range(1, n)])\n",
    "    return (alphas_stag, cs2_stag)"
   ]
  },
  {
   "cell_type": "code",
   "execution_count": 14,
   "id": "85151464",
   "metadata": {},
   "outputs": [],
   "source": [
    "@numba.njit\n",
    "def update_nu(cs2, alphas):\n",
    "    return alphas*cs2/Omega"
   ]
  },
  {
   "cell_type": "code",
   "execution_count": 15,
   "id": "c499851e",
   "metadata": {},
   "outputs": [],
   "source": [
    "@numba.njit\n",
    "def update_St(cs2, cs2_stag, alphas, alpha_stag):\n",
    "    dust = Q/(cs2_stag*alpha_stag)\n",
    "    pebble = Q*10/(cs2*alphas)\n",
    "    return (dust, pebble)"
   ]
  },
  {
   "cell_type": "code",
   "execution_count": null,
   "id": "9d721436",
   "metadata": {},
   "outputs": [],
   "source": []
  },
  {
   "cell_type": "code",
   "execution_count": 16,
   "id": "64c7655c",
   "metadata": {},
   "outputs": [],
   "source": [
    "@numba.njit\n",
    "def update_D(nu):\n",
    "    return 12 * nu / (X ** 2)"
   ]
  },
  {
   "cell_type": "code",
   "execution_count": 17,
   "id": "606b1067",
   "metadata": {},
   "outputs": [],
   "source": [
    "def calc_dust_vel(St, cs2_stag, v_gas, press):\n",
    "    press_stag = [0.5*(press[i]+press[i-1]) for i in range(1,n)]\n",
    "    dPdr_stag = [(press[i] - press[i-1])/dist_stag[i-1] for i in range(1,n)]\n",
    "    rho_stag = press_stag/cs2_stag\n",
    "    v_dust = (St/(1+(St)**2)) * (1 / (rho_stag * Omega_stag))*dPdr_stag\n",
    "    v_dust = np.append(v_dust, 0)\n",
    "#     v_dust = v_dust + v_gas\n",
    "    return v_dust"
   ]
  },
  {
   "cell_type": "code",
   "execution_count": 18,
   "id": "a6dd42c9",
   "metadata": {},
   "outputs": [],
   "source": [
    "def calc_v_phi_gas(press,cs2):\n",
    "    dPdr = np.zeros(n)\n",
    "    for i in range(n):\n",
    "        if (i == 0):\n",
    "            dPdr[i] = (press[i+1] - press[i])/(dist[i])\n",
    "        elif(i == n-1):\n",
    "            dPdr[i] = (press[i] - press[i-1])/(dist[i])\n",
    "        else:\n",
    "            dPdr[i] = (press[i+1] - press[i-1])/(2*dist[i])\n",
    "    rho = press/cs2\n",
    "    v_phi_gas = np.sqrt(dist * ((G*Ms/(dist**2)) + (1/rho)*dPdr))\n",
    "    return (rho, v_phi_gas)"
   ]
  },
  {
   "cell_type": "code",
   "execution_count": null,
   "id": "6fd4e850",
   "metadata": {},
   "outputs": [],
   "source": []
  },
  {
   "cell_type": "code",
   "execution_count": 19,
   "id": "61e95238",
   "metadata": {},
   "outputs": [],
   "source": [
    "def calc_init_params():\n",
    "    \"\"\"\n",
    "    Calculate the initial parameters values for time t = 0.\n",
    "    \"\"\"\n",
    "    sigma_gas = np.empty(n)\n",
    "    sigma_dust = np.empty((3,n))\n",
    "    sigma_pebble = np.zeros((3,n))\n",
    "    sigma_evap_init = np.zeros((3,n))\n",
    "    alphas = make_alpha_grid(cont)\n",
    "    for i in range(n):\n",
    "        dist[i] = (rin + (rout-rin)*i/(n-1))\n",
    "        sigma_gas[i] = sigma_in * AU / dist[i]\n",
    "        if (sigma_gas[i]>sigma_max):\n",
    "            sigma_gas[i] = sigma_max\n",
    "        if (dist[i]/AU > 15):\n",
    "            sigma_gas[i] = sigma_min\n",
    "        sigma_dust[0,i] = sigma_gas[i] * 0.005 * cor_ratio\n",
    "        sigma_dust[1,i] = sigma_gas[i] * 0.005 * calc_ratio\n",
    "        sigma_dust[2,i] = sigma_gas[i] * 0.005 * for_ratio\n",
    "        X[i] = 2 * np.sqrt(dist[i])\n",
    "        Omega[i] = np.sqrt(G * Ms / (dist[i] ** 3))\n",
    "        v_phi_dust[i] = np.sqrt(Omega[i]**2 * dist[i])\n",
    "    cs2, T, P, sigma_dust, sigma_evap, sigma_pebble = calc_thermal_struc(sigma_gas, sigma_dust, sigma_pebble, sigma_evap_init, alphas, Omega)\n",
    "    calc_dist_omega_stag()\n",
    "    alphas = update_alpha(alphas, T)\n",
    "    alphas_stag, cs2_stag = update_stag_grid(alphas, cs2)\n",
    "    St_dust = Q/(alphas_stag * cs2_stag)\n",
    "    St_pebble = Q*10/(alphas*cs2)\n",
    "    nu = alphas*cs2/Omega\n",
    "    v_gas = calc_gas_vel(nu, sigma_gas, dist, dist_stag)\n",
    "    v_dust = calc_dust_vel(St_dust, cs2_stag, v_gas, P)\n",
    "    rho, v_phi_gas = calc_v_phi_gas(P, cs2)\n",
    "    v_pebble = np.zeros(n)\n",
    "    sigma_planet = np.zeros(n)\n",
    "    D = 12 * nu / (X ** 2)\n",
    "    f = (1.5 * X * sigma_gas)\n",
    "    return (sigma_dust, sigma_gas, sigma_evap, sigma_pebble, sigma_planet, v_dust, v_gas, v_pebble, v_phi_gas, cs2, nu, D, f, alphas, alphas_stag, cs2_stag, St_dust, St_pebble, rho)"
   ]
  },
  {
   "cell_type": "code",
   "execution_count": null,
   "id": "cfa7f9ec",
   "metadata": {},
   "outputs": [],
   "source": []
  },
  {
   "cell_type": "code",
   "execution_count": 20,
   "id": "6467feb9",
   "metadata": {},
   "outputs": [],
   "source": [
    "# @numba.njit\n",
    "def calc_pebble_vel(v_dust):\n",
    "#     Stoke = 0.05\n",
    "#     press_stag = [0.5*(press[i]+press[i-1]) for i in range(1,n)]\n",
    "#     dPdr_stag = [(press[i] - press[i-1])/dist_stag[i-1] for i in range(1,n)]\n",
    "#     rho_stag = press_stag/cs2_stag\n",
    "#     v_dust = (Stoke/(1+(Stoke)**2)) * (1 / (rho_stag * Omega_stag))*dPdr_stag\n",
    "#     v_dust = np.append(v_dust, 0)\n",
    "#     v_dust = v_dust + v_gas\n",
    "    return v_dust * 10"
   ]
  },
  {
   "cell_type": "code",
   "execution_count": 21,
   "id": "0f476816",
   "metadata": {},
   "outputs": [],
   "source": [
    "@numba.njit\n",
    "def calc_pebble_growth(sigma_pebble, sigma_dust):\n",
    "    tau = 1.988e-7 * 1e4*yrs2sec / Omega\n",
    "    sigma_pebble += sigma_dust * dt / tau\n",
    "    sigma_dust -= sigma_dust * dt / tau\n",
    "    return (sigma_pebble, sigma_dust)"
   ]
  },
  {
   "cell_type": "code",
   "execution_count": 22,
   "id": "22147f38",
   "metadata": {},
   "outputs": [],
   "source": [
    "# @numba.njit\n",
    "def calc_planetessimal_growth(sigma_pebble, sigma_planet, St_pebble, v_phi_gas, rho):\n",
    "    tau = 1.988e-7 * 1e4*yrs2sec / Omega\n",
    "    v = v_phi_gas - v_phi_dust\n",
    "    Rb = G*Ms/np.square(v)\n",
    "    tb = Rb/v\n",
    "    tau_f = St_pebble/Omega\n",
    "    r_acc = np.sqrt(np.sqrt(4*tau_f/tb) * Rb)\n",
    "    accretion_rate = np.pi * np.square(r_acc) * rho * (v + Omega*r_acc)\n",
    "    sigma_planet += accretion_rate * dt / tau\n",
    "    sigma_pebble[0,:] -= cor_ratio*sigma_planet * dt / tau\n",
    "    sigma_pebble[1,:] -= calc_ratio*sigma_planet * dt / tau\n",
    "    sigma_pebble[2,:] -= for_ratio*sigma_planet * dt / tau\n",
    "    return (sigma_planet, sigma_pebble)"
   ]
  },
  {
   "cell_type": "code",
   "execution_count": null,
   "id": "a133e8d7",
   "metadata": {},
   "outputs": [],
   "source": []
  },
  {
   "cell_type": "code",
   "execution_count": 23,
   "id": "5ddef0cf",
   "metadata": {},
   "outputs": [],
   "source": [
    "@numba.njit\n",
    "def calc_gas_evol(f, dt, D):\n",
    "    \"\"\"Outputs the surface density at a specific dt.\"\"\"\n",
    "    df_dt = np.empty(n)\n",
    "    for j in range(1, n-1):\n",
    "        dX1 = X[j] - X[j-1]\n",
    "        dX2 = X[j+1] - X[j]\n",
    "        D1 = 0.5 * (D[j] + D[j-1])\n",
    "        D2 = 0.5 * (D[j+1] + D[j])\n",
    "        df_dt[j] = D1 * ((-(f[j] - f[j-1])/dX1**2)) + D2 * ((f[j+1]-f[j])/dX2**2)\n",
    "    dX_final = X[-1]-X[-2]\n",
    "    dX_in = X[1]-X[0]\n",
    "    df_dt[0] = D[0] * (-(f[0] - f_in)/dX_in**2 + (f[1]-f[0])/dX_in**2)\n",
    "    df_dt[n-1] = D[n-1] * (-(f[n-1] - f[n-2])/dX_final**2 + (f_out-f[n-1])/dX_final**2)\n",
    "    f_new = f + df_dt * dt\n",
    "    sigma_at_time = [2*f_new[k]/(3*X[k]) for k in range(n)]\n",
    "    return (f_new, sigma_at_time)"
   ]
  },
  {
   "cell_type": "code",
   "execution_count": 24,
   "id": "ad1c05bf",
   "metadata": {},
   "outputs": [],
   "source": [
    "# @numba.njit\n",
    "def calc_disk_mass(sigma):\n",
    "    \"\"\"Calculate the mass at a specific dt\"\"\"\n",
    "    disk_mass = 0\n",
    "    for j in range(n):\n",
    "        disk_mass += 2 * np.pi * dist[j] * dr * sigma_gas[j]\n",
    "        disk_mass += 2 * np.pi * dist[j] * dr * sigma_dust[j]\n",
    "#     print(f'The mass of the disk is {disk_mass}.')\n",
    "    return disk_mass"
   ]
  },
  {
   "cell_type": "code",
   "execution_count": 25,
   "id": "5ddf236b",
   "metadata": {},
   "outputs": [],
   "source": [
    "def save2dir(**alpha_run):\n",
    "    if(alpha_run):\n",
    "        if(alpha_run == alpha1):\n",
    "            output_dir = 'output_a1/'\n",
    "            filename = 'output_a1/disk_'\n",
    "        elif(alpha_run == alpha2):\n",
    "            output_dir = 'output_a2/'\n",
    "            filename = 'output_a2/disk_'\n",
    "        else:\n",
    "            output_dir = 'output_a3/'\n",
    "            filename = 'output_a3/disk_'\n",
    "    else:\n",
    "        output_dir = 'output/'\n",
    "        filename = 'output/disk_'\n",
    "    return (output_dir, filename)"
   ]
  },
  {
   "cell_type": "code",
   "execution_count": null,
   "id": "bd81f012",
   "metadata": {},
   "outputs": [],
   "source": []
  },
  {
   "cell_type": "code",
   "execution_count": 26,
   "id": "05435b39",
   "metadata": {},
   "outputs": [],
   "source": [
    "#Time Evolution Main\n",
    "\n",
    "sigma_dust, sigma_gas, sigma_evap, sigma_pebble, sigma_planet, v_dust, v_gas, v_pebble, v_phi_gas, cs2, nu, D, f, alphas, alphas_stag, cs2_stag, St_dust, St_pebble, rho = calc_init_params()\n",
    "output_dir, filename = save2dir()\n",
    "warnings.simplefilter('ignore', category=NumbaPendingDeprecationWarning)\n",
    "if not os.path.exists(output_dir):\n",
    "    os.makedirs(output_dir)\n",
    "for i in range(len(t)):\n",
    "    f_new, sigma_gas = calc_gas_evol(f, dt, D)\n",
    "    sigma_pebble, sigma_dust = calc_pebble_growth(sigma_pebble, sigma_dust)\n",
    "    sigma_planet, sigma_pebble = calc_planetessimal_growth(sigma_pebble, sigma_planet, St_pebble, v_phi_gas, rho)\n",
    "    for el in range(3):\n",
    "        sigma_dust[el,:] = calc_evol(sigma_gas, sigma_dust[el,:], nu, v_dust, dist, dt)\n",
    "        sigma_pebble[el,:] = calc_evol(sigma_gas, sigma_pebble[el,:], nu, v_pebble, dist, dt)\n",
    "        sigma_evap[el,:] = calc_evol(sigma_gas, sigma_evap[el,:], nu, v_gas, dist, dt)\n",
    "    cs2, T, P, sigma_dust, sigma_evap, sigma_pebble = calc_thermal_struc(sigma_gas, sigma_dust, sigma_pebble, sigma_evap, alphas, Omega)\n",
    "    alphas = update_alpha(alphas, T)\n",
    "    alphas_stag, cs2_stag = update_stag_grid(alphas, cs2)\n",
    "    nu = update_nu(cs2, alphas)\n",
    "    D = update_D(nu)\n",
    "    St_dust, St_pebble = update_St(cs2, cs2_stag, alphas, alphas_stag)\n",
    "    v_dust = calc_dust_vel(St_dust, cs2_stag, v_gas, P)\n",
    "    v_pebble = calc_pebble_vel(v_dust)\n",
    "    v_gas = calc_gas_vel(nu, sigma_gas, dist, dist_stag)\n",
    "    rho, v_phi_gas = calc_v_phi_gas(cs2,P)\n",
    "    f = f_new\n",
    "    if (i%(t_save_interval/dyr) == 0):\n",
    "        output = np.transpose(np.vstack([dist/AU, sigma_gas, sigma_dust, sigma_pebble, sigma_evap, T, sigma_planet]))\n",
    "        np.savetxt(filename + str(int(i*dyr)) + '.txt', output, delimiter=',', newline='\\n')# save results to file"
   ]
  },
  {
   "cell_type": "code",
   "execution_count": null,
   "id": "fdcb6206",
   "metadata": {},
   "outputs": [],
   "source": []
  },
  {
   "cell_type": "code",
   "execution_count": 27,
   "id": "063b4816",
   "metadata": {},
   "outputs": [],
   "source": [
    "def plot():\n",
    "    %matplotlib\n",
    "    t_plot = [0]\n",
    "    filename = 'output'\n",
    "    for time in t_plot:\n",
    "        df = pd.read_csv(filename + '/disk_' + str(int(t_plot[-1])) + '.txt', delimiter=',', header=None)\n",
    "        sigma_gas_plot = df[1].to_numpy().astype(np.float)\n",
    "        cor_dust = df[2].to_numpy().astype(np.float)\n",
    "        calc_dust = df[3].to_numpy().astype(np.float)\n",
    "        for_dust = df[4].to_numpy().astype(np.float)\n",
    "        cor_peb = df[8].to_numpy().astype(np.float)\n",
    "        calc_peb = df[9].to_numpy().astype(np.float)\n",
    "        for_peb = df[10].to_numpy().astype(np.float)\n",
    "        temp_plot = df[12].to_numpy().astype(np.float)\n",
    "        press_plot = df[13].to_numpy().astype(np.float)\n",
    "        sigma_dust_plot = cor_dust+calc_dust+for_dust\n",
    "        sigma_peb_plot = cor_peb+calc_peb+for_peb\n",
    "        dg_ratio = sigma_dust_plot/sigma_gas_plot\n",
    "        fig, axes = plt.subplots(2,3, figsize=(12,7.5))\n",
    "        ax1 = axes[0][0]\n",
    "        ax2 = axes[1][0]\n",
    "        ax3 = axes[0][1]\n",
    "        ax4 = axes[1][1]\n",
    "        ax5 = axes[1][2]\n",
    "        ax6 = axes[0][2]\n",
    "        for row in axes:\n",
    "            for col in row:\n",
    "                col.set_xlim([0,10])\n",
    "                col.tick_params(direction='in', length=3,   which='major', top=True, right=True)\n",
    "                col.tick_params(direction='in', length=1.5, which='minor', top=True, right=True)\n",
    "                col.set_xlabel('Distance (AU)')\n",
    "        ax1.set_ylabel('Gas (kg/m^3)')\n",
    "        ax1.set_yscale('log')\n",
    "        ax1.set_ylim(1e4,1e6)\n",
    "        ax1.plot(dist/AU, sigma_gas_plot)\n",
    "        ax2.set_ylabel('Dust')\n",
    "        ax2.set_yscale('log')\n",
    "#         ax2.set_ylim(1e-7,1e3)\n",
    "        ax2.plot(dist/AU, cor_dust, label='Aluminum', color='green')\n",
    "        ax2.plot(dist/AU, calc_dust, label='Calcium', color='red')\n",
    "        ax2.plot(dist/AU, for_dust, label='Magnesium', color='blue')\n",
    "        ax2.legend(fontsize='x-small')\n",
    "        ax3.set_title(f'{int(time)} years with {filename[14:]}')\n",
    "        ax3.set_ylabel('Dust/Gas')\n",
    "        ax3.set_yscale('log')\n",
    "        ax3.plot(dist/AU, dg_ratio)\n",
    "        ax4.set_ylabel('Pebbles')\n",
    "        ax4.set_yscale('log')\n",
    "        ax4.set_ylim(1e-4,1e-1)\n",
    "        ax4.plot(dist/AU, cor_peb, label='Aluminum', color='green')\n",
    "        ax4.plot(dist/AU, calc_peb, label='Calcium', color='red')\n",
    "        ax4.plot(dist/AU, for_peb, label='Magnesium', color='blue')\n",
    "        ax4.legend(fontsize='x-small')\n",
    "        ax5.set_ylabel('Pressure')\n",
    "        ax5.set_ylim(1e-2,1e4)\n",
    "        ax5.set_yscale('log')\n",
    "        ax5.plot(dist/AU, press_plot, label='gas', color='purple')\n",
    "        ax6.set_ylabel('Temperature (K)')\n",
    "        ax6.set_yscale('log')\n",
    "        ax6.set_ylim(1e1,1e4)\n",
    "        ax6.plot(dist/AU, temp_plot)\n",
    "    plt.show()\n",
    "    plt.tight_layout()\n",
    "    plt.savefig(f'./Evol_{int(t_plot[-1])}_{filename[14:]}.pdf', transparent=True)"
   ]
  },
  {
   "cell_type": "code",
   "execution_count": 32,
   "id": "02eb7106",
   "metadata": {},
   "outputs": [],
   "source": [
    "def plot_planet():\n",
    "    %matplotlib\n",
    "    t_plot = [0, 10]\n",
    "    filename = 'output'\n",
    "    for time in t_plot:\n",
    "        df = pd.read_csv(filename + '/disk_' + str(int(t_plot[-1])) + '.txt', delimiter=',', header=None)\n",
    "        planet_plot = df[12].to_numpy().astype(np.float)\n",
    "        plt.title('Planetessimal Evolution')\n",
    "        plt.yscale('log')\n",
    "        plt.xlabel('Distance (AU)')\n",
    "        plt.ylabel('Surface Density')\n",
    "        plt.plot(dist/AU, planet_plot)"
   ]
  },
  {
   "cell_type": "code",
   "execution_count": 33,
   "id": "9dc96c88",
   "metadata": {},
   "outputs": [
    {
     "name": "stdout",
     "output_type": "stream",
     "text": [
      "Using matplotlib backend: MacOSX\n"
     ]
    }
   ],
   "source": [
    "plot_planet()"
   ]
  },
  {
   "cell_type": "code",
   "execution_count": null,
   "id": "7f0adbc5",
   "metadata": {},
   "outputs": [],
   "source": []
  },
  {
   "cell_type": "code",
   "execution_count": null,
   "id": "d46de10d",
   "metadata": {},
   "outputs": [],
   "source": [
    "#         cm = pylab.get_cmap('jet') #gist_rainbow\n",
    "#         plt.rcParams['font.family']='sans-serif'\n",
    "#         plt.rcParams['axes.linewidth']= 1.0\n",
    "#         plt.rcParams['font.size']     = 14\n",
    "#         plt.rcParams['figure.figsize']= 4*1.414, 4\n",
    "#         rc('font',**{'family':'sans-serif','sans-serif':['Helvetica']})\n",
    "#         rc('text',usetex=False)\n",
    "#         rc('text.latex', preamble=r'\\usepackage{sfmath}')"
   ]
  },
  {
   "cell_type": "code",
   "execution_count": null,
   "id": "800f5e45",
   "metadata": {},
   "outputs": [],
   "source": []
  },
  {
   "cell_type": "code",
   "execution_count": null,
   "id": "adb8b1f7",
   "metadata": {},
   "outputs": [],
   "source": []
  },
  {
   "cell_type": "code",
   "execution_count": null,
   "id": "a277d337",
   "metadata": {},
   "outputs": [],
   "source": []
  },
  {
   "cell_type": "code",
   "execution_count": null,
   "id": "1b964e37",
   "metadata": {},
   "outputs": [],
   "source": []
  },
  {
   "cell_type": "code",
   "execution_count": null,
   "id": "c6cd2343",
   "metadata": {},
   "outputs": [],
   "source": []
  },
  {
   "cell_type": "code",
   "execution_count": null,
   "id": "77e6b5c9",
   "metadata": {},
   "outputs": [],
   "source": [
    "\n",
    "\n",
    "\n"
   ]
  },
  {
   "cell_type": "code",
   "execution_count": null,
   "id": "0b38097d",
   "metadata": {},
   "outputs": [],
   "source": []
  }
 ],
 "metadata": {
  "kernelspec": {
   "display_name": "Python 3",
   "language": "python",
   "name": "python3"
  },
  "language_info": {
   "codemirror_mode": {
    "name": "ipython",
    "version": 3
   },
   "file_extension": ".py",
   "mimetype": "text/x-python",
   "name": "python",
   "nbconvert_exporter": "python",
   "pygments_lexer": "ipython3",
   "version": "3.8.8"
  }
 },
 "nbformat": 4,
 "nbformat_minor": 5
}
